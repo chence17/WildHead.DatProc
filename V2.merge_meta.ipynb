{
 "cells": [
  {
   "cell_type": "code",
   "execution_count": 1,
   "metadata": {},
   "outputs": [],
   "source": [
    "import os\n",
    "\n",
    "export_root = '/data1/chence/single_view/Exported'\n",
    "json_files = sorted([i for i in os.listdir(export_root) if i.endswith('.json')])"
   ]
  },
  {
   "cell_type": "code",
   "execution_count": 2,
   "metadata": {},
   "outputs": [
    {
     "name": "stdout",
     "output_type": "stream",
     "text": [
      "89721\n"
     ]
    }
   ],
   "source": [
    "import json\n",
    "\n",
    "merged_data = {}\n",
    "for idx in range(len(json_files)):\n",
    "    json_file = json_files[idx]\n",
    "    with open(os.path.join(export_root, json_file), 'r') as f:\n",
    "        data = json.load(f)\n",
    "        merged_data.update(data)\n",
    "print(len(merged_data))"
   ]
  },
  {
   "cell_type": "code",
   "execution_count": 3,
   "metadata": {},
   "outputs": [],
   "source": [
    "exportjpg_root = '/data1/chence/single_view/ExportedJPG'\n",
    "os.makedirs(exportjpg_root, exist_ok=True)\n",
    "\n",
    "with open(os.path.join(exportjpg_root, 'dataset.json'), 'w') as f:\n",
    "    json.dump(merged_data, f)"
   ]
  },
  {
   "cell_type": "code",
   "execution_count": 8,
   "metadata": {},
   "outputs": [
    {
     "data": {
      "text/plain": [
       "0"
      ]
     },
     "execution_count": 8,
     "metadata": {},
     "output_type": "execute_result"
    }
   ],
   "source": [
    "os.system('cp -r %s %s' % (os.path.join(export_root, 'align_parsing'), exportjpg_root))"
   ]
  },
  {
   "cell_type": "code",
   "execution_count": 9,
   "metadata": {},
   "outputs": [
    {
     "data": {
      "text/plain": [
       "0"
      ]
     },
     "execution_count": 9,
     "metadata": {},
     "output_type": "execute_result"
    }
   ],
   "source": [
    "os.system('cp -r %s %s' % (os.path.join(export_root, 'head_parsing'), exportjpg_root))"
   ]
  },
  {
   "cell_type": "code",
   "execution_count": 10,
   "metadata": {},
   "outputs": [],
   "source": [
    "import cv2\n",
    "\n",
    "def work(image_name, export_root, exportjpg_root):\n",
    "    try:\n",
    "        base_folder, base_name = image_name.split('/')\n",
    "        align_png_path = os.path.join(export_root, 'align_images', base_folder, base_name)\n",
    "        assert os.path.exists(align_png_path)\n",
    "        head_png_path = os.path.join(export_root, 'head_images', base_folder, base_name)\n",
    "        assert os.path.exists(head_png_path)\n",
    "        os.makedirs(os.path.join(exportjpg_root, 'align_images', base_folder), exist_ok=True)\n",
    "        os.makedirs(os.path.join(exportjpg_root, 'head_images', base_folder), exist_ok=True)\n",
    "        align_jpg_path = os.path.join(exportjpg_root, 'align_images', base_folder, base_name.replace('.png', '.jpg'))\n",
    "        head_jpg_path = os.path.join(exportjpg_root, 'head_images', base_folder, base_name.replace('.png', '.jpg'))\n",
    "        cv2.imwrite(align_jpg_path, cv2.imread(align_png_path))\n",
    "        cv2.imwrite(head_jpg_path, cv2.imread(head_png_path))\n",
    "    except Exception as e:\n",
    "        print(e)"
   ]
  },
  {
   "cell_type": "code",
   "execution_count": 11,
   "metadata": {},
   "outputs": [],
   "source": [
    "image_names = sorted(merged_data.keys())"
   ]
  },
  {
   "cell_type": "code",
   "execution_count": 12,
   "metadata": {},
   "outputs": [
    {
     "name": "stderr",
     "output_type": "stream",
     "text": [
      "  0%|          | 0/89721 [00:00<?, ?it/s]"
     ]
    },
    {
     "name": "stderr",
     "output_type": "stream",
     "text": [
      "100%|█████████▉| 89718/89721 [48:41<00:00, 63.66it/s]  "
     ]
    },
    {
     "name": "stderr",
     "output_type": "stream",
     "text": [
      "100%|██████████| 89721/89721 [49:00<00:00, 63.66it/s]"
     ]
    }
   ],
   "source": [
    "import multiprocessing as mp\n",
    "from tqdm import tqdm\n",
    "\n",
    "global progress_bar\n",
    "progress_bar = tqdm(total=len(image_names))\n",
    "\n",
    "def update_progress_bar(_):\n",
    "    progress_bar.update()\n",
    "\n",
    "pool = mp.Pool(processes=64)\n",
    "for image_name in image_names:\n",
    "    pool.apply_async(work, (\n",
    "        image_name,\n",
    "        export_root,\n",
    "        exportjpg_root,\n",
    "    ), callback=update_progress_bar)\n",
    "pool.close()\n",
    "pool.join()"
   ]
  },
  {
   "cell_type": "code",
   "execution_count": null,
   "metadata": {},
   "outputs": [],
   "source": []
  }
 ],
 "metadata": {
  "kernelspec": {
   "display_name": "datproc",
   "language": "python",
   "name": "python3"
  },
  "language_info": {
   "codemirror_mode": {
    "name": "ipython",
    "version": 3
   },
   "file_extension": ".py",
   "mimetype": "text/x-python",
   "name": "python",
   "nbconvert_exporter": "python",
   "pygments_lexer": "ipython3",
   "version": "3.8.17"
  },
  "orig_nbformat": 4
 },
 "nbformat": 4,
 "nbformat_minor": 2
}
