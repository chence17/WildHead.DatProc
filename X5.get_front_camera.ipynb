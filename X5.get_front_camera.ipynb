{
 "cells": [
  {
   "cell_type": "markdown",
   "metadata": {},
   "source": [
    "This notebook is created on Oct 21 2023. We need to process all images of k-hairstyle, including its front view images (with mosaic). The core idea is:\n",
    "\n",
    "1. Create a subset of meta file, containing front-view images\n",
    "2. Run processing pipeline to get the camera parameters\n",
    "3. Visualize the results"
   ]
  },
  {
   "cell_type": "markdown",
   "metadata": {},
   "source": [
    "## Create a subset of meta file"
   ]
  },
  {
   "cell_type": "code",
   "execution_count": 1,
   "metadata": {},
   "outputs": [
    {
     "ename": "KeyboardInterrupt",
     "evalue": "",
     "output_type": "error",
     "traceback": [
      "\u001b[0;31m---------------------------------------------------------------------------\u001b[0m",
      "\u001b[0;31mKeyboardInterrupt\u001b[0m                         Traceback (most recent call last)",
      "\u001b[1;32m/home/chence/Research/3DHeadGen/DatProc/X5.get_front_camera.ipynb Cell 3\u001b[0m line \u001b[0;36m3\n\u001b[1;32m      <a href='vscode-notebook-cell://ssh-remote%2B10.26.1.66/home/chence/Research/3DHeadGen/DatProc/X5.get_front_camera.ipynb#W2sdnNjb2RlLXJlbW90ZQ%3D%3D?line=0'>1</a>\u001b[0m \u001b[39mimport\u001b[39;00m \u001b[39mos\u001b[39;00m\n\u001b[1;32m      <a href='vscode-notebook-cell://ssh-remote%2B10.26.1.66/home/chence/Research/3DHeadGen/DatProc/X5.get_front_camera.ipynb#W2sdnNjb2RlLXJlbW90ZQ%3D%3D?line=1'>2</a>\u001b[0m \u001b[39mimport\u001b[39;00m \u001b[39mjson\u001b[39;00m\n\u001b[0;32m----> <a href='vscode-notebook-cell://ssh-remote%2B10.26.1.66/home/chence/Research/3DHeadGen/DatProc/X5.get_front_camera.ipynb#W2sdnNjb2RlLXJlbW90ZQ%3D%3D?line=2'>3</a>\u001b[0m \u001b[39mfrom\u001b[39;00m \u001b[39mutils\u001b[39;00m\u001b[39m.\u001b[39;00m\u001b[39mhead_pose_estimation\u001b[39;00m \u001b[39mimport\u001b[39;00m WHENetHeadPoseEstimator\n\u001b[1;32m      <a href='vscode-notebook-cell://ssh-remote%2B10.26.1.66/home/chence/Research/3DHeadGen/DatProc/X5.get_front_camera.ipynb#W2sdnNjb2RlLXJlbW90ZQ%3D%3D?line=3'>4</a>\u001b[0m pose_estimator \u001b[39m=\u001b[39m WHENetHeadPoseEstimator(weights_file\u001b[39m=\u001b[39m\u001b[39m'\u001b[39m\u001b[39massets/whenet_1x3x224x224_prepost.onnx\u001b[39m\u001b[39m'\u001b[39m)\n\u001b[1;32m      <a href='vscode-notebook-cell://ssh-remote%2B10.26.1.66/home/chence/Research/3DHeadGen/DatProc/X5.get_front_camera.ipynb#W2sdnNjb2RlLXJlbW90ZQ%3D%3D?line=4'>5</a>\u001b[0m src_json_file \u001b[39m=\u001b[39m \u001b[39m'\u001b[39m\u001b[39m/data_new/chence/K-Hairstyle/Training/rawset/meta_1-12.json\u001b[39m\u001b[39m'\u001b[39m\n",
      "File \u001b[0;32m/data_new/chence/Research/3DHeadGen/DatProc/utils/head_pose_estimation.py:3\u001b[0m\n\u001b[1;32m      1\u001b[0m \u001b[39mimport\u001b[39;00m \u001b[39mcv2\u001b[39;00m\n\u001b[1;32m      2\u001b[0m \u001b[39mimport\u001b[39;00m \u001b[39mnumpy\u001b[39;00m \u001b[39mas\u001b[39;00m \u001b[39mnp\u001b[39;00m\n\u001b[0;32m----> 3\u001b[0m \u001b[39mimport\u001b[39;00m \u001b[39mtorch\u001b[39;00m\n\u001b[1;32m      4\u001b[0m \u001b[39mimport\u001b[39;00m \u001b[39monnxruntime\u001b[39;00m\n\u001b[1;32m      5\u001b[0m \u001b[39mfrom\u001b[39;00m \u001b[39mutils\u001b[39;00m\u001b[39m.\u001b[39;00m\u001b[39mhead_detection\u001b[39;00m \u001b[39mimport\u001b[39;00m resize_and_pad_image\n",
      "File \u001b[0;32m~/Miniconda3/envs/datproc/lib/python3.8/site-packages/torch/__init__.py:905\u001b[0m\n\u001b[1;32m    901\u001b[0m \u001b[39mfrom\u001b[39;00m \u001b[39mtorch\u001b[39;00m\u001b[39m.\u001b[39;00m\u001b[39m_classes\u001b[39;00m \u001b[39mimport\u001b[39;00m classes\n\u001b[1;32m    903\u001b[0m \u001b[39m# quantization depends on torch.fx\u001b[39;00m\n\u001b[1;32m    904\u001b[0m \u001b[39m# Import quantization\u001b[39;00m\n\u001b[0;32m--> 905\u001b[0m \u001b[39mfrom\u001b[39;00m \u001b[39mtorch\u001b[39;00m \u001b[39mimport\u001b[39;00m quantization \u001b[39mas\u001b[39;00m quantization\n\u001b[1;32m    907\u001b[0m \u001b[39m# Import the quasi random sampler\u001b[39;00m\n\u001b[1;32m    908\u001b[0m \u001b[39mfrom\u001b[39;00m \u001b[39mtorch\u001b[39;00m \u001b[39mimport\u001b[39;00m quasirandom \u001b[39mas\u001b[39;00m quasirandom\n",
      "File \u001b[0;32m~/Miniconda3/envs/datproc/lib/python3.8/site-packages/torch/quantization/__init__.py:1\u001b[0m\n\u001b[0;32m----> 1\u001b[0m \u001b[39mfrom\u001b[39;00m \u001b[39m.\u001b[39;00m\u001b[39mquantize\u001b[39;00m \u001b[39mimport\u001b[39;00m \u001b[39m*\u001b[39m  \u001b[39m# noqa: F403\u001b[39;00m\n\u001b[1;32m      2\u001b[0m \u001b[39mfrom\u001b[39;00m \u001b[39m.\u001b[39;00m\u001b[39mobserver\u001b[39;00m \u001b[39mimport\u001b[39;00m \u001b[39m*\u001b[39m  \u001b[39m# noqa: F403\u001b[39;00m\n\u001b[1;32m      3\u001b[0m \u001b[39mfrom\u001b[39;00m \u001b[39m.\u001b[39;00m\u001b[39mqconfig\u001b[39;00m \u001b[39mimport\u001b[39;00m \u001b[39m*\u001b[39m  \u001b[39m# noqa: F403\u001b[39;00m\n",
      "File \u001b[0;32m~/Miniconda3/envs/datproc/lib/python3.8/site-packages/torch/quantization/quantize.py:10\u001b[0m\n\u001b[1;32m      1\u001b[0m \u001b[39m# flake8: noqa: F401\u001b[39;00m\n\u001b[1;32m      2\u001b[0m \u001b[39mr\u001b[39m\u001b[39m\"\"\"\u001b[39;00m\n\u001b[1;32m      3\u001b[0m \u001b[39mThis file is in the process of migration to `torch/ao/quantization`, and\u001b[39;00m\n\u001b[1;32m      4\u001b[0m \u001b[39mis kept here for compatibility while the migration process is ongoing.\u001b[39;00m\n\u001b[0;32m   (...)\u001b[0m\n\u001b[1;32m      7\u001b[0m \u001b[39mhere.\u001b[39;00m\n\u001b[1;32m      8\u001b[0m \u001b[39m\"\"\"\u001b[39;00m\n\u001b[0;32m---> 10\u001b[0m \u001b[39mfrom\u001b[39;00m \u001b[39mtorch\u001b[39;00m\u001b[39m.\u001b[39;00m\u001b[39mao\u001b[39;00m\u001b[39m.\u001b[39;00m\u001b[39mquantization\u001b[39;00m\u001b[39m.\u001b[39;00m\u001b[39mquantize\u001b[39;00m \u001b[39mimport\u001b[39;00m _convert\n\u001b[1;32m     11\u001b[0m \u001b[39mfrom\u001b[39;00m \u001b[39mtorch\u001b[39;00m\u001b[39m.\u001b[39;00m\u001b[39mao\u001b[39;00m\u001b[39m.\u001b[39;00m\u001b[39mquantization\u001b[39;00m\u001b[39m.\u001b[39;00m\u001b[39mquantize\u001b[39;00m \u001b[39mimport\u001b[39;00m _observer_forward_hook\n\u001b[1;32m     12\u001b[0m \u001b[39mfrom\u001b[39;00m \u001b[39mtorch\u001b[39;00m\u001b[39m.\u001b[39;00m\u001b[39mao\u001b[39;00m\u001b[39m.\u001b[39;00m\u001b[39mquantization\u001b[39;00m\u001b[39m.\u001b[39;00m\u001b[39mquantize\u001b[39;00m \u001b[39mimport\u001b[39;00m _propagate_qconfig_helper\n",
      "File \u001b[0;32m<frozen importlib._bootstrap>:991\u001b[0m, in \u001b[0;36m_find_and_load\u001b[0;34m(name, import_)\u001b[0m\n",
      "File \u001b[0;32m<frozen importlib._bootstrap>:975\u001b[0m, in \u001b[0;36m_find_and_load_unlocked\u001b[0;34m(name, import_)\u001b[0m\n",
      "File \u001b[0;32m<frozen importlib._bootstrap>:671\u001b[0m, in \u001b[0;36m_load_unlocked\u001b[0;34m(spec)\u001b[0m\n",
      "File \u001b[0;32m<frozen importlib._bootstrap_external>:839\u001b[0m, in \u001b[0;36mexec_module\u001b[0;34m(self, module)\u001b[0m\n",
      "File \u001b[0;32m<frozen importlib._bootstrap_external>:934\u001b[0m, in \u001b[0;36mget_code\u001b[0;34m(self, fullname)\u001b[0m\n",
      "File \u001b[0;32m<frozen importlib._bootstrap_external>:1033\u001b[0m, in \u001b[0;36mget_data\u001b[0;34m(self, path)\u001b[0m\n",
      "\u001b[0;31mKeyboardInterrupt\u001b[0m: "
     ]
    }
   ],
   "source": [
    "import os\n",
    "import json\n",
    "from utils.head_pose_estimation import WHENetHeadPoseEstimator\n",
    "pose_estimator = WHENetHeadPoseEstimator(weights_file='assets/whenet_1x3x224x224_prepost.onnx')\n",
    "src_json_file = '/data_new/chence/K-Hairstyle/Training/rawset/meta_1-12.json'\n",
    "dst_json_file = '/tmp/khs-frontview-test.json'\n",
    "test_sample = 20"
   ]
  },
  {
   "cell_type": "code",
   "execution_count": 9,
   "metadata": {},
   "outputs": [],
   "source": [
    "with open(src_json_file, 'r') as f:\n",
    "    data = json.load(f)"
   ]
  },
  {
   "cell_type": "code",
   "execution_count": 12,
   "metadata": {},
   "outputs": [],
   "source": [
    "_shown = 0\n",
    "front_view_data = {}\n",
    "for key, val in data.items():\n",
    "    view = val[\"head\"][\"00\"].get(\"view\")\n",
    "    if view != 'back':\n",
    "        front_view_data[key] = val\n",
    "        _shown += 1\n",
    "    if _shown == test_sample: break"
   ]
  },
  {
   "cell_type": "code",
   "execution_count": 15,
   "metadata": {},
   "outputs": [
    {
     "name": "stdout",
     "output_type": "stream",
     "text": [
      "images/0003.rawset/0013.보니/0179.CP060315/CP060315-031.jpg {\n",
      "  \"data_source\": \"K-Hairstyle\",\n",
      "  \"raw\": {\n",
      "    \"file_path\": \"images/0003.rawset/0013.\\ubcf4\\ub2c8/0179.CP060315/CP060315-031.jpg\",\n",
      "    \"head_boxes\": {\n",
      "      \"00\": [\n",
      "        361,\n",
      "        166,\n",
      "        2128,\n",
      "        2128\n",
      "      ]\n",
      "    },\n",
      "    \"landmarks\": {\n",
      "      \"00\": null\n",
      "    },\n",
      "    \"raw_quad\": {\n",
      "      \"00\": null\n",
      "    },\n",
      "    \"tgt_quad\": {\n",
      "      \"00\": null\n",
      "    },\n",
      "    \"rot_quad\": {\n",
      "      \"00\": null\n",
      "    },\n",
      "    \"q2b_tf\": {\n",
      "      \"00\": null\n",
      "    },\n",
      "    \"rotmat\": {\n",
      "      \"00\": null\n",
      "    },\n",
      "    \"head_boxes_resize\": 1024\n",
      "  },\n",
      "  \"head\": {\n",
      "    \"00\": {\n",
      "      \"camera\": null,\n",
      "      \"hpose\": null,\n",
      "      \"align_box\": null,\n",
      "      \"align_quad\": null,\n",
      "      \"view\": null,\n",
      "      \"align_image_path\": null\n",
      "    }\n",
      "  }\n",
      "}\n"
     ]
    }
   ],
   "source": [
    "for key, val in front_view_data.items():\n",
    "    print(key, json.dumps(val, indent=2))\n",
    "    break"
   ]
  },
  {
   "cell_type": "code",
   "execution_count": null,
   "metadata": {},
   "outputs": [],
   "source": []
  }
 ],
 "metadata": {
  "kernelspec": {
   "display_name": "datproc",
   "language": "python",
   "name": "python3"
  },
  "language_info": {
   "codemirror_mode": {
    "name": "ipython",
    "version": 3
   },
   "file_extension": ".py",
   "mimetype": "text/x-python",
   "name": "python",
   "nbconvert_exporter": "python",
   "pygments_lexer": "ipython3",
   "version": "3.8.17"
  }
 },
 "nbformat": 4,
 "nbformat_minor": 2
}
