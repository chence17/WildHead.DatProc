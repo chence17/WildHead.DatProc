{
 "cells": [
  {
   "cell_type": "code",
   "execution_count": 1,
   "metadata": {},
   "outputs": [
    {
     "name": "stderr",
     "output_type": "stream",
     "text": [
      "  0%|          | 0/3 [00:00<?, ?it/s]"
     ]
    },
    {
     "name": "stderr",
     "output_type": "stream",
     "text": [
      "100%|██████████| 3/3 [00:04<00:00,  1.61s/it]\n",
      "100%|██████████| 4/4 [00:08<00:00,  2.19s/it]\n"
     ]
    }
   ],
   "source": [
    "import os\n",
    "import os.path as osp\n",
    "import tqdm\n",
    "\n",
    "def get_subdirs(dirname):\n",
    "    return [i for i in os.listdir(dirname) if osp.isdir(osp.join(dirname, i))]\n",
    "\n",
    "data_root = \"/home/ce.chen/chence/Data/Datasets/Head/Web20240228\"\n",
    "data_type = \"data_rare\"\n",
    "img_src_dir = osp.join(data_root, data_type)\n",
    "img_src_parts = get_subdirs(img_src_dir)\n",
    "\n",
    "total_num = 0\n",
    "process_dict = {}\n",
    "start_index = 2000000\n",
    "for img_src_part in img_src_parts:\n",
    "    img_src_sites = get_subdirs(osp.join(img_src_dir, img_src_part))\n",
    "    for img_src_site in tqdm.tqdm(img_src_sites):\n",
    "        img_src_tags = get_subdirs(osp.join(img_src_dir, img_src_part, img_src_site))\n",
    "        for img_src_tag in img_src_tags:\n",
    "            img_src_sub_dir = osp.join(img_src_dir, img_src_part, img_src_site, img_src_tag)\n",
    "            img_src_names = sorted(os.listdir(img_src_sub_dir))\n",
    "            total_num += len(img_src_names)\n",
    "            for img_src_name in img_src_names:\n",
    "                folder_name = f\"{start_index // 1000:05d}\"\n",
    "                image_prefix = f\"img{start_index:08d}\"\n",
    "                pkey = f\"{folder_name}/{image_prefix}\"\n",
    "                process_dict[pkey] = osp.join(img_src_sub_dir, img_src_name)\n",
    "                start_index += 1\n"
   ]
  },
  {
   "cell_type": "code",
   "execution_count": 2,
   "metadata": {},
   "outputs": [
    {
     "data": {
      "text/plain": [
       "990740"
      ]
     },
     "execution_count": 2,
     "metadata": {},
     "output_type": "execute_result"
    }
   ],
   "source": [
    "len(process_dict)"
   ]
  },
  {
   "cell_type": "code",
   "execution_count": 4,
   "metadata": {},
   "outputs": [],
   "source": [
    "import json\n",
    "\n",
    "with open(\"Web20240303_data_rare_process_dict.json\", \"w\") as f:\n",
    "    json.dump(process_dict, f, indent=4)"
   ]
  },
  {
   "cell_type": "code",
   "execution_count": 3,
   "metadata": {},
   "outputs": [],
   "source": [
    "# import os\n",
    "\n",
    "# view_json_files = []\n",
    "# for i in os.listdir('/home/ce.chen/chence/Workspace/3DHead/DatProc'):\n",
    "#     if i.startswith('view_') and i.endswith(\".json\"):\n",
    "#         view_json_files.append(i)\n",
    "# view_json_files = sorted(view_json_files)\n",
    "# print(view_json_files)\n",
    "\n",
    "# import json\n",
    "\n",
    "# view_dict = {}\n",
    "# for view_json_file in view_json_files:\n",
    "#     with open(view_json_file, \"r\") as file:\n",
    "#         view_dict.update(json.load(file))\n",
    "\n",
    "# with open(\"Web20240303_data_rare_view_dict.json\", \"w\") as file:\n",
    "#     json.dump(view_dict, file, indent=4)"
   ]
  },
  {
   "cell_type": "code",
   "execution_count": 2,
   "metadata": {},
   "outputs": [
    {
     "name": "stdout",
     "output_type": "stream",
     "text": [
      "02000/img02000001 /home/ce.chen/chence/Data/Datasets/Head/Web20240228/data_rare/WebA/flickr/Shaggy Waves Hair back view NP/000002.jpg front\n"
     ]
    }
   ],
   "source": [
    "import json\n",
    "\n",
    "with open(\"outputs/Web20240303_data_rare_process_dict.json\", \"r\") as file:\n",
    "    process_dict = json.load(file)\n",
    "\n",
    "with open(\"outputs/Web20240303_data_rare_view_dict.json\", \"r\") as file:\n",
    "    view_dict = json.load(file)\n",
    "\n",
    "non_bv_dict = {}\n",
    "\n",
    "for k, v in process_dict.items():\n",
    "    if (view_dict[k] != 'back') and (view_dict[k] is not None):\n",
    "        print(k, v, view_dict[k])\n",
    "        non_bv_dict[k] = v\n",
    "        break"
   ]
  },
  {
   "cell_type": "code",
   "execution_count": 3,
   "metadata": {},
   "outputs": [
    {
     "data": {
      "text/plain": [
       "990740"
      ]
     },
     "execution_count": 3,
     "metadata": {},
     "output_type": "execute_result"
    }
   ],
   "source": [
    "len(process_dict)"
   ]
  },
  {
   "cell_type": "code",
   "execution_count": 2,
   "metadata": {},
   "outputs": [
    {
     "data": {
      "text/plain": [
       "509544"
      ]
     },
     "execution_count": 2,
     "metadata": {},
     "output_type": "execute_result"
    }
   ],
   "source": [
    "len(non_bv_dict)"
   ]
  },
  {
   "cell_type": "code",
   "execution_count": 4,
   "metadata": {},
   "outputs": [],
   "source": [
    "with open(\"outputs/Web20240303_data_rare_nbv_dict.json\", \"w\") as file:\n",
    "    json.dump(non_bv_dict, file, indent=4)"
   ]
  },
  {
   "cell_type": "code",
   "execution_count": 1,
   "metadata": {},
   "outputs": [
    {
     "name": "stdout",
     "output_type": "stream",
     "text": [
      "- [ ] CUDA_VISIBLE_DEVICES=0 python process0303_nbv.py --start_index 0 --end_index 10000 --process_dict outputs/Web20240303_data_rare_nbv_dict.json --output_dir outputs/Web20240303_data_rare_nbv\n",
      "- [ ] CUDA_VISIBLE_DEVICES=0 python process0303_nbv.py --start_index 10000 --end_index 20000 --process_dict outputs/Web20240303_data_rare_nbv_dict.json --output_dir outputs/Web20240303_data_rare_nbv\n",
      "- [ ] CUDA_VISIBLE_DEVICES=0 python process0303_nbv.py --start_index 20000 --end_index 30000 --process_dict outputs/Web20240303_data_rare_nbv_dict.json --output_dir outputs/Web20240303_data_rare_nbv\n",
      "- [ ] CUDA_VISIBLE_DEVICES=0 python process0303_nbv.py --start_index 30000 --end_index 40000 --process_dict outputs/Web20240303_data_rare_nbv_dict.json --output_dir outputs/Web20240303_data_rare_nbv\n",
      "- [ ] CUDA_VISIBLE_DEVICES=0 python process0303_nbv.py --start_index 40000 --end_index 50000 --process_dict outputs/Web20240303_data_rare_nbv_dict.json --output_dir outputs/Web20240303_data_rare_nbv\n",
      "- [ ] CUDA_VISIBLE_DEVICES=0 python process0303_nbv.py --start_index 50000 --end_index 60000 --process_dict outputs/Web20240303_data_rare_nbv_dict.json --output_dir outputs/Web20240303_data_rare_nbv\n",
      "- [ ] CUDA_VISIBLE_DEVICES=0 python process0303_nbv.py --start_index 60000 --end_index 70000 --process_dict outputs/Web20240303_data_rare_nbv_dict.json --output_dir outputs/Web20240303_data_rare_nbv\n",
      "- [ ] CUDA_VISIBLE_DEVICES=0 python process0303_nbv.py --start_index 70000 --end_index 80000 --process_dict outputs/Web20240303_data_rare_nbv_dict.json --output_dir outputs/Web20240303_data_rare_nbv\n",
      "- [ ] CUDA_VISIBLE_DEVICES=0 python process0303_nbv.py --start_index 80000 --end_index 90000 --process_dict outputs/Web20240303_data_rare_nbv_dict.json --output_dir outputs/Web20240303_data_rare_nbv\n",
      "- [ ] CUDA_VISIBLE_DEVICES=0 python process0303_nbv.py --start_index 90000 --end_index 100000 --process_dict outputs/Web20240303_data_rare_nbv_dict.json --output_dir outputs/Web20240303_data_rare_nbv\n",
      "- [ ] CUDA_VISIBLE_DEVICES=0 python process0303_nbv.py --start_index 100000 --end_index 110000 --process_dict outputs/Web20240303_data_rare_nbv_dict.json --output_dir outputs/Web20240303_data_rare_nbv\n",
      "- [ ] CUDA_VISIBLE_DEVICES=0 python process0303_nbv.py --start_index 110000 --end_index 120000 --process_dict outputs/Web20240303_data_rare_nbv_dict.json --output_dir outputs/Web20240303_data_rare_nbv\n",
      "- [ ] CUDA_VISIBLE_DEVICES=0 python process0303_nbv.py --start_index 120000 --end_index 130000 --process_dict outputs/Web20240303_data_rare_nbv_dict.json --output_dir outputs/Web20240303_data_rare_nbv\n",
      "- [ ] CUDA_VISIBLE_DEVICES=0 python process0303_nbv.py --start_index 130000 --end_index 140000 --process_dict outputs/Web20240303_data_rare_nbv_dict.json --output_dir outputs/Web20240303_data_rare_nbv\n",
      "- [ ] CUDA_VISIBLE_DEVICES=0 python process0303_nbv.py --start_index 140000 --end_index 150000 --process_dict outputs/Web20240303_data_rare_nbv_dict.json --output_dir outputs/Web20240303_data_rare_nbv\n",
      "- [ ] CUDA_VISIBLE_DEVICES=0 python process0303_nbv.py --start_index 150000 --end_index 160000 --process_dict outputs/Web20240303_data_rare_nbv_dict.json --output_dir outputs/Web20240303_data_rare_nbv\n",
      "- [ ] CUDA_VISIBLE_DEVICES=0 python process0303_nbv.py --start_index 160000 --end_index 170000 --process_dict outputs/Web20240303_data_rare_nbv_dict.json --output_dir outputs/Web20240303_data_rare_nbv\n",
      "- [ ] CUDA_VISIBLE_DEVICES=0 python process0303_nbv.py --start_index 170000 --end_index 180000 --process_dict outputs/Web20240303_data_rare_nbv_dict.json --output_dir outputs/Web20240303_data_rare_nbv\n",
      "- [ ] CUDA_VISIBLE_DEVICES=0 python process0303_nbv.py --start_index 180000 --end_index 190000 --process_dict outputs/Web20240303_data_rare_nbv_dict.json --output_dir outputs/Web20240303_data_rare_nbv\n",
      "- [ ] CUDA_VISIBLE_DEVICES=0 python process0303_nbv.py --start_index 190000 --end_index 200000 --process_dict outputs/Web20240303_data_rare_nbv_dict.json --output_dir outputs/Web20240303_data_rare_nbv\n",
      "- [ ] CUDA_VISIBLE_DEVICES=0 python process0303_nbv.py --start_index 200000 --end_index 210000 --process_dict outputs/Web20240303_data_rare_nbv_dict.json --output_dir outputs/Web20240303_data_rare_nbv\n",
      "- [ ] CUDA_VISIBLE_DEVICES=0 python process0303_nbv.py --start_index 210000 --end_index 220000 --process_dict outputs/Web20240303_data_rare_nbv_dict.json --output_dir outputs/Web20240303_data_rare_nbv\n",
      "- [ ] CUDA_VISIBLE_DEVICES=0 python process0303_nbv.py --start_index 220000 --end_index 230000 --process_dict outputs/Web20240303_data_rare_nbv_dict.json --output_dir outputs/Web20240303_data_rare_nbv\n",
      "- [ ] CUDA_VISIBLE_DEVICES=0 python process0303_nbv.py --start_index 230000 --end_index 240000 --process_dict outputs/Web20240303_data_rare_nbv_dict.json --output_dir outputs/Web20240303_data_rare_nbv\n",
      "- [ ] CUDA_VISIBLE_DEVICES=0 python process0303_nbv.py --start_index 240000 --end_index 250000 --process_dict outputs/Web20240303_data_rare_nbv_dict.json --output_dir outputs/Web20240303_data_rare_nbv\n",
      "- [ ] CUDA_VISIBLE_DEVICES=0 python process0303_nbv.py --start_index 250000 --end_index 260000 --process_dict outputs/Web20240303_data_rare_nbv_dict.json --output_dir outputs/Web20240303_data_rare_nbv\n",
      "- [ ] CUDA_VISIBLE_DEVICES=0 python process0303_nbv.py --start_index 260000 --end_index 270000 --process_dict outputs/Web20240303_data_rare_nbv_dict.json --output_dir outputs/Web20240303_data_rare_nbv\n",
      "- [ ] CUDA_VISIBLE_DEVICES=0 python process0303_nbv.py --start_index 270000 --end_index 280000 --process_dict outputs/Web20240303_data_rare_nbv_dict.json --output_dir outputs/Web20240303_data_rare_nbv\n",
      "- [ ] CUDA_VISIBLE_DEVICES=0 python process0303_nbv.py --start_index 280000 --end_index 290000 --process_dict outputs/Web20240303_data_rare_nbv_dict.json --output_dir outputs/Web20240303_data_rare_nbv\n",
      "- [ ] CUDA_VISIBLE_DEVICES=0 python process0303_nbv.py --start_index 290000 --end_index 300000 --process_dict outputs/Web20240303_data_rare_nbv_dict.json --output_dir outputs/Web20240303_data_rare_nbv\n",
      "- [ ] CUDA_VISIBLE_DEVICES=0 python process0303_nbv.py --start_index 300000 --end_index 310000 --process_dict outputs/Web20240303_data_rare_nbv_dict.json --output_dir outputs/Web20240303_data_rare_nbv\n",
      "- [ ] CUDA_VISIBLE_DEVICES=0 python process0303_nbv.py --start_index 310000 --end_index 320000 --process_dict outputs/Web20240303_data_rare_nbv_dict.json --output_dir outputs/Web20240303_data_rare_nbv\n",
      "- [ ] CUDA_VISIBLE_DEVICES=0 python process0303_nbv.py --start_index 320000 --end_index 330000 --process_dict outputs/Web20240303_data_rare_nbv_dict.json --output_dir outputs/Web20240303_data_rare_nbv\n",
      "- [ ] CUDA_VISIBLE_DEVICES=0 python process0303_nbv.py --start_index 330000 --end_index 340000 --process_dict outputs/Web20240303_data_rare_nbv_dict.json --output_dir outputs/Web20240303_data_rare_nbv\n",
      "- [ ] CUDA_VISIBLE_DEVICES=0 python process0303_nbv.py --start_index 340000 --end_index 350000 --process_dict outputs/Web20240303_data_rare_nbv_dict.json --output_dir outputs/Web20240303_data_rare_nbv\n",
      "- [ ] CUDA_VISIBLE_DEVICES=0 python process0303_nbv.py --start_index 350000 --end_index 360000 --process_dict outputs/Web20240303_data_rare_nbv_dict.json --output_dir outputs/Web20240303_data_rare_nbv\n",
      "- [ ] CUDA_VISIBLE_DEVICES=0 python process0303_nbv.py --start_index 360000 --end_index 370000 --process_dict outputs/Web20240303_data_rare_nbv_dict.json --output_dir outputs/Web20240303_data_rare_nbv\n",
      "- [ ] CUDA_VISIBLE_DEVICES=0 python process0303_nbv.py --start_index 370000 --end_index 380000 --process_dict outputs/Web20240303_data_rare_nbv_dict.json --output_dir outputs/Web20240303_data_rare_nbv\n",
      "- [ ] CUDA_VISIBLE_DEVICES=0 python process0303_nbv.py --start_index 380000 --end_index 390000 --process_dict outputs/Web20240303_data_rare_nbv_dict.json --output_dir outputs/Web20240303_data_rare_nbv\n",
      "- [ ] CUDA_VISIBLE_DEVICES=0 python process0303_nbv.py --start_index 390000 --end_index 400000 --process_dict outputs/Web20240303_data_rare_nbv_dict.json --output_dir outputs/Web20240303_data_rare_nbv\n",
      "- [ ] CUDA_VISIBLE_DEVICES=0 python process0303_nbv.py --start_index 400000 --end_index 410000 --process_dict outputs/Web20240303_data_rare_nbv_dict.json --output_dir outputs/Web20240303_data_rare_nbv\n",
      "- [ ] CUDA_VISIBLE_DEVICES=0 python process0303_nbv.py --start_index 410000 --end_index 420000 --process_dict outputs/Web20240303_data_rare_nbv_dict.json --output_dir outputs/Web20240303_data_rare_nbv\n",
      "- [ ] CUDA_VISIBLE_DEVICES=0 python process0303_nbv.py --start_index 420000 --end_index 430000 --process_dict outputs/Web20240303_data_rare_nbv_dict.json --output_dir outputs/Web20240303_data_rare_nbv\n",
      "- [ ] CUDA_VISIBLE_DEVICES=0 python process0303_nbv.py --start_index 430000 --end_index 440000 --process_dict outputs/Web20240303_data_rare_nbv_dict.json --output_dir outputs/Web20240303_data_rare_nbv\n",
      "- [ ] CUDA_VISIBLE_DEVICES=0 python process0303_nbv.py --start_index 440000 --end_index 450000 --process_dict outputs/Web20240303_data_rare_nbv_dict.json --output_dir outputs/Web20240303_data_rare_nbv\n",
      "- [ ] CUDA_VISIBLE_DEVICES=0 python process0303_nbv.py --start_index 450000 --end_index 460000 --process_dict outputs/Web20240303_data_rare_nbv_dict.json --output_dir outputs/Web20240303_data_rare_nbv\n",
      "- [ ] CUDA_VISIBLE_DEVICES=0 python process0303_nbv.py --start_index 460000 --end_index 470000 --process_dict outputs/Web20240303_data_rare_nbv_dict.json --output_dir outputs/Web20240303_data_rare_nbv\n",
      "- [ ] CUDA_VISIBLE_DEVICES=0 python process0303_nbv.py --start_index 470000 --end_index 480000 --process_dict outputs/Web20240303_data_rare_nbv_dict.json --output_dir outputs/Web20240303_data_rare_nbv\n",
      "- [ ] CUDA_VISIBLE_DEVICES=0 python process0303_nbv.py --start_index 480000 --end_index 490000 --process_dict outputs/Web20240303_data_rare_nbv_dict.json --output_dir outputs/Web20240303_data_rare_nbv\n",
      "- [ ] CUDA_VISIBLE_DEVICES=0 python process0303_nbv.py --start_index 490000 --end_index 500000 --process_dict outputs/Web20240303_data_rare_nbv_dict.json --output_dir outputs/Web20240303_data_rare_nbv\n",
      "- [ ] CUDA_VISIBLE_DEVICES=0 python process0303_nbv.py --start_index 500000 --end_index 510000 --process_dict outputs/Web20240303_data_rare_nbv_dict.json --output_dir outputs/Web20240303_data_rare_nbv\n"
     ]
    }
   ],
   "source": [
    "nk = 10000\n",
    "for i in range(51):\n",
    "    print(f\"- [ ] CUDA_VISIBLE_DEVICES=0 python process0303_nbv.py --start_index {i*nk} --end_index {(i+1)*nk} --process_dict outputs/Web20240303_data_rare_nbv_dict.json --output_dir outputs/Web20240303_data_rare_nbv\")"
   ]
  }
 ],
 "metadata": {
  "kernelspec": {
   "display_name": "3ddfav2",
   "language": "python",
   "name": "python3"
  },
  "language_info": {
   "codemirror_mode": {
    "name": "ipython",
    "version": 3
   },
   "file_extension": ".py",
   "mimetype": "text/x-python",
   "name": "python",
   "nbconvert_exporter": "python",
   "pygments_lexer": "ipython3",
   "version": "3.9.16"
  }
 },
 "nbformat": 4,
 "nbformat_minor": 2
}
