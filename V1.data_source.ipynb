{
 "cells": [
  {
   "cell_type": "code",
   "execution_count": 1,
   "metadata": {},
   "outputs": [],
   "source": [
    "import os\n",
    "import json\n",
    "import numpy as np\n",
    "from PIL import Image\n"
   ]
  },
  {
   "cell_type": "code",
   "execution_count": 54,
   "metadata": {},
   "outputs": [
    {
     "name": "stdout",
     "output_type": "stream",
     "text": [
      "data_root /data_new/chence/CelebA/Img/img_celeba.7z\n",
      "data_source CelebA\n"
     ]
    }
   ],
   "source": [
    "data_root = '/data_new/chence/CelebA/Img/img_celeba.7z'\n",
    "data_source = 'CelebA'\n",
    "print('data_root', data_root)\n",
    "print('data_source', data_source)\n"
   ]
  },
  {
   "cell_type": "code",
   "execution_count": 55,
   "metadata": {},
   "outputs": [
    {
     "name": "stdout",
     "output_type": "stream",
     "text": [
      "['meta_1-3.json', 'meta_2-3.json', 'meta_3-3.json']\n"
     ]
    }
   ],
   "source": [
    "align_images_dir = os.path.join(data_root, 'align_images')\n",
    "align_parsing_dir = os.path.join(data_root, 'align_parsing')\n",
    "head_images_dir = os.path.join(data_root, 'head_images')\n",
    "head_parsing_dir = os.path.join(data_root, 'head_parsing')\n",
    "assert os.path.exists(align_images_dir)\n",
    "assert os.path.exists(align_parsing_dir)\n",
    "assert os.path.exists(head_images_dir)\n",
    "assert os.path.exists(head_parsing_dir)\n",
    "\n",
    "meta_files = [i for i in os.listdir(data_root) if i.endswith('.json') and i.startswith('meta')]\n",
    "meta_files = sorted(meta_files, key=lambda x: int(x.split('_')[1].split('.')[0].split('-')[0]))\n",
    "print(meta_files)"
   ]
  },
  {
   "cell_type": "code",
   "execution_count": 56,
   "metadata": {},
   "outputs": [],
   "source": [
    "def get_cam_coords(c2w):\n",
    "    # World Coordinate System: x(right), y(up), z(forward)\n",
    "    T = c2w[:3, 3]\n",
    "    x, y, z = T\n",
    "    r = np.sqrt(x**2+y**2+z**2)\n",
    "    # theta = np.rad2deg(np.arctan(np.sqrt(x**2+z**2)/y))\n",
    "    theta = np.rad2deg(np.arctan2(x, z))\n",
    "    if theta >= -90 and theta <= 90:\n",
    "        theta += 90\n",
    "    elif theta>=-180 and theta < -90:\n",
    "        theta += 90\n",
    "    elif theta>90 and theta <= 180:\n",
    "        theta -= 270\n",
    "    else:\n",
    "        raise ValueError('theta out of range')\n",
    "    # phi = np.rad2deg(np.arctan(z/x))+180\n",
    "    phi = np.rad2deg(np.arccos(y/r))\n",
    "    return [theta, phi, r, x, y, z] # [:3] sperical cood, [3:] cartesian cood"
   ]
  },
  {
   "cell_type": "code",
   "execution_count": 78,
   "metadata": {},
   "outputs": [
    {
     "name": "stdout",
     "output_type": "stream",
     "text": [
      "meta_idx meta_3-3.json\n"
     ]
    }
   ],
   "source": [
    "meta_idx = 2\n",
    "\n",
    "print('meta_idx', meta_files[meta_idx])\n",
    "with open(os.path.join(data_root, meta_files[meta_idx]), 'r') as f:\n",
    "    cur_meta_data = json.load(f)"
   ]
  },
  {
   "cell_type": "code",
   "execution_count": 79,
   "metadata": {},
   "outputs": [
    {
     "data": {
      "text/plain": [
       "'CelebA'"
      ]
     },
     "execution_count": 79,
     "metadata": {},
     "output_type": "execute_result"
    }
   ],
   "source": [
    "cur_meta_data['img_celeba/000085.jpg']['data_source']"
   ]
  },
  {
   "cell_type": "code",
   "execution_count": 13,
   "metadata": {},
   "outputs": [],
   "source": [
    "# vis = True\n",
    "\n",
    "import tqdm\n",
    "\n",
    "# for k in tqdm.tqdm(cur_meta_data.keys()):\n",
    "#     # print(k, cur_meta_data[k]['data_source'])\n",
    "#     if cur_meta_data[k]['data_source'] != data_source:\n",
    "#         cur_meta_data[k]['data_source'] = data_source\n",
    "#     for hk in cur_meta_data[k]['head'].keys():\n",
    "#         if cur_meta_data[k]['head'][hk]['camera'] is None:\n",
    "#             print('camera is None')\n",
    "#             del cur_meta_data[k]['head'][hk]\n",
    "#             continue\n",
    "#         cur_cam = cur_meta_data[k]['head'][hk]['camera']\n",
    "#         cur_TMatrix = np.array(cur_cam[:16]).reshape(4, 4)\n",
    "#         cur_cam_scoord = get_cam_coords(cur_TMatrix)\n",
    "#         cur_meta_data[k]['head'][hk][\"camera_scoord\"] = cur_cam_scoord\n",
    "#         # front [45, 135]\n",
    "#         # right [-45, 45]\n",
    "#         # back [-135, -45]\n",
    "#         # left [-180, -135], [135, 180]\n",
    "#         theta = cur_cam_scoord[0]\n",
    "#         if theta >= -45 and theta <= 45:\n",
    "#             cur_meta_data[k]['head'][hk]['view'] = 'right'\n",
    "#         elif theta >= 45 and theta <= 135:\n",
    "#             cur_meta_data[k]['head'][hk]['view'] = 'front'\n",
    "#         elif theta >= -135 and theta <= -45:\n",
    "#             cur_meta_data[k]['head'][hk]['view'] = 'back'\n",
    "#         else:\n",
    "#             cur_meta_data[k]['head'][hk]['view'] = 'left'\n",
    "#     if cur_meta_data[k]['head'] == {}:\n",
    "#         print('head is None')\n",
    "#         del cur_meta_data[k]\n",
    "#         continue"
   ]
  },
  {
   "cell_type": "code",
   "execution_count": 14,
   "metadata": {},
   "outputs": [],
   "source": [
    "# front_flag = False\n",
    "# right_flag = False\n",
    "# back_flag = False\n",
    "# left_flag = False\n",
    "\n",
    "import cv2\n",
    "from utils.tool import render_camera\n",
    "\n",
    "# def show_render_check(cur_dt, data_root):\n",
    "#     cam = np.array(cur_dt['camera'])\n",
    "#     r_img = render_camera(cam)\n",
    "#     h, w = r_img.shape[:2]\n",
    "#     a_img = cv2.imread(os.path.join(data_root, cur_dt['align_image_path']))\n",
    "#     a_img = cv2.cvtColor(a_img, cv2.COLOR_BGR2RGB)\n",
    "#     a_img = cv2.resize(a_img, (h, w))\n",
    "#     vis_img = np.hstack([r_img, a_img])\n",
    "#     display(Image.fromarray(vis_img))\n",
    "\n",
    "# for k in tqdm.tqdm(cur_meta_data.keys()):\n",
    "#     assert cur_meta_data[k]['data_source'] == data_source\n",
    "#     for hk in cur_meta_data[k]['head'].keys():\n",
    "#         assert cur_meta_data[k]['head'][hk]['camera'] is not None\n",
    "#         cur_dt = cur_meta_data[k]['head'][hk]\n",
    "#         if not front_flag:\n",
    "#             if cur_dt['view'] == 'front':\n",
    "#                 print(cur_dt['view'])\n",
    "#                 show_render_check(cur_dt, data_root)\n",
    "#                 front_flag = True\n",
    "#         if not right_flag:\n",
    "#             if cur_dt['view'] == 'right':\n",
    "#                 print(cur_dt['view'])\n",
    "#                 show_render_check(cur_dt, data_root)\n",
    "#                 right_flag = True\n",
    "#         if not back_flag:\n",
    "#             if cur_dt['view'] == 'back':\n",
    "#                 print(cur_dt['view'])\n",
    "#                 show_render_check(cur_dt, data_root)\n",
    "#                 back_flag = True\n",
    "#         if not left_flag:\n",
    "#             if cur_dt['view'] == 'left':\n",
    "#                 print(cur_dt['view'])\n",
    "#                 show_render_check(cur_dt, data_root)\n",
    "#                 left_flag = True"
   ]
  },
  {
   "cell_type": "code",
   "execution_count": 15,
   "metadata": {},
   "outputs": [],
   "source": [
    "# with open(os.path.join(data_root, meta_files[meta_idx]), 'w') as f:\n",
    "#     json.dump(cur_meta_data, f, indent=4)"
   ]
  },
  {
   "cell_type": "code",
   "execution_count": 81,
   "metadata": {},
   "outputs": [],
   "source": [
    "export_dir = '/data_new/chence/Exported'\n",
    "os.makedirs(export_dir, exist_ok=True)\n",
    "\n",
    "export_align_images_dir = os.path.join(export_dir, 'align_images')\n",
    "export_align_parsing_dir = os.path.join(export_dir, 'align_parsing')\n",
    "export_head_images_dir = os.path.join(export_dir, 'head_images')\n",
    "export_head_parsing_dir = os.path.join(export_dir, 'head_parsing')\n",
    "os.makedirs(export_align_images_dir, exist_ok=True)\n",
    "os.makedirs(export_align_parsing_dir, exist_ok=True)\n",
    "os.makedirs(export_head_images_dir, exist_ok=True)\n",
    "os.makedirs(export_head_parsing_dir, exist_ok=True)\n",
    "\n",
    "# export_start_idx = 0+7600+562+847+10168+10174+6316+10000+10000+5780+17951+10323\n",
    "export_start_idx = 0+7600+562+847+10168+10174+6316\n",
    "export_meta_json = os.path.join(export_dir, f'meta_{export_start_idx:07d}.json')\n",
    "export_meta_dict = {}\n"
   ]
  },
  {
   "cell_type": "code",
   "execution_count": 82,
   "metadata": {},
   "outputs": [
    {
     "data": {
      "text/plain": [
       "'/data_new/chence/Exported/meta_0029351.json'"
      ]
     },
     "execution_count": 82,
     "metadata": {},
     "output_type": "execute_result"
    }
   ],
   "source": [
    "export_meta_json"
   ]
  },
  {
   "cell_type": "code",
   "execution_count": 83,
   "metadata": {},
   "outputs": [
    {
     "name": "stderr",
     "output_type": "stream",
     "text": [
      "100%|██████████| 6212/6212 [00:00<00:00, 277284.27it/s]\n"
     ]
    }
   ],
   "source": [
    "for k in tqdm.tqdm(cur_meta_data.keys()):\n",
    "    for hk in cur_meta_data[k]['head'].keys():\n",
    "        export_folder = str(export_start_idx // 1000).zfill(5)\n",
    "        export_name = 'img'+str(export_start_idx).zfill(8)+'.png'\n",
    "        export_key = f'{export_folder}/{export_name}'\n",
    "        export_meta_dict[export_key] = {'data_source': data_source}\n",
    "        export_meta_dict[export_key].update(cur_meta_data[k]['head'][hk])\n",
    "        export_start_idx += 1"
   ]
  },
  {
   "cell_type": "code",
   "execution_count": 84,
   "metadata": {},
   "outputs": [],
   "source": [
    "def work(export_key, data_item, data_root, export_align_images_dir, export_align_parsing_dir, export_head_images_dir, export_head_parsing_dir):\n",
    "    try:\n",
    "        export_folder = export_key.split('/')[0]\n",
    "        export_align_image_folder = os.path.join(export_align_images_dir, export_folder)\n",
    "        export_align_parsing_folder = os.path.join(export_align_parsing_dir, export_folder)\n",
    "        export_head_image_folder = os.path.join(export_head_images_dir, export_folder)\n",
    "        export_head_parsing_folder = os.path.join(export_head_parsing_dir, export_folder)\n",
    "        os.makedirs(export_align_image_folder, exist_ok=True)\n",
    "        os.makedirs(export_align_parsing_folder, exist_ok=True)\n",
    "        os.makedirs(export_head_image_folder, exist_ok=True)\n",
    "        os.makedirs(export_head_parsing_folder, exist_ok=True)\n",
    "\n",
    "        export_align_image_path = os.path.join(export_align_images_dir, export_key)\n",
    "        export_align_parsing_path = os.path.join(export_align_parsing_dir, export_key)\n",
    "        export_head_image_path = os.path.join(export_head_images_dir, export_key)\n",
    "        export_head_parsing_path = os.path.join(export_head_parsing_dir, export_key)\n",
    "\n",
    "        cur_align_image_path = os.path.join(data_root, data_item['align_image_path'])\n",
    "        assert os.path.exists(cur_align_image_path)\n",
    "        if cur_align_image_path.endswith('.png') or cur_align_image_path.endswith('.PNG'):\n",
    "            os.system(f'cp {cur_align_image_path} {export_align_image_path}')\n",
    "        else:\n",
    "            cur_align_image_data = cv2.imread(cur_align_image_path)\n",
    "            cv2.imwrite(export_align_image_path, cur_align_image_data)\n",
    "\n",
    "        cur_align_parsing_path = os.path.join(data_root, data_item['align_parsing_path'])\n",
    "        assert os.path.exists(cur_align_parsing_path)\n",
    "        assert cur_align_parsing_path.endswith('.png') or cur_align_parsing_path.endswith('.PNG')\n",
    "        os.system(f'cp {cur_align_parsing_path} {export_align_parsing_path}')\n",
    "\n",
    "        cur_head_image_path = os.path.join(data_root, data_item['head_image_path'])\n",
    "        assert os.path.exists(cur_head_image_path)\n",
    "        if cur_head_image_path.endswith('.png') or cur_head_image_path.endswith('.PNG'):\n",
    "            os.system(f'cp {cur_head_image_path} {export_head_image_path}')\n",
    "        else:\n",
    "            cur_head_image_data = cv2.imread(cur_head_image_path)\n",
    "            cv2.imwrite(export_head_image_path, cur_head_image_data)\n",
    "\n",
    "        cur_head_parsing_path = os.path.join(data_root, data_item['head_parsing_path'])\n",
    "        assert os.path.exists(cur_head_parsing_path)\n",
    "        assert cur_head_parsing_path.endswith('.png') or cur_head_parsing_path.endswith('.PNG')\n",
    "        os.system(f'cp {cur_head_parsing_path} {export_head_parsing_path}')\n",
    "    except Exception as e:\n",
    "        print(e)"
   ]
  },
  {
   "cell_type": "code",
   "execution_count": 85,
   "metadata": {},
   "outputs": [
    {
     "name": "stderr",
     "output_type": "stream",
     "text": [
      "100%|██████████| 6316/6316 [03:45<00:00, 28.07it/s]\n"
     ]
    }
   ],
   "source": [
    "import multiprocessing as mp\n",
    "import cv2\n",
    "\n",
    "global progress_bar\n",
    "progress_bar = tqdm.tqdm(total=len(export_meta_dict))\n",
    "\n",
    "def update_progress_bar(_):\n",
    "    progress_bar.update()\n",
    "\n",
    "pool = mp.Pool(processes=64)\n",
    "for k, v in export_meta_dict.items():\n",
    "    pool.apply_async(work, (\n",
    "        k,\n",
    "        v,\n",
    "        data_root,\n",
    "        export_align_images_dir,\n",
    "        export_align_parsing_dir,\n",
    "        export_head_images_dir,\n",
    "        export_head_parsing_dir,\n",
    "    ), callback=update_progress_bar)\n",
    "pool.close()\n",
    "pool.join()\n",
    "progress_bar.close()"
   ]
  },
  {
   "cell_type": "code",
   "execution_count": 86,
   "metadata": {},
   "outputs": [],
   "source": [
    "with open(export_meta_json, 'w') as f:\n",
    "    json.dump(export_meta_dict, f, indent=4)"
   ]
  },
  {
   "cell_type": "code",
   "execution_count": 87,
   "metadata": {},
   "outputs": [
    {
     "name": "stdout",
     "output_type": "stream",
     "text": [
      "6316\n"
     ]
    }
   ],
   "source": [
    "print(len(export_meta_dict))"
   ]
  },
  {
   "cell_type": "code",
   "execution_count": 88,
   "metadata": {},
   "outputs": [
    {
     "name": "stdout",
     "output_type": "stream",
     "text": [
      "export_start_idx 35667\n"
     ]
    }
   ],
   "source": [
    "print('export_start_idx', export_start_idx)"
   ]
  },
  {
   "cell_type": "code",
   "execution_count": null,
   "metadata": {},
   "outputs": [],
   "source": []
  }
 ],
 "metadata": {
  "kernelspec": {
   "display_name": "datproc",
   "language": "python",
   "name": "python3"
  },
  "language_info": {
   "codemirror_mode": {
    "name": "ipython",
    "version": 3
   },
   "file_extension": ".py",
   "mimetype": "text/x-python",
   "name": "python",
   "nbconvert_exporter": "python",
   "pygments_lexer": "ipython3",
   "version": "3.8.17"
  },
  "orig_nbformat": 4
 },
 "nbformat": 4,
 "nbformat_minor": 2
}
