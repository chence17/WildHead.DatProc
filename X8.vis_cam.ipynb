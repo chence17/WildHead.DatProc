{
 "cells": [
  {
   "cell_type": "code",
   "execution_count": 1,
   "metadata": {},
   "outputs": [],
   "source": [
    "import json\n",
    "\n",
    "def load_json(file_path):\n",
    "    with open(file_path, 'r') as f:\n",
    "        data = json.load(f)\n",
    "    return data\n",
    "\n",
    "meta = load_json('/home/ce.chen/chence/Workspace/3DHead/DatProc/outputs/Web20240228_data_common/meta_00030000to00060000.json')"
   ]
  },
  {
   "cell_type": "code",
   "execution_count": 2,
   "metadata": {},
   "outputs": [],
   "source": [
    "'''\n",
    "Author: chence antonio.chan.cc@outlook.com\n",
    "Date: 2023-10-28 14:17:26\n",
    "LastEditors: chence antonio.chan.cc@outlook.com\n",
    "LastEditTime: 2023-10-28 14:44:13\n",
    "FilePath: /DatProc/X8.vis_cam.ipynb\n",
    "Description: 这是默认设置,请设置`customMade`, 打开koroFileHeader查看配置 进行设置: https://github.com/OBKoro1/koro1FileHeader/wiki/%E9%85%8D%E7%BD%AE\n",
    "'''\n",
    "length=2.7\n",
    "eps=0.05"
   ]
  },
  {
   "cell_type": "code",
   "execution_count": 4,
   "metadata": {},
   "outputs": [
    {
     "name": "stdout",
     "output_type": "stream",
     "text": [
      "right 00435/img00435000.jpg\n",
      "left 00435/img00435002.jpg\n",
      "back 00435/img00435003.jpg\n",
      "front 00435/img00435006.jpg\n"
     ]
    }
   ],
   "source": [
    "key_dict = {}\n",
    "for k, v in meta.items():\n",
    "    # if v['length'] == length and v['eps'] == eps:\n",
    "    if v['view'] not in key_dict:\n",
    "        print(v['view'], k)\n",
    "        key_dict[v['view']] = k"
   ]
  },
  {
   "cell_type": "code",
   "execution_count": 8,
   "metadata": {},
   "outputs": [
    {
     "data": {
      "text/plain": [
       "True"
      ]
     },
     "execution_count": 8,
     "metadata": {},
     "output_type": "execute_result"
    }
   ],
   "source": [
    "vk = 'front'\n",
    "k = key_dict[vk]\n",
    "\n",
    "import numpy as np\n",
    "from utils.visualize_utils import MMeshMeta\n",
    "\n",
    "v = meta[k]\n",
    "exmat = np.array(v['camera'][:16]).reshape(4, 4)\n",
    "m = MMeshMeta()\n",
    "m.create_camera_coordinates(exmat, length=length, eps=eps)\n",
    "m.save(f'new_mvis_cam_single_{vk}.ply')"
   ]
  },
  {
   "cell_type": "code",
   "execution_count": 9,
   "metadata": {},
   "outputs": [
    {
     "data": {
      "text/plain": [
       "True"
      ]
     },
     "execution_count": 9,
     "metadata": {},
     "output_type": "execute_result"
    }
   ],
   "source": [
    "import random\n",
    "\n",
    "sample_num = 50\n",
    "sampled_keys = random.sample(list(meta.keys()), sample_num)\n",
    "m = MMeshMeta()\n",
    "for k in sampled_keys:\n",
    "    v = meta[k]\n",
    "    exmat = np.array(v['camera'][:16]).reshape(4, 4)\n",
    "    m.create_camera_coordinates(exmat, length=length, eps=eps)\n",
    "m.save(f'new_mvis_cam_multiple_{sample_num}.ply')"
   ]
  }
 ],
 "metadata": {
  "kernelspec": {
   "display_name": "3dpndp",
   "language": "python",
   "name": "python3"
  },
  "language_info": {
   "codemirror_mode": {
    "name": "ipython",
    "version": 3
   },
   "file_extension": ".py",
   "mimetype": "text/x-python",
   "name": "python",
   "nbconvert_exporter": "python",
   "pygments_lexer": "ipython3",
   "version": "3.9.16"
  }
 },
 "nbformat": 4,
 "nbformat_minor": 2
}
