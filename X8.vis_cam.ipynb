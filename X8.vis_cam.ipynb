{
 "cells": [
  {
   "cell_type": "code",
   "execution_count": 1,
   "metadata": {},
   "outputs": [],
   "source": [
    "import json\n",
    "\n",
    "def load_json(file_path):\n",
    "    with open(file_path, 'r') as f:\n",
    "        data = json.load(f)\n",
    "    return data\n",
    "\n",
    "meta = load_json('/data/PanoHeadData/single_view_hq/dataset.json')"
   ]
  },
  {
   "cell_type": "code",
   "execution_count": 2,
   "metadata": {},
   "outputs": [],
   "source": [
    "'''\n",
    "Author: chence antonio.chan.cc@outlook.com\n",
    "Date: 2023-10-28 14:17:26\n",
    "LastEditors: chence antonio.chan.cc@outlook.com\n",
    "LastEditTime: 2023-10-28 14:44:13\n",
    "FilePath: /DatProc/X8.vis_cam.ipynb\n",
    "Description: 这是默认设置,请设置`customMade`, 打开koroFileHeader查看配置 进行设置: https://github.com/OBKoro1/koro1FileHeader/wiki/%E9%85%8D%E7%BD%AE\n",
    "'''\n",
    "length=2.7\n",
    "eps=0.05"
   ]
  },
  {
   "cell_type": "code",
   "execution_count": 3,
   "metadata": {},
   "outputs": [
    {
     "data": {
      "text/plain": [
       "True"
      ]
     },
     "execution_count": 3,
     "metadata": {},
     "output_type": "execute_result"
    }
   ],
   "source": [
    "import numpy as np\n",
    "from utils.visualize_utils import MMeshMeta\n",
    "\n",
    "k = list(meta.keys())[0]\n",
    "v = meta[k]\n",
    "exmat = np.array(v['camera'][:16]).reshape(4, 4)\n",
    "m = MMeshMeta()\n",
    "m.create_camera_coordinates(exmat, length=length, eps=eps)\n",
    "m.save('mvis_cam_single.ply')"
   ]
  },
  {
   "cell_type": "code",
   "execution_count": null,
   "metadata": {},
   "outputs": [
    {
     "data": {
      "text/plain": [
       "True"
      ]
     },
     "execution_count": 4,
     "metadata": {},
     "output_type": "execute_result"
    }
   ],
   "source": [
    "import random\n",
    "\n",
    "sample_num = 50\n",
    "sampled_keys = random.sample(list(meta.keys()), sample_num)\n",
    "m = MMeshMeta()\n",
    "for k in sampled_keys:\n",
    "    v = meta[k]\n",
    "    exmat = np.array(v['camera'][:16]).reshape(4, 4)\n",
    "    m.create_camera_coordinates(exmat, length=length, eps=eps)\n",
    "m.save(f'mvis_cam_multiple_{sample_num}.ply')"
   ]
  }
 ],
 "metadata": {
  "kernelspec": {
   "display_name": "3dpndp",
   "language": "python",
   "name": "python3"
  },
  "language_info": {
   "codemirror_mode": {
    "name": "ipython",
    "version": 3
   },
   "file_extension": ".py",
   "mimetype": "text/x-python",
   "name": "python",
   "nbconvert_exporter": "python",
   "pygments_lexer": "ipython3",
   "version": "3.9.16"
  }
 },
 "nbformat": 4,
 "nbformat_minor": 2
}
