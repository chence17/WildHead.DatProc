{
 "cells": [
  {
   "cell_type": "code",
   "execution_count": 1,
   "metadata": {},
   "outputs": [],
   "source": [
    "'''\n",
    "Author: tianhao 120090472@link.cuhk.edu.cn\n",
    "Date: 2024-02-28 00:18:16\n",
    "LastEditors: tianhao 120090472@link.cuhk.edu.cn\n",
    "LastEditTime: 2024-02-28 00:18:34\n",
    "FilePath: /DatProc/A1_filter_ours.ipynb\n",
    "Description: This file is created per demand to filter all our data in the dataset meta.\n",
    "\n",
    "Copyright (c) 2024 by ${git_name_email}, All Rights Reserved. \n",
    "'''\n",
    "\n",
    "import os\n",
    "import json\n",
    "\n",
    "input_json_path = '/data2/PanoHeadData/single_view_hq/dataset_v2_balanced_nohat.json'\n",
    "output_json_path = '/data2/PanoHeadData/single_view_hq/dataset_v3.json'"
   ]
  },
  {
   "cell_type": "code",
   "execution_count": 5,
   "metadata": {},
   "outputs": [
    {
     "name": "stdout",
     "output_type": "stream",
     "text": [
      "Total number of images: 214672\n",
      "00000/img00000001.jpg\n",
      "{\n",
      "    \"data_source\": \"FFHQ\",\n",
      "    \"camera\": [\n",
      "        0.9807107448577881,\n",
      "        -0.014989661052823067,\n",
      "        0.19418708980083466,\n",
      "        -0.5243051648139954,\n",
      "        0.008136472664773464,\n",
      "        -0.9863376021385193,\n",
      "        -0.16408364474773407,\n",
      "        0.4430258572101593,\n",
      "        0.19552138447761536,\n",
      "        0.16432251036167145,\n",
      "        -0.9671899080276489,\n",
      "        2.611412763595581,\n",
      "        0.0,\n",
      "        0.0,\n",
      "        0.0,\n",
      "        1.0,\n",
      "        4.2647,\n",
      "        0.0,\n",
      "        0.5,\n",
      "        0.0,\n",
      "        4.2647,\n",
      "        0.5,\n",
      "        0.0,\n",
      "        0.0,\n",
      "        1.0\n",
      "    ],\n",
      "    \"hpose\": [\n",
      "        -11.207698822021484,\n",
      "        0.7423303127288818,\n",
      "        -9.562204360961914\n",
      "    ],\n",
      "    \"align_box\": [\n",
      "        106.41131664853101,\n",
      "        99.16866158868335,\n",
      "        803.3775843307943,\n",
      "        803.3775843307943\n",
      "    ],\n",
      "    \"align_quad\": [\n",
      "        [\n",
      "            106.46320729053319,\n",
      "            99.29797589091405\n",
      "        ],\n",
      "        [\n",
      "            106.46313928182808,\n",
      "            903.0629760609359\n",
      "        ],\n",
      "        [\n",
      "            910.227965179543,\n",
      "            903.0630440696409\n",
      "        ],\n",
      "        [\n",
      "            910.2281011969533,\n",
      "            99.29797589091405\n",
      "        ]\n",
      "    ],\n",
      "    \"view\": \"front\",\n",
      "    \"head_image_path\": \"head_images/27658_00.png\",\n",
      "    \"head_parsing_path\": \"head_parsing/27658_00.png\",\n",
      "    \"align_image_path\": \"align_images/27658_00.png\",\n",
      "    \"align_parsing_path\": \"align_parsing/27658_00.png\",\n",
      "    \"camera_scoord\": [\n",
      "        78.64740352231533,\n",
      "        80.5564151920759,\n",
      "        2.7001193377103423,\n",
      "        -0.5243051648139954,\n",
      "        0.4430258572101593,\n",
      "        2.611412763595581\n",
      "    ],\n",
      "    \"svd_score\": 0.5187521027959513,\n",
      "    \"laplacian_score\": 342.23823780679396,\n",
      "    \"iv2b_ratio\": 0.08324265505984763,\n",
      "    \"head_region_thresh\": 0.8025390495600516,\n",
      "    \"dup_num\": 1\n",
      "}\n"
     ]
    }
   ],
   "source": [
    "# load and sample key-value output\n",
    "with open(input_json_path, 'r') as f:\n",
    "    data = json.load(f)\n",
    "\n",
    "print('Total number of images:', len(data))\n",
    "for key, val in data.items():\n",
    "    print(key)\n",
    "    print(json.dumps(val, indent=4))\n",
    "    break"
   ]
  },
  {
   "cell_type": "code",
   "execution_count": 7,
   "metadata": {},
   "outputs": [
    {
     "name": "stdout",
     "output_type": "stream",
     "text": [
      "Data sources: {'OCD/Charcoal', 'Web', 'OCD/Original', 'OCD/Espresso', 'OCD/Chestnut', 'OCD/Jet', 'K-Hairstyle/Validation', 'OCD/Brown Black', 'OCD/Dark Reddish Brown', 'OCD/Wine', 'OCD/Sable', 'CelebA', 'LPFF', 'OCD/Darkest Brown', 'K-Hairstyle/Training', 'OCD/Dark Maroon', 'FFHQ'}\n"
     ]
    }
   ],
   "source": [
    "# Get all the data sources\n",
    "data_sources = set()\n",
    "for key, val in data.items():\n",
    "    data_sources.add(val['data_source'])\n",
    "print('Data sources:', data_sources)"
   ]
  },
  {
   "cell_type": "code",
   "execution_count": 8,
   "metadata": {},
   "outputs": [
    {
     "name": "stdout",
     "output_type": "stream",
     "text": [
      "Total number of images before deletion: 214672\n",
      "Number of images deleted: 66321\n",
      "Total number of images after deletion: 148351\n"
     ]
    }
   ],
   "source": [
    "# remove OCD\n",
    "print(f'Total number of images before deletion: {len(data)}')\n",
    "new_data = {}\n",
    "del_num = 0\n",
    "for key, val in data.items():\n",
    "    if val['data_source'].startswith('OCD'):\n",
    "        del_num += 1\n",
    "    else:\n",
    "        new_data[key] = val\n",
    "print('Number of images deleted:', del_num)\n",
    "print(f'Total number of images after deletion: {len(new_data)}')"
   ]
  },
  {
   "cell_type": "code",
   "execution_count": null,
   "metadata": {},
   "outputs": [],
   "source": [
    "# write new data to json\n",
    "with open(output_json_path, 'w') as f:\n",
    "    json.dump(new_data, f, indent=4)"
   ]
  }
 ],
 "metadata": {
  "kernelspec": {
   "display_name": "datproc",
   "language": "python",
   "name": "python3"
  },
  "language_info": {
   "codemirror_mode": {
    "name": "ipython",
    "version": 3
   },
   "file_extension": ".py",
   "mimetype": "text/x-python",
   "name": "python",
   "nbconvert_exporter": "python",
   "pygments_lexer": "ipython3",
   "version": "3.8.17"
  }
 },
 "nbformat": 4,
 "nbformat_minor": 2
}
