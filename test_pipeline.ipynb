{
 "cells": [
  {
   "cell_type": "code",
   "execution_count": 2,
   "metadata": {},
   "outputs": [
    {
     "data": {
      "text/plain": [
       "<module 'utils.dataset_process' from '/home/shitianhao/project/DatProc/utils/dataset_process.py'>"
      ]
     },
     "execution_count": 2,
     "metadata": {},
     "output_type": "execute_result"
    }
   ],
   "source": [
    "import os\n",
    "import cv2\n",
    "import json\n",
    "import importlib\n",
    "import numpy as np\n",
    "from PIL import Image\n",
    "from IPython.display import display\n",
    "import utils.dataset_process as dataset_process\n",
    "importlib.reload(dataset_process)"
   ]
  },
  {
   "cell_type": "code",
   "execution_count": 3,
   "metadata": {},
   "outputs": [],
   "source": [
    "# open json file\n",
    "json_path = '/datar/DAD-3DHeads/val/meta_1-1.json'\n",
    "\n",
    "image_folder_dir = os.path.dirname(json_path)\n",
    "\n",
    "with open(json_path) as json_file:\n",
    "    data = json.load(json_file)\n"
   ]
  },
  {
   "cell_type": "code",
   "execution_count": null,
   "metadata": {},
   "outputs": [],
   "source": [
    "vis_sample = 20\n",
    "\n",
    "for img_path, meta in data.items():\n",
    "    # load image\n",
    "    abs_img_path = os.path.join(image_folder_dir, img_path)\n",
    "    for box_id, box_meta in meta.items():\n",
    "        lm = box_meta['landmarks']\n",
    "        box = box_meta['head_box']\n",
    "        if lm is None: continue\n",
    "        img = cv2.imread(abs_img_path)\n",
    "        box_x, box_y, box_w, box_h = box\n",
    "        box_img = img[box_y:box_y+box_h, box_x:box_x+box_w].copy()\n",
    "        vis_scale = 512/box_h\n",
    "        for pt in lm:\n",
    "            pt = (int(pt[0]), int(pt[1]))\n",
    "            cv2.circle(box_img, pt, int(4/vis_scale), [0, 255, 0], -1)\n",
    "        box_img_ = cv2.cvtColor(box_img, cv2.COLOR_BGR2RGB)\n",
    "        box_img_ = cv2.resize(box_img_, (512, 512))\n",
    "        display(Image.fromarray(box_img_))\n",
    "        vis_sample -= 1\n",
    "    if vis_sample == 0: break\n"
   ]
  }
 ],
 "metadata": {
  "kernelspec": {
   "display_name": "datproc",
   "language": "python",
   "name": "python3"
  },
  "language_info": {
   "codemirror_mode": {
    "name": "ipython",
    "version": 3
   },
   "file_extension": ".py",
   "mimetype": "text/x-python",
   "name": "python",
   "nbconvert_exporter": "python",
   "pygments_lexer": "ipython3",
   "version": "3.8.17"
  },
  "orig_nbformat": 4
 },
 "nbformat": 4,
 "nbformat_minor": 2
}
