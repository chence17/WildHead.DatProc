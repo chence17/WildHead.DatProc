{
 "cells": [
  {
   "cell_type": "code",
   "execution_count": 8,
   "metadata": {},
   "outputs": [],
   "source": [
    "import os, json, tqdm\n",
    "import numpy as np\n",
    "import shutil"
   ]
  },
  {
   "cell_type": "code",
   "execution_count": 6,
   "metadata": {},
   "outputs": [],
   "source": [
    "json_path = '/data2/chence/PanoHeadData/single_view_hq/dataset_v2.json'\n",
    "src_image_dir = '/data2/chence/PanoHeadData/single_view_hq/align_images'\n",
    "copy_path = '/data3/web_back_check'\n",
    "os.makedirs(copy_path, exist_ok=True)\n",
    "with open(json_path, 'r') as f:\n",
    "    dataset_json = json.load(f)"
   ]
  },
  {
   "cell_type": "code",
   "execution_count": 12,
   "metadata": {},
   "outputs": [
    {
     "name": "stderr",
     "output_type": "stream",
     "text": [
      "100%|██████████| 264441/264441 [00:05<00:00, 51120.00it/s]\n"
     ]
    }
   ],
   "source": [
    "selected_dataset = 'Web'\n",
    "selected_view = 'back'\n",
    "for image_name, image_meta in tqdm.tqdm(dataset_json.items()):\n",
    "    source = image_meta['data_source']\n",
    "    view = image_meta['view']\n",
    "    if not(source.startswith(selected_dataset) and view == selected_view): continue\n",
    "    src_image_path_abs = os.path.join(src_image_dir, image_name)\n",
    "    assert os.path.exists(src_image_path_abs), f'{src_image_path_abs} not exists'\n",
    "    dst_image_name = image_name.replace('/', '_')\n",
    "    dst_image_path_abs = os.path.join(copy_path, dst_image_name)\n",
    "    shutil.copy(src_image_path_abs, dst_image_path_abs)"
   ]
  },
  {
   "cell_type": "code",
   "execution_count": 15,
   "metadata": {},
   "outputs": [
    {
     "name": "stdout",
     "output_type": "stream",
     "text": [
      "364\n"
     ]
    }
   ],
   "source": [
    "preserved_khs = [_.replace('_', '/') for _ in os.listdir(copy_path)]\n",
    "print(len(preserved_khs))\n"
   ]
  },
  {
   "cell_type": "code",
   "execution_count": 20,
   "metadata": {},
   "outputs": [
    {
     "name": "stderr",
     "output_type": "stream",
     "text": [
      "100%|██████████| 264440/264440 [00:00<00:00, 869105.30it/s]"
     ]
    },
    {
     "name": "stdout",
     "output_type": "stream",
     "text": [
      "264289\n"
     ]
    },
    {
     "name": "stderr",
     "output_type": "stream",
     "text": [
      "\n"
     ]
    }
   ],
   "source": [
    "new_dataset_json = {}\n",
    "for image_name, image_meta in tqdm.tqdm(dataset_json.items()):\n",
    "    source = image_meta['data_source']\n",
    "    view = image_meta['view']\n",
    "    if not(source.startswith(selected_dataset) and view == selected_view): \n",
    "        new_dataset_json[image_name] = image_meta\n",
    "        continue\n",
    "    if not(image_name in preserved_khs):\n",
    "        continue\n",
    "    new_dataset_json[image_name] = image_meta\n",
    "    new_dataset_json[image_name]['dup_num'] = 5\n",
    "print(len(new_dataset_json))"
   ]
  },
  {
   "cell_type": "code",
   "execution_count": 18,
   "metadata": {},
   "outputs": [],
   "source": [
    "with open(json_path, 'w') as f:\n",
    "    json.dump(new_dataset_json, f, indent=4)"
   ]
  }
 ],
 "metadata": {
  "kernelspec": {
   "display_name": "datproc",
   "language": "python",
   "name": "python3"
  },
  "language_info": {
   "codemirror_mode": {
    "name": "ipython",
    "version": 3
   },
   "file_extension": ".py",
   "mimetype": "text/x-python",
   "name": "python",
   "nbconvert_exporter": "python",
   "pygments_lexer": "ipython3",
   "version": "3.8.17"
  }
 },
 "nbformat": 4,
 "nbformat_minor": 2
}
