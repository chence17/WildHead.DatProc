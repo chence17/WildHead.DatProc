{
 "cells": [
  {
   "cell_type": "code",
   "execution_count": 1,
   "outputs": [],
   "source": [
    "import os.path as osp\n",
    "import sys\n",
    "import json\n",
    "\n",
    "sys.path.append(osp.abspath('..'))\n",
    "\n",
    "from utils.mdata import load_pkl\n",
    "from utils.face_landmark import FaceAlignmentDetector\n",
    "\n",
    "hndata_root = '/mnt/c/Users/anton/Research/3DHeadGen/RecolorNeRF/sample/Ours/HeadNeRF/1024x1024/0001/00'\n",
    "hncams_file = osp.join(hndata_root, 'cams.pkl')\n",
    "hncams_data = load_pkl(hncams_file)\n",
    "phdata_root = '/mnt/c/Users/anton/Research/3DHeadGen/RecolorNeRF/sample/Ours/HeadNeRF/1024x1024/0001/00PanoHead'\n",
    "phjson_file = osp.join(phdata_root, 'meta_1-1.json')\n",
    "with open(phjson_file, 'r') as f:\n",
    "    phjson_data = json.load(f)\n",
    "flmk_det = FaceAlignmentDetector()"
   ],
   "metadata": {
    "collapsed": false,
    "ExecuteTime": {
     "end_time": "2023-09-26T12:04:46.111875500Z",
     "start_time": "2023-09-26T12:04:40.868366200Z"
    }
   },
   "id": "29ba66ff8f9b7a76"
  },
  {
   "cell_type": "code",
   "execution_count": 39,
   "outputs": [],
   "source": [
    "import cv2\n",
    "import numpy as np\n",
    "import tqdm\n",
    "\n",
    "def cal_ray(inmat, c2w, pt):\n",
    "    fx = inmat[0, 0]\n",
    "    fy = inmat[1, 1]\n",
    "    cx = inmat[0, 2]\n",
    "    cy = inmat[1, 2]\n",
    "    u, v = pt\n",
    "    direction = [(u - cx + 0.5) / fx, (v - cy + 0.5) / fy, 1.]\n",
    "    ray_o = c2w[:3, 3]\n",
    "    ray_d = direction @ c2w[:3, :3].T\n",
    "    ray_d = ray_d / np.linalg.norm(ray_d)\n",
    "    return ray_o, ray_d\n",
    "\n",
    "hn_rays_o, hn_rays_d = [], []\n",
    "ph_rays_o, ph_rays_d = [], []\n",
    "for k in tqdm.tqdm(sorted(phjson_data.keys())):\n",
    "    image_name = k.split('/')[1].replace('.png', '')\n",
    "\n",
    "    hnimg_data = cv2.imread(osp.join(hndata_root, 'image', f'{image_name}.png'))\n",
    "    hnimg_lmks = flmk_det(hnimg_data, True)\n",
    "    \n",
    "    phimg_data = cv2.imread(osp.join(phdata_root, 'align_images', f'{image_name}_00.png'))\n",
    "    phimg_lmks = flmk_det(phimg_data, True)\n",
    "\n",
    "    hnimg_inmat = hncams_data['nl3dmm'][f'{image_name}.png'].inmat\n",
    "    hnimg_c2w = hncams_data['nl3dmm'][f'{image_name}.png'].c2w.tfmat\n",
    "    hnimg_rays_o, hnimg_rays_d = [], []\n",
    "    for i in range(len(hnimg_lmks)):\n",
    "        ray_o, ray_d = cal_ray(hnimg_inmat, hnimg_c2w, hnimg_lmks[i])\n",
    "        hnimg_rays_o.append(ray_o)\n",
    "        hnimg_rays_d.append(ray_d)\n",
    "    hnimg_rays_o = np.array(hnimg_rays_o)\n",
    "    hn_rays_o.append(hnimg_rays_o)\n",
    "    hnimg_rays_d = np.array(hnimg_rays_d)\n",
    "    hn_rays_d.append(hnimg_rays_d)\n",
    "    \n",
    "    phimg_cam =  np.array(phjson_data[f'image/{image_name}.png']['head']['00']['camera'])\n",
    "    phimg_c2w = phimg_cam[:16].reshape(4, 4)\n",
    "    phimg_inmat = phimg_cam[16:].reshape(3, 3)\n",
    "    phimg_inmat[:2, :] *= 563\n",
    "    phimg_rays_o, phimg_rays_d = [], []\n",
    "    for i in range(len(phimg_lmks)):\n",
    "        ray_o, ray_d = cal_ray(phimg_inmat, phimg_c2w, phimg_lmks[i])\n",
    "        phimg_rays_o.append(ray_o)\n",
    "        phimg_rays_d.append(ray_d)\n",
    "    phimg_rays_o = np.array(phimg_rays_o)\n",
    "    ph_rays_o.append(phimg_rays_o)\n",
    "    phimg_rays_d = np.array(phimg_rays_d)\n",
    "    ph_rays_d.append(phimg_rays_d)\n",
    "hn_rays_o = np.array(hn_rays_o)\n",
    "hn_rays_d = np.array(hn_rays_d)\n",
    "ph_rays_o = np.array(ph_rays_o)\n",
    "ph_rays_d = np.array(ph_rays_d)"
   ],
   "metadata": {
    "collapsed": false,
    "ExecuteTime": {
     "end_time": "2023-09-26T12:34:36.576655700Z",
     "start_time": "2023-09-26T12:34:07.377477200Z"
    }
   },
   "id": "26f6a92646c83fbe"
  },
  {
   "cell_type": "code",
   "execution_count": 44,
   "outputs": [],
   "source": [
    "def calculate_nearest_point_of_rays(rays_o: np.ndarray, rays_d: np.ndarray):\n",
    "    # rays_o, rays_d: [N, 3, 1], sum(rays_d ** 2) == 1\n",
    "    A_i = np.eye(3) - rays_d * np.transpose(rays_d, [0, 2, 1])\n",
    "    b_i = -A_i @ rays_o\n",
    "    pt_mindist = np.squeeze(-np.linalg.inv((np.transpose(A_i, [0, 2, 1]) @ A_i).mean(0)) @ (b_i).mean(0))\n",
    "    return pt_mindist\n",
    "\n",
    "\n",
    "hn_lmks_3d = []\n",
    "for i in range(68):\n",
    "    center3D = calculate_nearest_point_of_rays(hn_rays_o[:, i, :, None], hn_rays_d[:, i, :, None])\n",
    "    hn_lmks_3d.append(center3D)\n",
    "hn_lmks_3d = np.array(hn_lmks_3d)\n",
    "\n",
    "ph_lmks_3d = []\n",
    "for i in range(68):\n",
    "    center3D = calculate_nearest_point_of_rays(ph_rays_o[:, i, :, None], ph_rays_d[:, i, :, None])\n",
    "    ph_lmks_3d.append(center3D)\n",
    "ph_lmks_3d = np.array(ph_lmks_3d)"
   ],
   "metadata": {
    "collapsed": false,
    "ExecuteTime": {
     "end_time": "2023-09-26T12:38:18.193832700Z",
     "start_time": "2023-09-26T12:38:18.165372300Z"
    }
   },
   "id": "aa630359ff6dd9a4"
  },
  {
   "cell_type": "code",
   "execution_count": 61,
   "outputs": [
    {
     "data": {
      "text/plain": "True"
     },
     "execution_count": 61,
     "metadata": {},
     "output_type": "execute_result"
    }
   ],
   "source": [
    "import utils.visualize as uvis\n",
    "import importlib\n",
    "importlib.reload(uvis)\n",
    "from utils.visualize import MMeshMeta\n",
    "\n",
    "m = MMeshMeta()\n",
    "m.create_pointcloud(hn_lmks_3d, np.array([[0, 0, 255]]).repeat(hn_lmks_3d.shape[0], 0).astype(np.uint8))\n",
    "m.save('hn_lmks_3d.ply')\n",
    "\n",
    "m = MMeshMeta()\n",
    "m.create_pointcloud(ph_lmks_3d, np.array([[0, 0, 255]]).repeat(ph_lmks_3d.shape[0], 0).astype(np.uint8))\n",
    "m.save('ph_lmks_3d.ply')\n",
    "\n",
    "m1, m2 = MMeshMeta(), MMeshMeta()\n",
    "for k in sorted(phjson_data.keys()):\n",
    "    image_name = k.split('/')[1].replace('.png', '')\n",
    "\n",
    "    hnimg_inmat = hncams_data['nl3dmm'][f'{image_name}.png'].inmat\n",
    "    hnimg_c2w = hncams_data['nl3dmm'][f'{image_name}.png'].c2w.tfmat\n",
    "    m1.create_camera_coordinates(hnimg_c2w, length=1., eps=1.0e-2)\n",
    "    \n",
    "    phimg_cam =  np.array(phjson_data[f'image/{image_name}.png']['head']['00']['camera'])\n",
    "    phimg_c2w = phimg_cam[:16].reshape(4, 4)\n",
    "    phimg_inmat = phimg_cam[16:].reshape(3, 3)\n",
    "    phimg_inmat[:2, :] *= 563\n",
    "    m2.create_camera_coordinates(phimg_c2w, length=1., eps=1.0e-2)\n",
    "m1.save('hn_cams.ply')\n",
    "m2.save('ph_cams.ply')\n"
   ],
   "metadata": {
    "collapsed": false,
    "ExecuteTime": {
     "end_time": "2023-09-26T12:47:44.847494900Z",
     "start_time": "2023-09-26T12:47:44.627792100Z"
    }
   },
   "id": "ee8adfdb26209c34"
  },
  {
   "cell_type": "code",
   "execution_count": 62,
   "outputs": [
    {
     "name": "stdout",
     "output_type": "stream",
     "text": [
      "m:\n",
      "0.23101691783912445\n",
      "r: [[ 0.99870387  0.02345814 -0.0451696 ]\n",
      " [-0.02672519  0.99696366 -0.07313846]\n",
      " [ 0.04331675  0.07425083  0.99629839]]\n",
      "t:\n",
      "[[ 0.00049117]\n",
      " [-0.0314007 ]\n",
      " [ 0.08547127]]\n",
      "T1to0:\n",
      "[[ 2.30717490e-01  5.41922775e-03 -1.04349408e-02  4.91167526e-04]\n",
      " [-6.17397087e-03  2.30315471e-01 -1.68962217e-02 -3.14006961e-02]\n",
      " [ 1.00069028e-02  1.71531978e-02  2.30161782e-01  8.54712734e-02]\n",
      " [ 0.00000000e+00  0.00000000e+00  0.00000000e+00  1.00000000e+00]]\n"
     ]
    }
   ],
   "source": [
    "from utils import msimil\n",
    "def simil_analysis(X0, X1):\n",
    "    # m, r, t = msimil.process(source_points, target_points)\n",
    "    m, r, t = msimil.process(X1, X0)\n",
    "    print(f'm:\\n{m}\\nr: {r}\\nt:\\n{t}')\n",
    "    T1to0 = np.eye(4)\n",
    "    T1to0[:3, :3] = m * r\n",
    "    T1to0[:3, 3:] = t\n",
    "    print(f'T1to0:\\n{T1to0}')\n",
    "    return T1to0\n",
    "\n",
    "Tfmatrix = simil_analysis(ph_lmks_3d, hn_lmks_3d)  # from input to ref"
   ],
   "metadata": {
    "collapsed": false,
    "ExecuteTime": {
     "end_time": "2023-09-26T12:52:59.247968100Z",
     "start_time": "2023-09-26T12:52:59.189824900Z"
    }
   },
   "id": "40d3c6b1bd384112"
  },
  {
   "cell_type": "code",
   "execution_count": 65,
   "outputs": [
    {
     "data": {
      "text/plain": "True"
     },
     "execution_count": 65,
     "metadata": {},
     "output_type": "execute_result"
    }
   ],
   "source": [
    "def transform_points(pts, tfmatrix):\n",
    "    if pts.shape[1] == 3:\n",
    "        pts_ = np.concatenate([pts, np.ones((pts.shape[0], 1))], axis=1)\n",
    "    elif pts.shape[1] == 4:\n",
    "        pts_ = pts\n",
    "    else:\n",
    "        raise ValueError(f'pts.shape[1] must be 3 or 4, but got {pts.shape[1]}')\n",
    "    tfpts = (tfmatrix @ pts_.T).T[:, :3]\n",
    "    return tfpts\n",
    "\n",
    "\n",
    "def transform_cam(T_c2w, tfmatrix):\n",
    "    T_c2w_ = tfmatrix @ T_c2w\n",
    "    return T_c2w_\n",
    "\n",
    "\n",
    "hn_lmks_3d_tf = transform_points(hn_lmks_3d, Tfmatrix)\n",
    "\n",
    "m = MMeshMeta()\n",
    "m.create_pointcloud(hn_lmks_3d_tf, np.array([[0, 0, 255]]).repeat(hn_lmks_3d_tf.shape[0], 0).astype(np.uint8))\n",
    "m.save('hn_lmks_3d_tf.ply')\n",
    "\n",
    "m= MMeshMeta()\n",
    "for k in sorted(phjson_data.keys()):\n",
    "    image_name = k.split('/')[1].replace('.png', '')\n",
    "\n",
    "    hnimg_inmat = hncams_data['nl3dmm'][f'{image_name}.png'].inmat\n",
    "    hnimg_c2w = hncams_data['nl3dmm'][f'{image_name}.png'].c2w.tfmat\n",
    "    hnimg_c2w_tf = transform_cam(hnimg_c2w, Tfmatrix)\n",
    "    m.create_camera_coordinates(hnimg_c2w_tf, length=1., eps=1.0e-2)\n",
    "m.save('hn_cams_tf.ply')"
   ],
   "metadata": {
    "collapsed": false,
    "ExecuteTime": {
     "end_time": "2023-09-26T12:58:56.119952400Z",
     "start_time": "2023-09-26T12:58:56.001283Z"
    }
   },
   "id": "170e30eca8da381e"
  },
  {
   "cell_type": "code",
   "execution_count": 66,
   "outputs": [],
   "source": [
    "hn2ph_tfmat = Tfmatrix"
   ],
   "metadata": {
    "collapsed": false,
    "ExecuteTime": {
     "end_time": "2023-09-26T13:01:29.923503600Z",
     "start_time": "2023-09-26T13:01:29.917974300Z"
    }
   },
   "id": "21e7b75552e7312e"
  },
  {
   "cell_type": "code",
   "execution_count": 68,
   "outputs": [],
   "source": [
    "np.save('hn2ph_tfmat.npy', hn2ph_tfmat)"
   ],
   "metadata": {
    "collapsed": false,
    "ExecuteTime": {
     "end_time": "2023-09-26T13:02:01.676606400Z",
     "start_time": "2023-09-26T13:02:01.645989700Z"
    }
   },
   "id": "8bceb002b8e71eb2"
  }
 ],
 "metadata": {
  "kernelspec": {
   "display_name": "Python 3",
   "language": "python",
   "name": "python3"
  },
  "language_info": {
   "codemirror_mode": {
    "name": "ipython",
    "version": 2
   },
   "file_extension": ".py",
   "mimetype": "text/x-python",
   "name": "python",
   "nbconvert_exporter": "python",
   "pygments_lexer": "ipython2",
   "version": "2.7.6"
  }
 },
 "nbformat": 4,
 "nbformat_minor": 5
}
