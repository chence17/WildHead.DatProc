{
 "cells": [
  {
   "cell_type": "code",
   "execution_count": 58,
   "metadata": {},
   "outputs": [],
   "source": [
    "import os\n",
    "\n",
    "root_dir = '/data_new/chence/ExportedSVhq/align_images'\n",
    "# root_dir = '/data_new/chence/ExportedSVhq/align_parsing'\n",
    "# root_dir = '/data_new/chence/ExportedSVhq/head_images'\n",
    "# root_dir = '/data_new/chence/ExportedSVhq/head_parsing'\n",
    "root_dir_list = sorted(os.listdir(root_dir))"
   ]
  },
  {
   "cell_type": "code",
   "execution_count": 59,
   "metadata": {},
   "outputs": [],
   "source": [
    "del_dir_list = []\n",
    "start_del_dir = '00257'\n",
    "for i in root_dir_list:\n",
    "    if int(i) > int(start_del_dir):\n",
    "        del_dir_list.append(i)\n"
   ]
  },
  {
   "cell_type": "code",
   "execution_count": 60,
   "metadata": {},
   "outputs": [
    {
     "data": {
      "text/plain": [
       "[]"
      ]
     },
     "execution_count": 60,
     "metadata": {},
     "output_type": "execute_result"
    }
   ],
   "source": [
    "del_dir_list"
   ]
  },
  {
   "cell_type": "code",
   "execution_count": 61,
   "metadata": {},
   "outputs": [
    {
     "name": "stderr",
     "output_type": "stream",
     "text": [
      "0it [00:00, ?it/s]\n"
     ]
    }
   ],
   "source": [
    "import tqdm\n",
    "\n",
    "for i in tqdm.tqdm(del_dir_list):\n",
    "    del_dir = os.path.join(root_dir, i)\n",
    "    os.system('rm -rf {}'.format(del_dir))\n",
    "    # print(del_dir)"
   ]
  },
  {
   "cell_type": "code",
   "execution_count": 62,
   "metadata": {},
   "outputs": [],
   "source": [
    "import os.path as osp\n",
    "\n",
    "img_dir = osp.join(root_dir, '00257')\n",
    "img_list = sorted(os.listdir(img_dir))"
   ]
  },
  {
   "cell_type": "code",
   "execution_count": 63,
   "metadata": {},
   "outputs": [],
   "source": [
    "del_img_list = []\n",
    "start_del_img = 'img00257506.png'\n",
    "for i in img_list:\n",
    "    if i >= start_del_img:\n",
    "        del_img_list.append(i)"
   ]
  },
  {
   "cell_type": "code",
   "execution_count": 64,
   "metadata": {},
   "outputs": [
    {
     "data": {
      "text/plain": [
       "[]"
      ]
     },
     "execution_count": 64,
     "metadata": {},
     "output_type": "execute_result"
    }
   ],
   "source": [
    "del_img_list"
   ]
  },
  {
   "cell_type": "code",
   "execution_count": 65,
   "metadata": {},
   "outputs": [
    {
     "name": "stderr",
     "output_type": "stream",
     "text": [
      "0it [00:00, ?it/s]\n"
     ]
    }
   ],
   "source": [
    "for i in tqdm.tqdm(del_img_list):\n",
    "    del_img = osp.join(img_dir, i)\n",
    "    os.system('rm -rf {}'.format(del_img))\n",
    "    # print(del_img)"
   ]
  },
  {
   "cell_type": "code",
   "execution_count": null,
   "metadata": {},
   "outputs": [],
   "source": []
  }
 ],
 "metadata": {
  "kernelspec": {
   "display_name": "datproc",
   "language": "python",
   "name": "python3"
  },
  "language_info": {
   "codemirror_mode": {
    "name": "ipython",
    "version": 3
   },
   "file_extension": ".py",
   "mimetype": "text/x-python",
   "name": "python",
   "nbconvert_exporter": "python",
   "pygments_lexer": "ipython3",
   "version": "3.8.17"
  }
 },
 "nbformat": 4,
 "nbformat_minor": 2
}
