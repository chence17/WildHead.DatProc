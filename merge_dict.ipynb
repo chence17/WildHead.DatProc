{
 "cells": [
  {
   "cell_type": "code",
   "execution_count": 1,
   "metadata": {},
   "outputs": [],
   "source": [
    "import os.path as osp\n",
    "import os\n",
    "\n",
    "data_dir = \"outputs/Web20240303_data_rare_nbv\"\n",
    "\n",
    "meta_dir = osp.join(data_dir, \"meta\")\n",
    "meta_json_files = [i for i in os.listdir(meta_dir) if i.endswith(\".json\")]\n",
    "meta_files = sorted([i for i in meta_json_files if i.startswith(\"meta_\")])\n",
    "\n",
    "info_meta_dir = osp.join(data_dir, \"info_meta\")\n",
    "info_meta_json_files = [i for i in os.listdir(info_meta_dir) if i.endswith(\".json\")]\n",
    "info_meta_files = sorted([i for i in info_meta_json_files if i.startswith(\"info_meta_\")])"
   ]
  },
  {
   "cell_type": "code",
   "execution_count": 2,
   "metadata": {},
   "outputs": [
    {
     "data": {
      "text/plain": [
       "79"
      ]
     },
     "execution_count": 2,
     "metadata": {},
     "output_type": "execute_result"
    }
   ],
   "source": [
    "len(meta_files)"
   ]
  },
  {
   "cell_type": "code",
   "execution_count": 3,
   "metadata": {},
   "outputs": [
    {
     "data": {
      "text/plain": [
       "79"
      ]
     },
     "execution_count": 3,
     "metadata": {},
     "output_type": "execute_result"
    }
   ],
   "source": [
    "len(info_meta_files)"
   ]
  },
  {
   "cell_type": "code",
   "execution_count": 5,
   "metadata": {},
   "outputs": [
    {
     "name": "stdout",
     "output_type": "stream",
     "text": [
      "Loaded outputs/Web20240303_data_rare_nbv/meta/meta_00000000to00010000.json\n",
      "Loaded outputs/Web20240303_data_rare_nbv/meta/meta_00006000to00010000.json\n",
      "Loaded outputs/Web20240303_data_rare_nbv/meta/meta_00010000to00020000.json\n",
      "Loaded outputs/Web20240303_data_rare_nbv/meta/meta_00016000to00020000.json\n",
      "Loaded outputs/Web20240303_data_rare_nbv/meta/meta_00020000to00030000.json\n",
      "Loaded outputs/Web20240303_data_rare_nbv/meta/meta_00027000to00030000.json\n",
      "Loaded outputs/Web20240303_data_rare_nbv/meta/meta_00030000to00040000.json\n",
      "Loaded outputs/Web20240303_data_rare_nbv/meta/meta_00036000to00040000.json\n",
      "Loaded outputs/Web20240303_data_rare_nbv/meta/meta_00040000to00050000.json\n",
      "Loaded outputs/Web20240303_data_rare_nbv/meta/meta_00046000to00050000.json\n",
      "Loaded outputs/Web20240303_data_rare_nbv/meta/meta_00050000to00060000.json\n",
      "Loaded outputs/Web20240303_data_rare_nbv/meta/meta_00056000to00060000.json\n",
      "Loaded outputs/Web20240303_data_rare_nbv/meta/meta_00060000to00070000.json\n",
      "Loaded outputs/Web20240303_data_rare_nbv/meta/meta_00067000to00070000.json\n",
      "Loaded outputs/Web20240303_data_rare_nbv/meta/meta_00070000to00080000.json\n",
      "Loaded outputs/Web20240303_data_rare_nbv/meta/meta_00077000to00080000.json\n",
      "Loaded outputs/Web20240303_data_rare_nbv/meta/meta_00080000to00090000.json\n",
      "Loaded outputs/Web20240303_data_rare_nbv/meta/meta_00086000to00090000.json\n",
      "Loaded outputs/Web20240303_data_rare_nbv/meta/meta_00090000to00100000.json\n",
      "Loaded outputs/Web20240303_data_rare_nbv/meta/meta_00097000to00100000.json\n",
      "Loaded outputs/Web20240303_data_rare_nbv/meta/meta_00100000to00110000.json\n",
      "Loaded outputs/Web20240303_data_rare_nbv/meta/meta_00106000to00110000.json\n",
      "Loaded outputs/Web20240303_data_rare_nbv/meta/meta_00110000to00120000.json\n",
      "Loaded outputs/Web20240303_data_rare_nbv/meta/meta_00112000to00120000.json\n",
      "Loaded outputs/Web20240303_data_rare_nbv/meta/meta_00120000to00130000.json\n",
      "Loaded outputs/Web20240303_data_rare_nbv/meta/meta_00124000to00130000.json\n",
      "Loaded outputs/Web20240303_data_rare_nbv/meta/meta_00130000to00140000.json\n",
      "Loaded outputs/Web20240303_data_rare_nbv/meta/meta_00134000to00140000.json\n",
      "Loaded outputs/Web20240303_data_rare_nbv/meta/meta_00140000to00150000.json\n",
      "Loaded outputs/Web20240303_data_rare_nbv/meta/meta_00144000to00150000.json\n",
      "Loaded outputs/Web20240303_data_rare_nbv/meta/meta_00150000to00160000.json\n",
      "Loaded outputs/Web20240303_data_rare_nbv/meta/meta_00160000to00170000.json\n",
      "Loaded outputs/Web20240303_data_rare_nbv/meta/meta_00170000to00180000.json\n",
      "Loaded outputs/Web20240303_data_rare_nbv/meta/meta_00180000to00190000.json\n",
      "Loaded outputs/Web20240303_data_rare_nbv/meta/meta_00189000to00190000.json\n",
      "Loaded outputs/Web20240303_data_rare_nbv/meta/meta_00190000to00200000.json\n",
      "Loaded outputs/Web20240303_data_rare_nbv/meta/meta_00200000to00210000.json\n",
      "Loaded outputs/Web20240303_data_rare_nbv/meta/meta_00210000to00220000.json\n",
      "Loaded outputs/Web20240303_data_rare_nbv/meta/meta_00213000to00220000.json\n",
      "Loaded outputs/Web20240303_data_rare_nbv/meta/meta_00220000to00230000.json\n",
      "Loaded outputs/Web20240303_data_rare_nbv/meta/meta_00222000to00230000.json\n",
      "Loaded outputs/Web20240303_data_rare_nbv/meta/meta_00230000to00240000.json\n",
      "Loaded outputs/Web20240303_data_rare_nbv/meta/meta_00240000to00250000.json\n",
      "Loaded outputs/Web20240303_data_rare_nbv/meta/meta_00250000to00260000.json\n",
      "Loaded outputs/Web20240303_data_rare_nbv/meta/meta_00260000to00270000.json\n",
      "Loaded outputs/Web20240303_data_rare_nbv/meta/meta_00270000to00280000.json\n",
      "Loaded outputs/Web20240303_data_rare_nbv/meta/meta_00280000to00290000.json\n",
      "Loaded outputs/Web20240303_data_rare_nbv/meta/meta_00290000to00300000.json\n",
      "Loaded outputs/Web20240303_data_rare_nbv/meta/meta_00292000to00300000.json\n",
      "Loaded outputs/Web20240303_data_rare_nbv/meta/meta_00300000to00310000.json\n",
      "Loaded outputs/Web20240303_data_rare_nbv/meta/meta_00301000to00310000.json\n",
      "Loaded outputs/Web20240303_data_rare_nbv/meta/meta_00310000to00320000.json\n",
      "Loaded outputs/Web20240303_data_rare_nbv/meta/meta_00311000to00320000.json\n",
      "Loaded outputs/Web20240303_data_rare_nbv/meta/meta_00320000to00330000.json\n",
      "Loaded outputs/Web20240303_data_rare_nbv/meta/meta_00330000to00340000.json\n",
      "Loaded outputs/Web20240303_data_rare_nbv/meta/meta_00331000to00340000.json\n",
      "Loaded outputs/Web20240303_data_rare_nbv/meta/meta_00340000to00350000.json\n",
      "Loaded outputs/Web20240303_data_rare_nbv/meta/meta_00341000to00350000.json\n",
      "Loaded outputs/Web20240303_data_rare_nbv/meta/meta_00350000to00360000.json\n",
      "Loaded outputs/Web20240303_data_rare_nbv/meta/meta_00351000to00360000.json\n",
      "Loaded outputs/Web20240303_data_rare_nbv/meta/meta_00360000to00370000.json\n",
      "Loaded outputs/Web20240303_data_rare_nbv/meta/meta_00361000to00370000.json\n",
      "Loaded outputs/Web20240303_data_rare_nbv/meta/meta_00370000to00380000.json\n",
      "Loaded outputs/Web20240303_data_rare_nbv/meta/meta_00371000to00380000.json\n",
      "Loaded outputs/Web20240303_data_rare_nbv/meta/meta_00380000to00390000.json\n",
      "Loaded outputs/Web20240303_data_rare_nbv/meta/meta_00381000to00390000.json\n",
      "Loaded outputs/Web20240303_data_rare_nbv/meta/meta_00390000to00400000.json\n",
      "Loaded outputs/Web20240303_data_rare_nbv/meta/meta_00392000to00400000.json\n",
      "Loaded outputs/Web20240303_data_rare_nbv/meta/meta_00400000to00410000.json\n",
      "Loaded outputs/Web20240303_data_rare_nbv/meta/meta_00410000to00420000.json\n",
      "Loaded outputs/Web20240303_data_rare_nbv/meta/meta_00420000to00430000.json\n",
      "Loaded outputs/Web20240303_data_rare_nbv/meta/meta_00430000to00440000.json\n",
      "Loaded outputs/Web20240303_data_rare_nbv/meta/meta_00440000to00450000.json\n",
      "Loaded outputs/Web20240303_data_rare_nbv/meta/meta_00450000to00460000.json\n",
      "Loaded outputs/Web20240303_data_rare_nbv/meta/meta_00460000to00470000.json\n",
      "Loaded outputs/Web20240303_data_rare_nbv/meta/meta_00470000to00480000.json\n",
      "Loaded outputs/Web20240303_data_rare_nbv/meta/meta_00480000to00490000.json\n",
      "Loaded outputs/Web20240303_data_rare_nbv/meta/meta_00490000to00500000.json\n",
      "Loaded outputs/Web20240303_data_rare_nbv/meta/meta_00500000to00510000.json\n"
     ]
    }
   ],
   "source": [
    "import json\n",
    "import os\n",
    "\n",
    "meta = {}\n",
    "for i in meta_files:\n",
    "    file_path = os.path.join(meta_dir, i)\n",
    "    with open(file_path, 'r') as f:\n",
    "        meta_data = json.load(f)\n",
    "        meta.update(meta_data)\n",
    "    print(f\"Loaded {file_path}\")\n"
   ]
  },
  {
   "cell_type": "code",
   "execution_count": 6,
   "metadata": {},
   "outputs": [
    {
     "data": {
      "text/plain": [
       "446800"
      ]
     },
     "execution_count": 6,
     "metadata": {},
     "output_type": "execute_result"
    }
   ],
   "source": [
    "len(list(meta.keys()))"
   ]
  },
  {
   "cell_type": "code",
   "execution_count": 7,
   "metadata": {},
   "outputs": [],
   "source": [
    "with open(osp.join(data_dir, \"meta.json\"), \"w\") as f:\n",
    "    json.dump(meta, f,indent=4)"
   ]
  },
  {
   "cell_type": "code",
   "execution_count": 10,
   "metadata": {},
   "outputs": [
    {
     "name": "stdout",
     "output_type": "stream",
     "text": [
      "Loaded outputs/Web20240303_data_rare_nbv/info_meta/info_meta_00000000to00010000.json\n",
      "Loaded outputs/Web20240303_data_rare_nbv/info_meta/info_meta_00006000to00010000.json\n",
      "Loaded outputs/Web20240303_data_rare_nbv/info_meta/info_meta_00010000to00020000.json\n",
      "Loaded outputs/Web20240303_data_rare_nbv/info_meta/info_meta_00016000to00020000.json\n",
      "Loaded outputs/Web20240303_data_rare_nbv/info_meta/info_meta_00020000to00030000.json\n",
      "Loaded outputs/Web20240303_data_rare_nbv/info_meta/info_meta_00027000to00030000.json\n",
      "Loaded outputs/Web20240303_data_rare_nbv/info_meta/info_meta_00030000to00040000.json\n",
      "Loaded outputs/Web20240303_data_rare_nbv/info_meta/info_meta_00036000to00040000.json\n",
      "Loaded outputs/Web20240303_data_rare_nbv/info_meta/info_meta_00040000to00050000.json\n",
      "Loaded outputs/Web20240303_data_rare_nbv/info_meta/info_meta_00046000to00050000.json\n",
      "Loaded outputs/Web20240303_data_rare_nbv/info_meta/info_meta_00050000to00060000.json\n",
      "Loaded outputs/Web20240303_data_rare_nbv/info_meta/info_meta_00056000to00060000.json\n",
      "Loaded outputs/Web20240303_data_rare_nbv/info_meta/info_meta_00060000to00070000.json\n",
      "Loaded outputs/Web20240303_data_rare_nbv/info_meta/info_meta_00067000to00070000.json\n",
      "Loaded outputs/Web20240303_data_rare_nbv/info_meta/info_meta_00070000to00080000.json\n",
      "Loaded outputs/Web20240303_data_rare_nbv/info_meta/info_meta_00077000to00080000.json\n",
      "Loaded outputs/Web20240303_data_rare_nbv/info_meta/info_meta_00080000to00090000.json\n",
      "Loaded outputs/Web20240303_data_rare_nbv/info_meta/info_meta_00086000to00090000.json\n",
      "Loaded outputs/Web20240303_data_rare_nbv/info_meta/info_meta_00090000to00100000.json\n",
      "Loaded outputs/Web20240303_data_rare_nbv/info_meta/info_meta_00097000to00100000.json\n",
      "Loaded outputs/Web20240303_data_rare_nbv/info_meta/info_meta_00100000to00110000.json\n",
      "Loaded outputs/Web20240303_data_rare_nbv/info_meta/info_meta_00106000to00110000.json\n",
      "Loaded outputs/Web20240303_data_rare_nbv/info_meta/info_meta_00110000to00120000.json\n",
      "Loaded outputs/Web20240303_data_rare_nbv/info_meta/info_meta_00112000to00120000.json\n",
      "Loaded outputs/Web20240303_data_rare_nbv/info_meta/info_meta_00120000to00130000.json\n",
      "Loaded outputs/Web20240303_data_rare_nbv/info_meta/info_meta_00124000to00130000.json\n",
      "Loaded outputs/Web20240303_data_rare_nbv/info_meta/info_meta_00130000to00140000.json\n",
      "Loaded outputs/Web20240303_data_rare_nbv/info_meta/info_meta_00134000to00140000.json\n",
      "Loaded outputs/Web20240303_data_rare_nbv/info_meta/info_meta_00140000to00150000.json\n",
      "Loaded outputs/Web20240303_data_rare_nbv/info_meta/info_meta_00144000to00150000.json\n",
      "Loaded outputs/Web20240303_data_rare_nbv/info_meta/info_meta_00150000to00160000.json\n",
      "Loaded outputs/Web20240303_data_rare_nbv/info_meta/info_meta_00160000to00170000.json\n",
      "Loaded outputs/Web20240303_data_rare_nbv/info_meta/info_meta_00170000to00180000.json\n",
      "Loaded outputs/Web20240303_data_rare_nbv/info_meta/info_meta_00180000to00190000.json\n",
      "Loaded outputs/Web20240303_data_rare_nbv/info_meta/info_meta_00189000to00190000.json\n",
      "Loaded outputs/Web20240303_data_rare_nbv/info_meta/info_meta_00190000to00200000.json\n",
      "Loaded outputs/Web20240303_data_rare_nbv/info_meta/info_meta_00200000to00210000.json\n",
      "Loaded outputs/Web20240303_data_rare_nbv/info_meta/info_meta_00210000to00220000.json\n",
      "Loaded outputs/Web20240303_data_rare_nbv/info_meta/info_meta_00213000to00220000.json\n",
      "Loaded outputs/Web20240303_data_rare_nbv/info_meta/info_meta_00220000to00230000.json\n",
      "Loaded outputs/Web20240303_data_rare_nbv/info_meta/info_meta_00222000to00230000.json\n",
      "Loaded outputs/Web20240303_data_rare_nbv/info_meta/info_meta_00230000to00240000.json\n",
      "Loaded outputs/Web20240303_data_rare_nbv/info_meta/info_meta_00240000to00250000.json\n",
      "Loaded outputs/Web20240303_data_rare_nbv/info_meta/info_meta_00250000to00260000.json\n",
      "Loaded outputs/Web20240303_data_rare_nbv/info_meta/info_meta_00260000to00270000.json\n",
      "Loaded outputs/Web20240303_data_rare_nbv/info_meta/info_meta_00270000to00280000.json\n",
      "Loaded outputs/Web20240303_data_rare_nbv/info_meta/info_meta_00280000to00290000.json\n",
      "Failed to load outputs/Web20240303_data_rare_nbv/info_meta/info_meta_00290000to00300000.json\n",
      "Loaded outputs/Web20240303_data_rare_nbv/info_meta/info_meta_00292000to00300000.json\n",
      "Failed to load outputs/Web20240303_data_rare_nbv/info_meta/info_meta_00300000to00310000.json\n",
      "Loaded outputs/Web20240303_data_rare_nbv/info_meta/info_meta_00301000to00310000.json\n",
      "Failed to load outputs/Web20240303_data_rare_nbv/info_meta/info_meta_00310000to00320000.json\n",
      "Loaded outputs/Web20240303_data_rare_nbv/info_meta/info_meta_00311000to00320000.json\n",
      "Loaded outputs/Web20240303_data_rare_nbv/info_meta/info_meta_00320000to00330000.json\n",
      "Failed to load outputs/Web20240303_data_rare_nbv/info_meta/info_meta_00330000to00340000.json\n",
      "Loaded outputs/Web20240303_data_rare_nbv/info_meta/info_meta_00331000to00340000.json\n",
      "Failed to load outputs/Web20240303_data_rare_nbv/info_meta/info_meta_00340000to00350000.json\n",
      "Loaded outputs/Web20240303_data_rare_nbv/info_meta/info_meta_00341000to00350000.json\n",
      "Failed to load outputs/Web20240303_data_rare_nbv/info_meta/info_meta_00350000to00360000.json\n",
      "Loaded outputs/Web20240303_data_rare_nbv/info_meta/info_meta_00351000to00360000.json\n",
      "Failed to load outputs/Web20240303_data_rare_nbv/info_meta/info_meta_00360000to00370000.json\n",
      "Loaded outputs/Web20240303_data_rare_nbv/info_meta/info_meta_00361000to00370000.json\n",
      "Failed to load outputs/Web20240303_data_rare_nbv/info_meta/info_meta_00370000to00380000.json\n",
      "Loaded outputs/Web20240303_data_rare_nbv/info_meta/info_meta_00371000to00380000.json\n",
      "Failed to load outputs/Web20240303_data_rare_nbv/info_meta/info_meta_00380000to00390000.json\n",
      "Loaded outputs/Web20240303_data_rare_nbv/info_meta/info_meta_00381000to00390000.json\n",
      "Failed to load outputs/Web20240303_data_rare_nbv/info_meta/info_meta_00390000to00400000.json\n",
      "Loaded outputs/Web20240303_data_rare_nbv/info_meta/info_meta_00392000to00400000.json\n",
      "Loaded outputs/Web20240303_data_rare_nbv/info_meta/info_meta_00400000to00410000.json\n",
      "Loaded outputs/Web20240303_data_rare_nbv/info_meta/info_meta_00410000to00420000.json\n",
      "Loaded outputs/Web20240303_data_rare_nbv/info_meta/info_meta_00420000to00430000.json\n",
      "Loaded outputs/Web20240303_data_rare_nbv/info_meta/info_meta_00430000to00440000.json\n",
      "Loaded outputs/Web20240303_data_rare_nbv/info_meta/info_meta_00440000to00450000.json\n",
      "Loaded outputs/Web20240303_data_rare_nbv/info_meta/info_meta_00450000to00460000.json\n",
      "Loaded outputs/Web20240303_data_rare_nbv/info_meta/info_meta_00460000to00470000.json\n",
      "Loaded outputs/Web20240303_data_rare_nbv/info_meta/info_meta_00470000to00480000.json\n",
      "Loaded outputs/Web20240303_data_rare_nbv/info_meta/info_meta_00480000to00490000.json\n",
      "Loaded outputs/Web20240303_data_rare_nbv/info_meta/info_meta_00490000to00500000.json\n",
      "Loaded outputs/Web20240303_data_rare_nbv/info_meta/info_meta_00500000to00510000.json\n"
     ]
    }
   ],
   "source": [
    "info_meta = {}\n",
    "for i in info_meta_files:\n",
    "    file_path = os.path.join(info_meta_dir, i)\n",
    "    try:\n",
    "        with open(file_path, 'r') as f:\n",
    "            info_meta_data = json.load(f)\n",
    "            info_meta.update(info_meta_data)\n",
    "        print(f\"Loaded {file_path}\")\n",
    "    except:\n",
    "        print(f\"Failed to load {file_path}\")"
   ]
  },
  {
   "cell_type": "code",
   "execution_count": 11,
   "metadata": {},
   "outputs": [
    {
     "data": {
      "text/plain": [
       "446800"
      ]
     },
     "execution_count": 11,
     "metadata": {},
     "output_type": "execute_result"
    }
   ],
   "source": [
    "len(list(meta.keys()))"
   ]
  },
  {
   "cell_type": "code",
   "execution_count": 12,
   "metadata": {},
   "outputs": [],
   "source": [
    "'''\n",
    "Author: chence antonio.chan.cc@outlook.com\n",
    "Date: 2024-03-01 17:46:55\n",
    "LastEditors: chence antonio.chan.cc@outlook.com\n",
    "LastEditTime: 2024-03-01 20:00:16\n",
    "FilePath: /DatProc/merge_dict.ipynb\n",
    "Description: 这是默认设置,请设置`customMade`, 打开koroFileHeader查看配置 进行设置: https://github.com/OBKoro1/koro1FileHeader/wiki/%E9%85%8D%E7%BD%AE\n",
    "'''\n",
    "with open(osp.join(data_dir, \"info_meta.json\"), \"w\") as f:\n",
    "    json.dump(info_meta, f,indent=4)"
   ]
  },
  {
   "cell_type": "code",
   "execution_count": 1,
   "metadata": {},
   "outputs": [],
   "source": [
    "import json\n",
    "\n",
    "with open(\"outputs/Web20240303_data_rare_bv/meta.json\", \"r\") as f:\n",
    "    meta_dict = json.load(f)"
   ]
  },
  {
   "cell_type": "code",
   "execution_count": 7,
   "metadata": {},
   "outputs": [],
   "source": [
    "for k in meta_dict.keys():\n",
    "    meta_dict[k]['data_source'] = \"Web20240303/data_rare_bv\""
   ]
  },
  {
   "cell_type": "code",
   "execution_count": 8,
   "metadata": {},
   "outputs": [],
   "source": [
    "with open(\"outputs/Web20240303_data_rare_bv/meta.json\", \"w\") as f:\n",
    "    json.dump(meta_dict, f,indent=4)"
   ]
  },
  {
   "cell_type": "code",
   "execution_count": 9,
   "metadata": {},
   "outputs": [],
   "source": [
    "with open(\"outputs/Web20240303_data_rare_bv/info_meta.json\", \"r\") as f:\n",
    "    info_meta_dict = json.load(f)"
   ]
  },
  {
   "cell_type": "code",
   "execution_count": 14,
   "metadata": {},
   "outputs": [],
   "source": [
    "for k in info_meta_dict.keys():\n",
    "    info_meta_dict[k]['data_source'] = \"Web20240303/data_rare_bv\""
   ]
  },
  {
   "cell_type": "code",
   "execution_count": 15,
   "metadata": {},
   "outputs": [],
   "source": [
    "with open(\"outputs/Web20240303_data_rare_bv/info_meta.json\", \"w\") as f:\n",
    "    json.dump(info_meta_dict, f,indent=4)"
   ]
  }
 ],
 "metadata": {
  "kernelspec": {
   "display_name": "3ddfav2",
   "language": "python",
   "name": "python3"
  },
  "language_info": {
   "codemirror_mode": {
    "name": "ipython",
    "version": 3
   },
   "file_extension": ".py",
   "mimetype": "text/x-python",
   "name": "python",
   "nbconvert_exporter": "python",
   "pygments_lexer": "ipython3",
   "version": "3.9.16"
  }
 },
 "nbformat": 4,
 "nbformat_minor": 2
}
