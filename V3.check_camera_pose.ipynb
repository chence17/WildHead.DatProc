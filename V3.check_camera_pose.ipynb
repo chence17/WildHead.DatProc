{
 "cells": [
  {
   "cell_type": "code",
   "execution_count": 1,
   "metadata": {},
   "outputs": [],
   "source": [
    "import os\n",
    "import cv2\n",
    "import numpy as np\n",
    "from utils.tool import render_camera"
   ]
  },
  {
   "cell_type": "code",
   "execution_count": null,
   "metadata": {},
   "outputs": [],
   "source": [
    "def show_render_check(cur_dt, data_root):\n",
    "    cam = np.array(cur_dt['camera'])\n",
    "    r_img = render_camera(cam)\n",
    "    h, w = r_img.shape[:2]\n",
    "    a_img = cv2.imread(os.path.join(data_root, cur_dt['align_image_path']))\n",
    "    a_img = cv2.cvtColor(a_img, cv2.COLOR_BGR2RGB)\n",
    "    a_img = cv2.resize(a_img, (h, w))\n",
    "    vis_img = np.hstack([r_img, a_img])\n",
    "    display(Image.fromarray(vis_img))"
   ]
  },
  {
   "cell_type": "code",
   "execution_count": 3,
   "metadata": {},
   "outputs": [
    {
     "name": "stdout",
     "output_type": "stream",
     "text": [
      "['meta_0000000.json', 'meta_0068766.json', 'meta_0094520.json', 'meta_0109979.json', 'meta_0135759.json', 'meta_0147690.json', 'meta_0257506.json']\n"
     ]
    }
   ],
   "source": [
    "# get all json files\n",
    "data_root = '/data2/chence/ExportedSVhq'\n",
    "json_files = sorted([i for i in os.listdir(data_root) if i.endswith('.json')])\n",
    "print(json_files)"
   ]
  },
  {
   "cell_type": "code",
   "execution_count": 5,
   "metadata": {},
   "outputs": [
    {
     "name": "stderr",
     "output_type": "stream",
     "text": [
      "100%|██████████| 7/7 [00:59<00:00,  8.48s/it]"
     ]
    },
    {
     "name": "stdout",
     "output_type": "stream",
     "text": [
      "404566\n"
     ]
    },
    {
     "name": "stderr",
     "output_type": "stream",
     "text": [
      "\n"
     ]
    }
   ],
   "source": [
    "import json\n",
    "import tqdm\n",
    "merged_data = {}\n",
    "for idx in tqdm.tqdm(range(len(json_files))):\n",
    "    json_file = json_files[idx]\n",
    "    with open(os.path.join(data_root, json_file), 'r') as f:\n",
    "        data = json.load(f)\n",
    "        merged_data.update(data)\n",
    "print(len(merged_data))"
   ]
  },
  {
   "cell_type": "code",
   "execution_count": null,
   "metadata": {},
   "outputs": [],
   "source": []
  }
 ],
 "metadata": {
  "kernelspec": {
   "display_name": "datproc",
   "language": "python",
   "name": "python3"
  },
  "language_info": {
   "codemirror_mode": {
    "name": "ipython",
    "version": 3
   },
   "file_extension": ".py",
   "mimetype": "text/x-python",
   "name": "python",
   "nbconvert_exporter": "python",
   "pygments_lexer": "ipython3",
   "version": "3.8.17"
  }
 },
 "nbformat": 4,
 "nbformat_minor": 2
}
