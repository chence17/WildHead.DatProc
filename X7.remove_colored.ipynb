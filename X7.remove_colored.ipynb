{
 "cells": [
  {
   "cell_type": "markdown",
   "metadata": {},
   "source": [
    "# Remove images from single_view_hq that are colorized"
   ]
  },
  {
   "cell_type": "code",
   "execution_count": 1,
   "metadata": {},
   "outputs": [],
   "source": [
    "import os, json, tqdm, shutil\n",
    "\n"
   ]
  },
  {
   "cell_type": "code",
   "execution_count": 2,
   "metadata": {},
   "outputs": [],
   "source": [
    "'''\n",
    "Author: tianhao 120090472@link.cuhk.edu.cn\n",
    "Date: 2023-10-29 13:34:05\n",
    "LastEditors: tianhao 120090472@link.cuhk.edu.cn\n",
    "LastEditTime: 2023-10-29 14:25:14\n",
    "FilePath: /DatProc/X7.remove_colored.ipynb\n",
    "Description: \n",
    "\n",
    "Copyright (c) 2023 by ${git_name_email}, All Rights Reserved. \n",
    "'''\n",
    "input_path = '/data2/chence/PanoHeadData/single_view_hq/'\n",
    "json_file_name = 'dataset.json'\n",
    "data_sources = [\"CelebA\" ,\"FFHQ\", \"K-Hairstyle/Training\", \"K-Hairstyle/Validation\", \"LPFF\", \"Web\", \"OCD/Original\"]\n",
    "needed_subdirs = ['align_images', 'align_masks', 'align_parsking']\n",
    "output_path = '/data2/chence/PanoHeadData/single_view_hq_baseline'\n",
    "json_path = os.path.join(input_path, json_file_name)\n",
    "for subdir in needed_subdirs:\n",
    "    os.makedirs(os.path.join(output_path, subdir), exist_ok=True)"
   ]
  },
  {
   "cell_type": "code",
   "execution_count": null,
   "metadata": {},
   "outputs": [],
   "source": []
  },
  {
   "cell_type": "code",
   "execution_count": 3,
   "metadata": {},
   "outputs": [],
   "source": [
    "with open(json_path, 'rb') as f:\n",
    "    json_dict = json.load(f)     # key: '00000/img00000000.png' ...   \n"
   ]
  },
  {
   "cell_type": "code",
   "execution_count": 4,
   "metadata": {},
   "outputs": [
    {
     "name": "stderr",
     "output_type": "stream",
     "text": [
      "  0%|          | 1000/404524 [00:03<25:09, 267.26it/s]\n"
     ]
    },
    {
     "ename": "FileNotFoundError",
     "evalue": "[Errno 2] No such file or directory: '/data2/chence/PanoHeadData/single_view_hq_baseline/align_images/00001/img00001000.jpg'",
     "output_type": "error",
     "traceback": [
      "\u001b[0;31m---------------------------------------------------------------------------\u001b[0m",
      "\u001b[0;31mFileNotFoundError\u001b[0m                         Traceback (most recent call last)",
      "\u001b[1;32m/home/shitianhao/project/DatProc/X7.remove_colored.ipynb Cell 5\u001b[0m line \u001b[0;36m1\n\u001b[1;32m     <a href='vscode-notebook-cell://ssh-remote%2Bwoot/home/shitianhao/project/DatProc/X7.remove_colored.ipynb#W4sdnNjb2RlLXJlbW90ZQ%3D%3D?line=10'>11</a>\u001b[0m             img_output_path \u001b[39m=\u001b[39m os\u001b[39m.\u001b[39mpath\u001b[39m.\u001b[39mjoin(output_path, subdir, img_name)\n\u001b[1;32m     <a href='vscode-notebook-cell://ssh-remote%2Bwoot/home/shitianhao/project/DatProc/X7.remove_colored.ipynb#W4sdnNjb2RlLXJlbW90ZQ%3D%3D?line=11'>12</a>\u001b[0m             os\u001b[39m.\u001b[39mmakedirs(output_path, exist_ok\u001b[39m=\u001b[39m\u001b[39mTrue\u001b[39;00m)\n\u001b[0;32m---> <a href='vscode-notebook-cell://ssh-remote%2Bwoot/home/shitianhao/project/DatProc/X7.remove_colored.ipynb#W4sdnNjb2RlLXJlbW90ZQ%3D%3D?line=12'>13</a>\u001b[0m             shutil\u001b[39m.\u001b[39;49mcopy(img_input_path, img_output_path)\n\u001b[1;32m     <a href='vscode-notebook-cell://ssh-remote%2Bwoot/home/shitianhao/project/DatProc/X7.remove_colored.ipynb#W4sdnNjb2RlLXJlbW90ZQ%3D%3D?line=13'>14</a>\u001b[0m             \u001b[39mbreak\u001b[39;00m\n\u001b[1;32m     <a href='vscode-notebook-cell://ssh-remote%2Bwoot/home/shitianhao/project/DatProc/X7.remove_colored.ipynb#W4sdnNjb2RlLXJlbW90ZQ%3D%3D?line=17'>18</a>\u001b[0m \u001b[39m# _image_fnames = sorted(label_dict.keys()) # list\u001b[39;00m\n",
      "File \u001b[0;32m~/.conda/envs/datproc/lib/python3.8/shutil.py:418\u001b[0m, in \u001b[0;36mcopy\u001b[0;34m(src, dst, follow_symlinks)\u001b[0m\n\u001b[1;32m    416\u001b[0m \u001b[39mif\u001b[39;00m os\u001b[39m.\u001b[39mpath\u001b[39m.\u001b[39misdir(dst):\n\u001b[1;32m    417\u001b[0m     dst \u001b[39m=\u001b[39m os\u001b[39m.\u001b[39mpath\u001b[39m.\u001b[39mjoin(dst, os\u001b[39m.\u001b[39mpath\u001b[39m.\u001b[39mbasename(src))\n\u001b[0;32m--> 418\u001b[0m copyfile(src, dst, follow_symlinks\u001b[39m=\u001b[39;49mfollow_symlinks)\n\u001b[1;32m    419\u001b[0m copymode(src, dst, follow_symlinks\u001b[39m=\u001b[39mfollow_symlinks)\n\u001b[1;32m    420\u001b[0m \u001b[39mreturn\u001b[39;00m dst\n",
      "File \u001b[0;32m~/.conda/envs/datproc/lib/python3.8/shutil.py:264\u001b[0m, in \u001b[0;36mcopyfile\u001b[0;34m(src, dst, follow_symlinks)\u001b[0m\n\u001b[1;32m    262\u001b[0m     os\u001b[39m.\u001b[39msymlink(os\u001b[39m.\u001b[39mreadlink(src), dst)\n\u001b[1;32m    263\u001b[0m \u001b[39melse\u001b[39;00m:\n\u001b[0;32m--> 264\u001b[0m     \u001b[39mwith\u001b[39;00m \u001b[39mopen\u001b[39m(src, \u001b[39m'\u001b[39m\u001b[39mrb\u001b[39m\u001b[39m'\u001b[39m) \u001b[39mas\u001b[39;00m fsrc, \u001b[39mopen\u001b[39;49m(dst, \u001b[39m'\u001b[39;49m\u001b[39mwb\u001b[39;49m\u001b[39m'\u001b[39;49m) \u001b[39mas\u001b[39;00m fdst:\n\u001b[1;32m    265\u001b[0m         \u001b[39m# macOS\u001b[39;00m\n\u001b[1;32m    266\u001b[0m         \u001b[39mif\u001b[39;00m _HAS_FCOPYFILE:\n\u001b[1;32m    267\u001b[0m             \u001b[39mtry\u001b[39;00m:\n",
      "\u001b[0;31mFileNotFoundError\u001b[0m: [Errno 2] No such file or directory: '/data2/chence/PanoHeadData/single_view_hq_baseline/align_images/00001/img00001000.jpg'"
     ]
    }
   ],
   "source": [
    "output_json = {}\n",
    "for img_name, img_meta in tqdm.tqdm(json_dict.items()):\n",
    "    img_source = img_meta['data_source']\n",
    "    img_name = img_name.replace('.png', '.jpg')\n",
    "    if img_source in data_sources:\n",
    "        # add key, value to output_json\n",
    "        output_json[img_name] = img_meta\n",
    "        # copy image to output_path\n",
    "        for subdir in needed_subdirs:\n",
    "            img_input_path = os.path.join(input_path, subdir, img_name)\n",
    "            img_output_path = os.path.join(output_path, subdir, img_name)\n",
    "            os.makedirs(img_output_path, exist_ok=True)\n",
    "            shutil.copy(img_input_path, img_output_path)\n",
    "            break\n",
    "\n",
    "\n",
    "\n",
    "# _image_fnames = sorted(label_dict.keys()) # list"
   ]
  }
 ],
 "metadata": {
  "kernelspec": {
   "display_name": "datproc",
   "language": "python",
   "name": "python3"
  },
  "language_info": {
   "codemirror_mode": {
    "name": "ipython",
    "version": 3
   },
   "file_extension": ".py",
   "mimetype": "text/x-python",
   "name": "python",
   "nbconvert_exporter": "python",
   "pygments_lexer": "ipython3",
   "version": "3.8.17"
  }
 },
 "nbformat": 4,
 "nbformat_minor": 2
}
