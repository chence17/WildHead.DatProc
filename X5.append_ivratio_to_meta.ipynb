{
 "cells": [
  {
   "cell_type": "code",
   "execution_count": 20,
   "metadata": {},
   "outputs": [
    {
     "name": "stdout",
     "output_type": "stream",
     "text": [
      "CelebA\n",
      "FFHQ\n",
      "K-Hairstyle/Training\n",
      "K-Hairstyle/Validation\n",
      "LPFF\n",
      "OCD/Brown Black\n",
      "OCD/Charcoal\n",
      "OCD/Chestnut\n",
      "OCD/Dark Maroon\n",
      "OCD/Dark Reddish Brown\n",
      "OCD/Darkest Brown\n",
      "OCD/Espresso\n",
      "OCD/Jet\n",
      "OCD/Original\n",
      "OCD/Sable\n",
      "OCD/Wine\n",
      "Web\n"
     ]
    }
   ],
   "source": [
    "import json\n",
    "\n",
    "origin_meta_path = '/data/PanoHeadData/single_view_hq/dataset.json'\n",
    "\n",
    "with open(origin_meta_path, 'r') as f:\n",
    "    origin_meta = json.load(f)\n",
    "\n",
    "ds_list = []\n",
    "for k, v in origin_meta.items():\n",
    "    ds_list.append(v.get('data_source', ''))\n",
    "ds_list = sorted(list(set(ds_list)))\n",
    "for i in ds_list:\n",
    "    print(i)\n"
   ]
  },
  {
   "cell_type": "code",
   "execution_count": 50,
   "metadata": {},
   "outputs": [],
   "source": [
    "def load_json(json_file):\n",
    "    with open(json_file, 'r') as f:\n",
    "        data = json.load(f)\n",
    "    return data\n",
    "\n",
    "celeba_data = load_json('temp/celeba_iv2b_ratios.json')\n",
    "ffhq_data = load_json('temp/ffhq_iv2b_ratios.json')\n",
    "lpff_data = load_json('temp/lpff_iv2b_ratios.json')\n",
    "web_data = load_json('temp/web_iv2b_ratios.json')"
   ]
  },
  {
   "cell_type": "code",
   "execution_count": 73,
   "metadata": {},
   "outputs": [],
   "source": [
    "import os.path as osp\n",
    "\n",
    "for cur_key in origin_meta.keys():\n",
    "    data_source = origin_meta[cur_key]['data_source']\n",
    "    base_name = osp.basename(origin_meta[cur_key]['head_image_path']).split('.')[0]\n",
    "    cur_splits = base_name.split('_')\n",
    "    cur_base_key = '_'.join(cur_splits[:-1])\n",
    "    cur_box_key = cur_splits[-1]\n",
    "    if data_source == 'CelebA':\n",
    "        iv2b_ratio = celeba_data[f\"img_celeba/{cur_base_key}.jpg\"][cur_box_key]['iv2b_ratio']\n",
    "    elif data_source == 'FFHQ':\n",
    "        iv2b_ratio = ffhq_data[f\"in-the-wild-images/{cur_base_key}.png\"][cur_box_key]['iv2b_ratio']\n",
    "    elif data_source == 'LPFF':\n",
    "        iv2b_ratio = lpff_data[f\"raw/{cur_base_key}.png\"][cur_box_key]['iv2b_ratio']\n",
    "    elif data_source == 'Web':\n",
    "        iv2b_ratio = web_data[f\"Data/{cur_base_key}.png\"][cur_box_key]['iv2b_ratio']\n",
    "    else:\n",
    "        iv2b_ratio = 0.0\n",
    "    origin_meta[cur_key].update({'iv2b_ratio': iv2b_ratio})"
   ]
  },
  {
   "cell_type": "code",
   "execution_count": 75,
   "metadata": {},
   "outputs": [
    {
     "name": "stdout",
     "output_type": "stream",
     "text": [
      "Saving to /data/PanoHeadData/single_view_hq/dataset.json...\n"
     ]
    }
   ],
   "source": [
    "print(f'Saving to {origin_meta_path}...')\n",
    "with open(origin_meta_path, 'w') as f:\n",
    "    json.dump(origin_meta, f, indent=4)"
   ]
  }
 ],
 "metadata": {
  "kernelspec": {
   "display_name": "3dpndp",
   "language": "python",
   "name": "python3"
  },
  "language_info": {
   "codemirror_mode": {
    "name": "ipython",
    "version": 3
   },
   "file_extension": ".py",
   "mimetype": "text/x-python",
   "name": "python",
   "nbconvert_exporter": "python",
   "pygments_lexer": "ipython3",
   "version": "3.9.16"
  }
 },
 "nbformat": 4,
 "nbformat_minor": 2
}
