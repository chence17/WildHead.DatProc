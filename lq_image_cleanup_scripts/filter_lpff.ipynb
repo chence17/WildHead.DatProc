{
 "cells": [
  {
   "cell_type": "code",
   "execution_count": 3,
   "metadata": {},
   "outputs": [
    {
     "name": "stdout",
     "output_type": "stream",
     "text": [
      "['meta_1-2.json', 'meta_2-2.json']\n"
     ]
    }
   ],
   "source": [
    "import os\n",
    "import json\n",
    "import os.path as osp\n",
    "\n",
    "\n",
    "def load_json(json_path):\n",
    "    with open(json_path, 'r') as f:\n",
    "        json_data = json.load(f)\n",
    "    return json_data\n",
    "\n",
    "\n",
    "data_root = '/data_new/chence/LPFF'\n",
    "json_files = sorted([i for i in os.listdir(data_root) if i.endswith('.json') and i.startswith('meta_')])\n",
    "print(json_files)"
   ]
  },
  {
   "cell_type": "code",
   "execution_count": 4,
   "metadata": {},
   "outputs": [
    {
     "name": "stdout",
     "output_type": "stream",
     "text": [
      "10000\n",
      "5688\n",
      "15688\n"
     ]
    }
   ],
   "source": [
    "merged_data = {}\n",
    "for idx in range(len(json_files)):\n",
    "    json_file = json_files[idx]\n",
    "    with open(os.path.join(data_root, json_file), 'r') as f:\n",
    "        data = json.load(f)\n",
    "        print(len(data))\n",
    "        merged_data.update(data)\n",
    "print(len(merged_data))"
   ]
  },
  {
   "cell_type": "code",
   "execution_count": 4,
   "metadata": {},
   "outputs": [],
   "source": [
    "meta_json_file = 'meta.json'\n",
    "with open(os.path.join(data_root, meta_json_file), 'w') as f:\n",
    "    json.dump(merged_data, f, indent=4)"
   ]
  },
  {
   "cell_type": "code",
   "execution_count": 5,
   "metadata": {},
   "outputs": [
    {
     "name": "stdout",
     "output_type": "stream",
     "text": [
      "19590\n"
     ]
    }
   ],
   "source": [
    "landmark_json_file = 'raw_lm.json'\n",
    "landmark_json_data = load_json(os.path.join(data_root, landmark_json_file))\n",
    "print(len(landmark_json_data))"
   ]
  },
  {
   "cell_type": "code",
   "execution_count": 22,
   "metadata": {},
   "outputs": [
    {
     "name": "stderr",
     "output_type": "stream",
     "text": [
      "100%|██████████| 19590/19590 [00:00<00:00, 129843.74it/s]\n"
     ]
    }
   ],
   "source": [
    "import tqdm\n",
    "\n",
    "lm_data = {}\n",
    "for k in tqdm.tqdm(landmark_json_data.keys()):\n",
    "    nk = f'{k[:-3]}.png'\n",
    "    hid = int(k[-2:])-1\n",
    "    if nk not in lm_data.keys():\n",
    "        lm_data[nk] = {}\n",
    "    lm_data[nk][f'{hid:02d}'] = landmark_json_data[k]"
   ]
  },
  {
   "cell_type": "code",
   "execution_count": 32,
   "metadata": {},
   "outputs": [],
   "source": [
    "merged_key = 'raw/100030176@N02_11458024434.png'\n",
    "merged_img = merged_key.split('/')[1]"
   ]
  },
  {
   "cell_type": "code",
   "execution_count": 34,
   "metadata": {},
   "outputs": [
    {
     "data": {
      "text/plain": [
       "dict_keys(['00'])"
      ]
     },
     "execution_count": 34,
     "metadata": {},
     "output_type": "execute_result"
    }
   ],
   "source": []
  },
  {
   "cell_type": "code",
   "execution_count": 35,
   "metadata": {},
   "outputs": [
    {
     "data": {
      "text/plain": [
       "dict_keys(['00', '01', '02'])"
      ]
     },
     "execution_count": 35,
     "metadata": {},
     "output_type": "execute_result"
    }
   ],
   "source": [
    "merged_data[merged_key]['raw']['landmarks'].keys()"
   ]
  },
  {
   "cell_type": "code",
   "execution_count": 39,
   "metadata": {},
   "outputs": [
    {
     "ename": "AttributeError",
     "evalue": "module 'ChamferDistancePytorch.chamfer2D' has no attribute 'chamfer_2DDist'",
     "output_type": "error",
     "traceback": [
      "\u001b[0;31m---------------------------------------------------------------------------\u001b[0m",
      "\u001b[0;31mAttributeError\u001b[0m                            Traceback (most recent call last)",
      "\u001b[1;32m/home/chence/Research/3DHeadGen/DatProc/lq_image_cleanup_scripts/filter_lpff.ipynb Cell 9\u001b[0m line \u001b[0;36m6\n\u001b[1;32m      <a href='vscode-notebook-cell://ssh-remote%2B10.26.2.35/home/chence/Research/3DHeadGen/DatProc/lq_image_cleanup_scripts/filter_lpff.ipynb#X22sdnNjb2RlLXJlbW90ZQ%3D%3D?line=2'>3</a>\u001b[0m sys\u001b[39m.\u001b[39mpath\u001b[39m.\u001b[39minsert(\u001b[39m0\u001b[39m, \u001b[39m'\u001b[39m\u001b[39m..\u001b[39m\u001b[39m'\u001b[39m)\n\u001b[1;32m      <a href='vscode-notebook-cell://ssh-remote%2B10.26.2.35/home/chence/Research/3DHeadGen/DatProc/lq_image_cleanup_scripts/filter_lpff.ipynb#X22sdnNjb2RlLXJlbW90ZQ%3D%3D?line=3'>4</a>\u001b[0m \u001b[39mimport\u001b[39;00m \u001b[39mChamferDistancePytorch\u001b[39;00m\u001b[39m.\u001b[39;00m\u001b[39mchamfer2D\u001b[39;00m \u001b[39mas\u001b[39;00m \u001b[39mchamfer2D\u001b[39;00m\n\u001b[0;32m----> <a href='vscode-notebook-cell://ssh-remote%2B10.26.2.35/home/chence/Research/3DHeadGen/DatProc/lq_image_cleanup_scripts/filter_lpff.ipynb#X22sdnNjb2RlLXJlbW90ZQ%3D%3D?line=5'>6</a>\u001b[0m chamLoss \u001b[39m=\u001b[39m chamfer2D\u001b[39m.\u001b[39;49mchamfer_2DDist()\n",
      "\u001b[0;31mAttributeError\u001b[0m: module 'ChamferDistancePytorch.chamfer2D' has no attribute 'chamfer_2DDist'"
     ]
    }
   ],
   "source": [
    "import torch\n",
    "import sys\n",
    "sys.path.insert(0, '..')\n",
    "import ChamferDistancePytorch.chamfer2D as chamfer2D\n",
    "\n",
    "chamLoss = chamfer2D.chamfer_2DDist()\n"
   ]
  },
  {
   "cell_type": "code",
   "execution_count": 37,
   "metadata": {},
   "outputs": [
    {
     "name": "stdout",
     "output_type": "stream",
     "text": [
      "[[-807.046875    2.46875 ]\n",
      " [-807.046875  -28.90625 ]\n",
      " [-800.046875  -61.671875]\n",
      " [-787.046875  -85.875   ]\n",
      " [-759.703125 -109.25    ]\n",
      " [-724.015625 -126.453125]\n",
      " [-682.328125 -128.140625]\n",
      " [-639.640625 -138.      ]\n",
      " [-627.984375 -139.34375 ]\n",
      " [-631.015625 -131.      ]\n",
      " [-648.5625   -129.484375]\n",
      " [-667.109375 -127.796875]\n",
      " [-684.3125   -117.765625]\n",
      " [-681.21875  -114.5625  ]\n",
      " [-681.390625 -117.359375]\n",
      " [-688.5625   -117.765625]\n",
      " [-709.734375 -113.390625]\n",
      " [-710.953125   14.015625]\n",
      " [-696.609375   35.703125]\n",
      " [-682.4375     35.875   ]\n",
      " [-676.4375     28.703125]\n",
      " [-662.4375     14.359375]\n",
      " [-666.640625    1.1875  ]\n",
      " [-653.984375  -11.640625]\n",
      " [-649.5       -18.640625]\n",
      " [-644.1875    -32.8125  ]\n",
      " [-647.046875  -47.5     ]\n",
      " [-650.78125   -37.53125 ]\n",
      " [-629.09375   -60.5625  ]\n",
      " [-607.578125  -63.25    ]\n",
      " [-606.40625   -74.5     ]\n",
      " [-649.4375    -83.015625]\n",
      " [-636.265625  -83.1875  ]\n",
      " [-623.4375    -83.359375]\n",
      " [-623.78125   -90.1875  ]\n",
      " [-618.125     -96.1875  ]\n",
      " [-683.78125    -3.1875  ]\n",
      " [-669.4375    -10.015625]\n",
      " [-670.78125   -17.1875  ]\n",
      " [-665.125     -31.53125 ]\n",
      " [-663.78125   -24.53125 ]\n",
      " [-669.609375  -17.53125 ]\n",
      " [-648.15625   -51.703125]\n",
      " [-641.15625   -50.359375]\n",
      " [-635.5       -57.359375]\n",
      " [-637.015625  -64.703125]\n",
      " [-642.671875  -64.875   ]\n",
      " [-635.15625   -64.875   ]\n",
      " [-637.78125  -101.734375]\n",
      " [-629.4375   -100.390625]\n",
      " [-622.265625 -100.21875 ]\n",
      " [-616.4375   -107.390625]\n",
      " [-603.609375 -106.21875 ]\n",
      " [-612.46875  -120.5625  ]\n",
      " [-615.5      -128.90625 ]\n",
      " [-606.640625 -116.25    ]\n",
      " [-604.953125 -103.421875]\n",
      " [-617.78125  -103.421875]\n",
      " [-616.4375   -103.421875]\n",
      " [-630.609375  -96.078125]\n",
      " [-644.953125 -101.734375]\n",
      " [-630.609375 -107.734375]\n",
      " [-623.78125  -107.734375]\n",
      " [-625.125    -107.734375]\n",
      " [-622.328125 -121.90625 ]\n",
      " [-618.125    -101.90625 ]\n",
      " [-623.78125  -101.90625 ]\n",
      " [-623.609375  -94.734375]]\n",
      "[[ -98.36328125   31.59765625]\n",
      " [-109.1640625     6.6796875 ]\n",
      " [-119.13671875   -4.89453125]\n",
      " [-116.9375      -17.46875   ]\n",
      " [-103.9375      -17.4140625 ]\n",
      " [ -92.30859375  -12.1875    ]\n",
      " [ -62.3359375    -6.7890625 ]\n",
      " [ -37.53515625    2.23828125]\n",
      " [ -28.5078125     9.06640625]\n",
      " [ -27.08203125   30.83984375]\n",
      " [ -24.828125     38.61328125]\n",
      " [ -23.57421875   39.38671875]\n",
      " [ -22.9765625    46.50390625]\n",
      " [  -8.3203125    38.078125  ]\n",
      " [  -1.3203125    23.65234375]\n",
      " [  -1.3203125    10.76953125]\n",
      " [ -15.3203125     0.97265625]\n",
      " [ -31.0703125   -10.6015625 ]\n",
      " [ -14.09765625  -11.4296875 ]\n",
      " [  -7.09765625  -13.80078125]\n",
      " [ -11.8984375    -7.62890625]\n",
      " [  -4.0703125    -7.62890625]\n",
      " [  -8.98828125    3.34375   ]\n",
      " [   7.2109375    -5.85546875]\n",
      " [  11.609375     -6.68359375]\n",
      " [  17.8359375    -9.0546875 ]\n",
      " [  16.890625      4.9453125 ]\n",
      " [ -12.015625     -8.40234375]\n",
      " [ -12.84375     -22.34765625]\n",
      " [  -2.04296875  -17.94921875]\n",
      " [  -8.04296875  -14.09375   ]\n",
      " [ -41.98828125  -18.06640625]\n",
      " [ -35.98828125  -11.06640625]\n",
      " [ -20.6171875    -4.06640625]\n",
      " [ -17.41796875   -5.72265625]\n",
      " [  -9.76171875   -7.09375   ]\n",
      " [ -21.87109375    0.796875  ]\n",
      " [ -17.2421875    -8.57421875]\n",
      " [ -15.04296875   -2.40234375]\n",
      " [ -12.015625     -8.57421875]\n",
      " [ -12.671875     -6.203125  ]\n",
      " [ -14.87109375   -5.375     ]\n",
      " [  -1.390625      1.5703125 ]\n",
      " [  -0.5625       -0.62890625]\n",
      " [   8.63671875   -1.45703125]\n",
      " [   5.4921875    -0.62890625]\n",
      " [   2.46484375   -4.4296875 ]\n",
      " [   5.4375       -4.4296875 ]\n",
      " [ -26.7890625    -8.26953125]\n",
      " [ -21.98828125  -16.640625  ]\n",
      " [ -26.6171875   -12.83984375]\n",
      " [ -19.7890625   -12.83984375]\n",
      " [  -4.41796875  -12.66796875]\n",
      " [  -5.19140625  -12.66796875]\n",
      " [   0.86328125  -12.83984375]\n",
      " [   1.63671875   -1.26953125]\n",
      " [  -8.390625      6.38671875]\n",
      " [ -17.58984375    1.7578125 ]\n",
      " [ -24.41796875    1.7578125 ]\n",
      " [ -26.7890625    -0.61328125]\n",
      " [ -26.7890625    -8.26953125]\n",
      " [ -26.7890625    -9.640625  ]\n",
      " [ -23.58984375   -9.640625  ]\n",
      " [ -21.390625     -3.46875   ]\n",
      " [  -8.5078125     0.33203125]\n",
      " [  -9.76171875    9.53125   ]\n",
      " [ -23.58984375    3.359375  ]\n",
      " [ -19.7890625    -1.26953125]]\n",
      "[[ 940.91796875 -107.55859375]\n",
      " [ 945.359375   -123.01171875]\n",
      " [ 952.359375   -131.54296875]\n",
      " [ 965.359375   -142.5546875 ]\n",
      " [ 988.72265625 -144.0859375 ]\n",
      " [1009.046875   -139.21484375]\n",
      " [1035.37109375 -129.98046875]\n",
      " [1058.25390625 -126.1875    ]\n",
      " [1070.9296875  -122.0703125 ]\n",
      " [1073.91796875 -119.1875    ]\n",
      " [1076.50390625 -130.3046875 ]\n",
      " [1076.609375   -139.5390625 ]\n",
      " [1072.59765625 -144.41015625]\n",
      " [1077.390625   -155.87890625]\n",
      " [1071.06640625 -176.30859375]\n",
      " [1066.625      -193.77734375]\n",
      " [1043.7421875  -205.32421875]\n",
      " [ 984.90234375 -114.6640625 ]\n",
      " [ 990.82421875 -108.33984375]\n",
      " [ 997.82421875 -110.8984375 ]\n",
      " [ 997.90234375 -115.33984375]\n",
      " [1007.4609375  -119.78125   ]\n",
      " [1009.046875   -125.78125   ]\n",
      " [1022.72265625 -141.33984375]\n",
      " [1025.03515625 -148.33984375]\n",
      " [1036.828125   -164.22265625]\n",
      " [1041.69921875 -167.98828125]\n",
      " [1020.13671875 -134.234375  ]\n",
      " [1026.4609375  -140.8828125 ]\n",
      " [1045.70703125 -137.08984375]\n",
      " [1044.1484375  -129.3359375 ]\n",
      " [1024.90234375 -138.54296875]\n",
      " [1030.90234375 -131.54296875]\n",
      " [1046.4609375  -124.54296875]\n",
      " [1047.13671875 -138.54296875]\n",
      " [1053.8125     -144.54296875]\n",
      " [1000.4609375  -114.234375  ]\n",
      " [1004.90234375 -119.3515625 ]\n",
      " [1009.01953125 -119.3515625 ]\n",
      " [1015.6953125  -132.67578125]\n",
      " [1016.01953125 -125.67578125]\n",
      " [1011.90234375 -118.67578125]\n",
      " [1029.80078125 -145.67578125]\n",
      " [1027.91796875 -154.234375  ]\n",
      " [1039.03515625 -161.234375  ]\n",
      " [1036.828125   -163.1171875 ]\n",
      " [1034.59375    -160.55859375]\n",
      " [1038.359375   -156.1171875 ]\n",
      " [1050.90234375 -135.87890625]\n",
      " [1055.265625   -131.11328125]\n",
      " [1050.82421875 -127.75      ]\n",
      " [1057.90234375 -133.671875  ]\n",
      " [1069.01953125 -139.671875  ]\n",
      " [1073.8125     -152.99609375]\n",
      " [1082.72265625 -164.76171875]\n",
      " [1082.37109375 -155.52734375]\n",
      " [1073.13671875 -144.41015625]\n",
      " [1066.4609375  -144.41015625]\n",
      " [1063.82421875 -139.96875   ]\n",
      " [1056.82421875 -133.64453125]\n",
      " [1050.90234375 -135.87890625]\n",
      " [1050.90234375 -132.99609375]\n",
      " [1060.4609375  -132.99609375]\n",
      " [1060.13671875 -132.99609375]\n",
      " [1073.1640625  -157.76171875]\n",
      " [1067.13671875 -142.203125  ]\n",
      " [1056.01953125 -142.203125  ]\n",
      " [1057.90234375 -142.203125  ]]\n"
     ]
    }
   ],
   "source": [
    "import numpy as np\n",
    "\n",
    "saved_lm_idx = []\n",
    "for lmk in lm_data[merged_img].keys():\n",
    "    lmval = lm_data[merged_img][lmk]\n",
    "    for lmk_ in merged_data[merged_key]['raw']['landmarks'].keys():\n",
    "        lmval_ = merged_data[merged_key]['raw']['landmarks'][lmk_]\n",
    "        print(np.array(lmval)-np.array(lmval_))"
   ]
  },
  {
   "cell_type": "code",
   "execution_count": 19,
   "metadata": {},
   "outputs": [
    {
     "data": {
      "text/plain": [
       "[[1341, 300],\n",
       " [1250, 314],\n",
       " [1170, 352],\n",
       " [1107, 380],\n",
       " [1041, 443],\n",
       " [1016, 510],\n",
       " [1002, 548],\n",
       " [1002, 600],\n",
       " [1016, 702],\n",
       " [1069, 807],\n",
       " [1107, 897],\n",
       " [1132, 974],\n",
       " [1198, 1027],\n",
       " [1275, 1055],\n",
       " [1352, 1065],\n",
       " [1432, 1055],\n",
       " [1533, 1027],\n",
       " [1471, 276],\n",
       " [1523, 300],\n",
       " [1561, 328],\n",
       " [1586, 380],\n",
       " [1586, 443],\n",
       " [1638, 625],\n",
       " [1666, 677],\n",
       " [1677, 730],\n",
       " [1677, 807],\n",
       " [1652, 873],\n",
       " [1523, 534],\n",
       " [1471, 534],\n",
       " [1418, 520],\n",
       " [1366, 534],\n",
       " [1303, 520],\n",
       " [1303, 548],\n",
       " [1313, 587],\n",
       " [1327, 611],\n",
       " [1341, 639],\n",
       " [1418, 352],\n",
       " [1443, 380],\n",
       " [1457, 429],\n",
       " [1457, 471],\n",
       " [1432, 429],\n",
       " [1418, 391],\n",
       " [1523, 677],\n",
       " [1547, 702],\n",
       " [1561, 754],\n",
       " [1547, 807],\n",
       " [1523, 768],\n",
       " [1509, 716],\n",
       " [1160, 520],\n",
       " [1198, 534],\n",
       " [1222, 573],\n",
       " [1236, 600],\n",
       " [1250, 625],\n",
       " [1236, 677],\n",
       " [1236, 730],\n",
       " [1212, 691],\n",
       " [1184, 653],\n",
       " [1170, 611],\n",
       " [1160, 587],\n",
       " [1160, 548],\n",
       " [1170, 520],\n",
       " [1198, 573],\n",
       " [1212, 611],\n",
       " [1212, 653],\n",
       " [1236, 730],\n",
       " [1222, 639],\n",
       " [1212, 611],\n",
       " [1198, 573]]"
      ]
     },
     "execution_count": 19,
     "metadata": {},
     "output_type": "execute_result"
    }
   ],
   "source": [
    "for key in merged_data.keys():\n",
    "    # img_name = key.split('/')[1].split('.')[0]\n",
    "    # if img_name in landmark_json_data.keys():\n",
    "        # merged_data[key]['raw']['landmarks'] = landmark_json_data[img_name]"
   ]
  },
  {
   "cell_type": "code",
   "execution_count": 5,
   "metadata": {},
   "outputs": [
    {
     "name": "stderr",
     "output_type": "stream",
     "text": [
      "100%|██████████| 15688/15688 [00:00<00:00, 113250.89it/s]\n",
      "100%|██████████| 15688/15688 [00:00<00:00, 436668.33it/s]\n"
     ]
    }
   ],
   "source": [
    "import tqdm\n",
    "\n",
    "for k in tqdm.tqdm(merged_data.keys()):\n",
    "    if len(merged_data[k]['head'].keys()) != 1:\n",
    "        if '00' in merged_data[k]['head'].keys():\n",
    "            merged_data[k]['head'] = {\n",
    "                '00': merged_data[k]['head']['00']\n",
    "            }\n",
    "        else:\n",
    "            print(k, 'No 00')\n",
    "\n",
    "for k in tqdm.tqdm(merged_data.keys()):\n",
    "    if merged_data[k]['head']['00']['view'] == 'back':\n",
    "        merged_data[k]['head'] = {}"
   ]
  },
  {
   "cell_type": "code",
   "execution_count": 6,
   "metadata": {},
   "outputs": [],
   "source": [
    "meta_hq_json_file = 'meta_hq.json'\n",
    "with open(os.path.join(data_root, meta_hq_json_file), 'w') as f:\n",
    "    json.dump(merged_data, f, indent=4)"
   ]
  },
  {
   "cell_type": "code",
   "execution_count": null,
   "metadata": {},
   "outputs": [],
   "source": []
  }
 ],
 "metadata": {
  "kernelspec": {
   "display_name": "datproc",
   "language": "python",
   "name": "python3"
  },
  "language_info": {
   "codemirror_mode": {
    "name": "ipython",
    "version": 3
   },
   "file_extension": ".py",
   "mimetype": "text/x-python",
   "name": "python",
   "nbconvert_exporter": "python",
   "pygments_lexer": "ipython3",
   "version": "3.8.17"
  }
 },
 "nbformat": 4,
 "nbformat_minor": 2
}
