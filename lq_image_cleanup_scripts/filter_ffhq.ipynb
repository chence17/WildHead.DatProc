{
 "cells": [
  {
   "cell_type": "code",
   "execution_count": 3,
   "metadata": {},
   "outputs": [
    {
     "name": "stdout",
     "output_type": "stream",
     "text": [
      "['meta_1-7.json', 'meta_2-7.json', 'meta_3-7.json', 'meta_4-7.json', 'meta_5-7.json', 'meta_6-7.json', 'meta_7-7.json']\n"
     ]
    }
   ],
   "source": [
    "import os\n",
    "import json\n",
    "import os.path as osp\n",
    "\n",
    "\n",
    "def load_json(json_path):\n",
    "    with open(json_path, 'r') as f:\n",
    "        json_data = json.load(f)\n",
    "    return json_data\n",
    "\n",
    "\n",
    "data_root = '/data5/chence/FFHQ/FFHQ'\n",
    "json_files = sorted([i for i in os.listdir(data_root) if i.endswith('.json') and i.startswith('meta_')])\n",
    "print(json_files)"
   ]
  },
  {
   "cell_type": "code",
   "execution_count": 4,
   "metadata": {},
   "outputs": [
    {
     "name": "stdout",
     "output_type": "stream",
     "text": [
      "10000\n",
      "10000\n",
      "10000\n",
      "10000\n",
      "10000\n",
      "10000\n",
      "9938\n",
      "69938\n"
     ]
    }
   ],
   "source": [
    "merged_data = {}\n",
    "for idx in range(len(json_files)):\n",
    "    json_file = json_files[idx]\n",
    "    with open(os.path.join(data_root, json_file), 'r') as f:\n",
    "        data = json.load(f)\n",
    "        print(len(data))\n",
    "        merged_data.update(data)\n",
    "print(len(merged_data))"
   ]
  },
  {
   "cell_type": "code",
   "execution_count": 3,
   "metadata": {},
   "outputs": [],
   "source": [
    "meta_json_file = 'meta.json'\n",
    "with open(os.path.join(data_root, meta_json_file), 'w') as f:\n",
    "    json.dump(merged_data, f, indent=4)"
   ]
  },
  {
   "cell_type": "code",
   "execution_count": 5,
   "metadata": {},
   "outputs": [
    {
     "name": "stdout",
     "output_type": "stream",
     "text": [
      "70000\n"
     ]
    }
   ],
   "source": [
    "landmark_json_file = '/data5/chence/FFHQ/FFHQ/ffhq-dataset-v2.json'\n",
    "landmark_json_data = load_json(os.path.join(data_root, landmark_json_file))\n",
    "print(len(landmark_json_data))"
   ]
  },
  {
   "cell_type": "code",
   "execution_count": 6,
   "metadata": {},
   "outputs": [
    {
     "name": "stderr",
     "output_type": "stream",
     "text": [
      "100%|██████████| 70000/70000 [00:00<00:00, 411802.64it/s]\n"
     ]
    }
   ],
   "source": [
    "from tqdm import tqdm\n",
    "\n",
    "origin_lm = {}\n",
    "for image, image_meta in tqdm(landmark_json_data.items()):\n",
    "    img_path = image_meta[\"in_the_wild\"][\"file_path\"].split('/')\n",
    "    del img_path[1]\n",
    "    img_path = '/'.join(img_path)\n",
    "    origin_lm[img_path] = image_meta[\"in_the_wild\"][\"face_landmarks\"]"
   ]
  },
  {
   "cell_type": "code",
   "execution_count": 7,
   "metadata": {},
   "outputs": [
    {
     "name": "stdout",
     "output_type": "stream",
     "text": [
      "Loaded compiled 2D CUDA chamfer distance\n"
     ]
    }
   ],
   "source": [
    "import torch\n",
    "import sys\n",
    "sys.path.insert(0, '..')\n",
    "import ChamferDistancePytorch.chamfer2D.dist_chamfer_2D as dist_chamfer_2D\n",
    "import numpy as np\n",
    "\n",
    "chamLoss = dist_chamfer_2D.chamfer_2DDist()"
   ]
  },
  {
   "cell_type": "code",
   "execution_count": 8,
   "metadata": {},
   "outputs": [
    {
     "name": "stderr",
     "output_type": "stream",
     "text": [
      "100%|██████████| 69938/69938 [09:46<00:00, 119.28it/s] \n"
     ]
    }
   ],
   "source": [
    "import copy\n",
    "\n",
    "filtered_meta = {}\n",
    "\n",
    "for merged_key in tqdm(list(merged_data.keys())):\n",
    "    saved_lm_idx = []\n",
    "    lmval = origin_lm[merged_key]\n",
    "    lmk_names = []\n",
    "    dists = []\n",
    "    for lmk_ in merged_data[merged_key]['raw']['landmarks'].keys():\n",
    "        if merged_data[merged_key]['head'][lmk_]['view'] == 'back': continue\n",
    "        lmval_ = merged_data[merged_key]['raw']['landmarks'][lmk_]\n",
    "        if lmval_ is None or lmval is None:\n",
    "            continue\n",
    "        dist1, dist2, idx1, idx2 = chamLoss(\n",
    "            torch.from_numpy(np.array(lmval_, dtype=np.float32)).unsqueeze(0).cuda(),\n",
    "            torch.from_numpy(np.array(lmval, dtype=np.float32)).unsqueeze(0).cuda()\n",
    "        )\n",
    "        lmk_names.append(lmk_)\n",
    "        dists.append((np.mean(dist1.cpu().detach().numpy())+np.mean(dist2.cpu().detach().numpy()))/2.)\n",
    "    if len(dists) != 0:\n",
    "        sid = lmk_names[np.argmin(dists)]\n",
    "        if merged_data[merged_key]['head'][sid]['view'] == 'front':\n",
    "            dists = np.array(dists)\n",
    "            saved_lm_idx.append(sid)\n",
    "    saved_lm_idx = sorted(set(saved_lm_idx))\n",
    "    if len(saved_lm_idx) != 0:\n",
    "        filtered_meta[merged_key] = copy.deepcopy(merged_data[merged_key])\n",
    "        filtered_meta[merged_key]['raw']['landmarks'] = {}\n",
    "        filtered_meta[merged_key]['head'] = {}\n",
    "        for slmidx, imkey in enumerate(saved_lm_idx):\n",
    "            filtered_meta[merged_key]['raw']['landmarks'][f'{slmidx:02d}'] = merged_data[merged_key]['raw']['landmarks'][imkey]\n",
    "            filtered_meta[merged_key]['head'][f'{slmidx:02d}'] = merged_data[merged_key]['head'][imkey]"
   ]
  },
  {
   "cell_type": "code",
   "execution_count": 9,
   "metadata": {},
   "outputs": [
    {
     "data": {
      "text/plain": [
       "68766"
      ]
     },
     "execution_count": 9,
     "metadata": {},
     "output_type": "execute_result"
    }
   ],
   "source": [
    "len(filtered_meta)"
   ]
  },
  {
   "cell_type": "code",
   "execution_count": 10,
   "metadata": {},
   "outputs": [
    {
     "name": "stderr",
     "output_type": "stream",
     "text": [
      "100%|██████████| 68766/68766 [00:00<00:00, 124591.74it/s]\n"
     ]
    }
   ],
   "source": [
    "import tqdm\n",
    "\n",
    "for k in tqdm.tqdm(filtered_meta.keys()):\n",
    "    for hk in filtered_meta[k]['head'].keys():\n",
    "        if filtered_meta[k]['head'][hk]['view'] != 'front':\n",
    "            print(k, hk)"
   ]
  },
  {
   "cell_type": "code",
   "execution_count": 11,
   "metadata": {},
   "outputs": [],
   "source": [
    "meta_hq_json_file = 'meta_hq.json'\n",
    "with open(os.path.join(data_root, meta_hq_json_file), 'w') as f:\n",
    "    json.dump(filtered_meta, f, indent=4)"
   ]
  },
  {
   "cell_type": "code",
   "execution_count": null,
   "metadata": {},
   "outputs": [],
   "source": []
  }
 ],
 "metadata": {
  "kernelspec": {
   "display_name": "datproc",
   "language": "python",
   "name": "python3"
  },
  "language_info": {
   "codemirror_mode": {
    "name": "ipython",
    "version": 3
   },
   "file_extension": ".py",
   "mimetype": "text/x-python",
   "name": "python",
   "nbconvert_exporter": "python",
   "pygments_lexer": "ipython3",
   "version": "3.8.17"
  }
 },
 "nbformat": 4,
 "nbformat_minor": 2
}
