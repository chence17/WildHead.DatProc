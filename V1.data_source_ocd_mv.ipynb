{
 "cells": [
  {
   "cell_type": "markdown",
   "metadata": {},
   "source": [
    "# Multiview"
   ]
  },
  {
   "cell_type": "code",
   "execution_count": 10,
   "metadata": {},
   "outputs": [],
   "source": [
    "import os\n",
    "\n",
    "data_root = '/data_new/chence/Ours/HeadNeRF/1024x1024'\n",
    "export_root = '/data_new/chence/ExportedMVhq'\n",
    "os.makedirs(export_root, exist_ok=True)"
   ]
  },
  {
   "cell_type": "code",
   "execution_count": 11,
   "metadata": {},
   "outputs": [],
   "source": [
    "align_images_dir = os.path.join(export_root, 'align_images')\n",
    "os.makedirs(align_images_dir, exist_ok=True)\n",
    "align_parsing_dir = os.path.join(export_root, 'align_parsing')\n",
    "os.makedirs(align_parsing_dir, exist_ok=True)\n",
    "head_images_dir = os.path.join(export_root, 'head_images')\n",
    "os.makedirs(head_images_dir, exist_ok=True)\n",
    "head_parsing_dir = os.path.join(export_root, 'head_parsing')\n",
    "os.makedirs(head_parsing_dir, exist_ok=True)"
   ]
  },
  {
   "cell_type": "code",
   "execution_count": 14,
   "metadata": {},
   "outputs": [],
   "source": [
    "import json\n",
    "import os.path as osp\n",
    "\n",
    "def load_json(json_path):\n",
    "    with open(json_path, 'r') as f:\n",
    "        json_data = json.load(f)\n",
    "    return json_data\n",
    "\n",
    "\n",
    "export_start_idx = 0\n",
    "export_meta_json = os.path.join(export_root, f'meta_{export_start_idx:07d}.json')\n",
    "export_meta_dict = {}\n",
    "export_instance_json = os.path.join(export_root, 'instance.json')\n",
    "if osp.exists(export_instance_json):\n",
    "    print(\"load instance dict.\")\n",
    "    with open(export_instance_json, 'r') as f:\n",
    "        export_instance_dict = json.load(f)\n",
    "else:\n",
    "    export_instance_dict = {}"
   ]
  },
  {
   "cell_type": "code",
   "execution_count": 15,
   "metadata": {},
   "outputs": [
    {
     "name": "stderr",
     "output_type": "stream",
     "text": [
      "  0%|          | 0/856 [00:00<?, ?it/s]"
     ]
    },
    {
     "name": "stderr",
     "output_type": "stream",
     "text": [
      "100%|██████████| 856/856 [00:11<00:00, 74.12it/s] \n"
     ]
    }
   ],
   "source": [
    "def chk_cldir(cldir_path):\n",
    "    align_image_path = osp.join(cldir_path, 'align_image')\n",
    "    if not (osp.exists(align_image_path) and osp.isdir(align_image_path)): return False\n",
    "    align_parsing_path = osp.join(cldir_path, 'align_parsing')\n",
    "    if not (osp.exists(align_parsing_path) and osp.isdir(align_parsing_path)): return False\n",
    "    head_image_path = osp.join(cldir_path, 'head_image')\n",
    "    if not (osp.exists(head_image_path) and osp.isdir(head_image_path)): return False\n",
    "    head_parsing_path = osp.join(cldir_path, 'head_parsing')\n",
    "    if not (osp.exists(head_parsing_path) and osp.isdir(head_parsing_path)): return False\n",
    "    meta_path = osp.join(cldir_path, 'meta.json')\n",
    "    if not (osp.exists(meta_path) and osp.isfile(meta_path)): return False\n",
    "\n",
    "    align_images = sorted([i for i in os.listdir(align_image_path) if osp.isfile(osp.join(align_image_path, i))])\n",
    "    if not (len(align_images) == 30): return False\n",
    "    align_parsings = sorted([i for i in os.listdir(align_parsing_path) if osp.isfile(osp.join(align_parsing_path, i))])\n",
    "    if not (len(align_parsings) == 30): return False\n",
    "    head_images = sorted([i for i in os.listdir(head_image_path) if osp.isfile(osp.join(head_image_path, i))])\n",
    "    if not (len(head_images) == 30): return False\n",
    "    head_parsings = sorted([i for i in os.listdir(head_parsing_path) if osp.isfile(osp.join(head_parsing_path, i))])\n",
    "    if not (len(head_parsings) == 30): return False\n",
    "\n",
    "    if not (align_images == align_parsings): return False\n",
    "    if not (align_images == head_images): return False\n",
    "    if not (head_images == head_parsings): return False\n",
    "\n",
    "    return True\n",
    "\n",
    "\n",
    "def isProcessed(datadir):\n",
    "    chgclres_path = osp.join(datadir, 'change_color_result')\n",
    "    if not (osp.exists(chgclres_path) and osp.isdir(chgclres_path)): return False\n",
    "    cldirs = sorted([i for i in os.listdir(chgclres_path) if osp.isdir(osp.join(chgclres_path, i))])\n",
    "    if not (len(cldirs) == 6): return False # 5 + 1\n",
    "    if not ('Original' in cldirs): return False\n",
    "    for i in cldirs:\n",
    "        cldir_path = osp.join(chgclres_path, i)\n",
    "        if not (osp.exists(cldir_path) and osp.isdir(cldir_path)): return False\n",
    "        if not (chk_cldir(cldir_path)): return False\n",
    "    return True\n",
    "\n",
    "\n",
    "import tqdm\n",
    "\n",
    "datadirs = []\n",
    "for i in tqdm.tqdm(os.listdir(data_root)):\n",
    "    cur_datadir = osp.join(data_root, i, '00/recolornerf/panohead')\n",
    "    if osp.exists(cur_datadir) and osp.isdir(cur_datadir):\n",
    "        if isProcessed(cur_datadir): datadirs.append(cur_datadir)\n",
    "datadirs = sorted(datadirs)"
   ]
  },
  {
   "cell_type": "code",
   "execution_count": 16,
   "metadata": {},
   "outputs": [
    {
     "name": "stdout",
     "output_type": "stream",
     "text": [
      "824\n"
     ]
    }
   ],
   "source": [
    "print(len(datadirs))"
   ]
  },
  {
   "cell_type": "code",
   "execution_count": 17,
   "metadata": {},
   "outputs": [
    {
     "name": "stderr",
     "output_type": "stream",
     "text": [
      "100%|██████████| 824/824 [00:50<00:00, 16.32it/s]\n"
     ]
    }
   ],
   "source": [
    "instance_idx = len(export_instance_dict)\n",
    "relative_root = '/data_new/chence'\n",
    "instance_image_idx = {}\n",
    "for datadir in tqdm.tqdm(datadirs):\n",
    "    chgclres_path = osp.join(datadir, 'change_color_result')\n",
    "    cldirs = sorted([i for i in os.listdir(chgclres_path) if osp.isdir(osp.join(chgclres_path, i))])\n",
    "    for i in cldirs:\n",
    "        cldir_path = osp.join(chgclres_path, i)\n",
    "        instance_key = osp.relpath(cldir_path, relative_root)\n",
    "        if instance_key not in export_instance_dict.keys():\n",
    "            export_instance_dict[instance_key] = str(instance_idx).zfill(5)\n",
    "            instance_idx += 1\n",
    "        export_folder = export_instance_dict[instance_key]\n",
    "        meta_path = osp.join(cldir_path, 'meta.json')\n",
    "        meta_data = load_json(meta_path)\n",
    "        meta_keys = sorted(meta_data.keys())\n",
    "        for k in meta_keys:\n",
    "            align_image_path = osp.join(cldir_path, 'align_image', k)\n",
    "            assert osp.exists(align_image_path) and osp.isfile(align_image_path)\n",
    "            align_parsing_path = osp.join(cldir_path, 'align_parsing', k)\n",
    "            assert osp.exists(align_parsing_path) and osp.isfile(align_parsing_path)\n",
    "            head_image_path = osp.join(cldir_path, 'head_image', k)\n",
    "            assert osp.exists(head_image_path) and osp.isfile(head_image_path)\n",
    "            head_parsing_path = osp.join(cldir_path, 'head_parsing', k)\n",
    "            assert osp.exists(head_parsing_path) and osp.isfile(head_parsing_path)\n",
    "\n",
    "            if export_folder not in instance_image_idx.keys():\n",
    "                instance_image_idx[export_folder] = 0\n",
    "            export_name = 'img'+str(instance_image_idx[export_folder]).zfill(8)+'.png'\n",
    "            instance_image_idx[export_folder] += 1\n",
    "            export_key = f'{export_folder}/{export_name}'\n",
    "            export_meta_dict[export_key] = meta_data[k]\n",
    "            export_meta_dict[export_key].update({\n",
    "                'align_image_path': osp.relpath(align_image_path, relative_root),\n",
    "                'align_parsing_path': osp.relpath(align_parsing_path, relative_root),\n",
    "                'head_image_path': osp.relpath(head_image_path, relative_root),\n",
    "                'head_parsing_path': osp.relpath(head_parsing_path, relative_root),\n",
    "            })\n",
    "            export_start_idx += 1"
   ]
  },
  {
   "cell_type": "code",
   "execution_count": 18,
   "metadata": {},
   "outputs": [
    {
     "name": "stdout",
     "output_type": "stream",
     "text": [
      "4944\n",
      "148320\n"
     ]
    }
   ],
   "source": [
    "print(len(instance_image_idx))\n",
    "print(len(export_meta_dict))\n",
    "assert len(instance_image_idx) * 30 == len(export_meta_dict)"
   ]
  },
  {
   "cell_type": "code",
   "execution_count": 19,
   "metadata": {},
   "outputs": [
    {
     "data": {
      "text/plain": [
       "'Ours/HeadNeRF/1024x1024/1197/00/recolornerf/panohead/change_color_result/Dark Maroon'"
      ]
     },
     "execution_count": 19,
     "metadata": {},
     "output_type": "execute_result"
    }
   ],
   "source": [
    "list(export_instance_dict.keys())[-5]"
   ]
  },
  {
   "cell_type": "code",
   "execution_count": 20,
   "metadata": {},
   "outputs": [
    {
     "name": "stdout",
     "output_type": "stream",
     "text": [
      "148320\n"
     ]
    }
   ],
   "source": [
    "with open(export_meta_json, 'w') as f:\n",
    "    json.dump(export_meta_dict, f, indent=4)\n",
    "\n",
    "with open(export_instance_json, 'w') as f:\n",
    "    json.dump(export_instance_dict, f, indent=4)\n",
    "\n",
    "print(len(export_meta_dict))"
   ]
  },
  {
   "cell_type": "code",
   "execution_count": 23,
   "metadata": {},
   "outputs": [],
   "source": [
    "import cv2\n",
    "\n",
    "def work(export_key, data_item, data_root, export_align_images_dir, export_align_parsing_dir, export_head_images_dir, export_head_parsing_dir):\n",
    "    try:\n",
    "        export_folder = export_key.split('/')[0]\n",
    "        export_align_image_folder = os.path.join(export_align_images_dir, export_folder)\n",
    "        export_align_parsing_folder = os.path.join(export_align_parsing_dir, export_folder)\n",
    "        export_head_image_folder = os.path.join(export_head_images_dir, export_folder)\n",
    "        export_head_parsing_folder = os.path.join(export_head_parsing_dir, export_folder)\n",
    "        os.makedirs(export_align_image_folder, exist_ok=True)\n",
    "        os.makedirs(export_align_parsing_folder, exist_ok=True)\n",
    "        os.makedirs(export_head_image_folder, exist_ok=True)\n",
    "        os.makedirs(export_head_parsing_folder, exist_ok=True)\n",
    "\n",
    "        export_align_image_path = os.path.join(export_align_images_dir, export_key)\n",
    "        export_align_parsing_path = os.path.join(export_align_parsing_dir, export_key)\n",
    "        export_head_image_path = os.path.join(export_head_images_dir, export_key)\n",
    "        export_head_parsing_path = os.path.join(export_head_parsing_dir, export_key)\n",
    "\n",
    "        cur_align_image_path = os.path.join(data_root, data_item['align_image_path'])\n",
    "        assert os.path.exists(cur_align_image_path)\n",
    "        if cur_align_image_path.endswith('.png') or cur_align_image_path.endswith('.PNG'):\n",
    "            os.system(f'cp \"{cur_align_image_path}\" \"{export_align_image_path}\"')\n",
    "        else:\n",
    "            cur_align_image_data = cv2.imread(cur_align_image_path)\n",
    "            cv2.imwrite(export_align_image_path, cur_align_image_data)\n",
    "\n",
    "        cur_align_parsing_path = os.path.join(data_root, data_item['align_parsing_path'])\n",
    "        assert os.path.exists(cur_align_parsing_path)\n",
    "        assert cur_align_parsing_path.endswith('.png') or cur_align_parsing_path.endswith('.PNG')\n",
    "        os.system(f'cp \"{cur_align_parsing_path}\" \"{export_align_parsing_path}\"')\n",
    "\n",
    "        cur_head_image_path = os.path.join(data_root, data_item['head_image_path'])\n",
    "        assert os.path.exists(cur_head_image_path)\n",
    "        if cur_head_image_path.endswith('.png') or cur_head_image_path.endswith('.PNG'):\n",
    "            os.system(f'cp \"{cur_head_image_path}\" \"{export_head_image_path}\"')\n",
    "        else:\n",
    "            cur_head_image_data = cv2.imread(cur_head_image_path)\n",
    "            cv2.imwrite(export_head_image_path, cur_head_image_data)\n",
    "\n",
    "        cur_head_parsing_path = os.path.join(data_root, data_item['head_parsing_path'])\n",
    "        assert os.path.exists(cur_head_parsing_path)\n",
    "        assert cur_head_parsing_path.endswith('.png') or cur_head_parsing_path.endswith('.PNG')\n",
    "        os.system(f'cp \"{cur_head_parsing_path}\" \"{export_head_parsing_path}\"')\n",
    "    except Exception as e:\n",
    "        print(e)"
   ]
  },
  {
   "cell_type": "code",
   "execution_count": 25,
   "metadata": {},
   "outputs": [
    {
     "name": "stderr",
     "output_type": "stream",
     "text": [
      "100%|██████████| 148320/148320 [50:33<00:00, 48.90it/s]  \n"
     ]
    }
   ],
   "source": [
    "import multiprocessing as mp\n",
    "\n",
    "global progress_bar\n",
    "progress_bar = tqdm.tqdm(total=len(export_meta_dict))\n",
    "\n",
    "def update_progress_bar(_):\n",
    "    progress_bar.update()\n",
    "\n",
    "\n",
    "pool = mp.Pool(processes=64)\n",
    "for k, v in export_meta_dict.items():\n",
    "    pool.apply_async(work, (\n",
    "        k,\n",
    "        v,\n",
    "        relative_root,\n",
    "        align_images_dir,\n",
    "        align_parsing_dir,\n",
    "        head_images_dir,\n",
    "        head_parsing_dir,\n",
    "    ), callback=update_progress_bar)\n",
    "pool.close()\n",
    "pool.join()\n",
    "progress_bar.close()"
   ]
  },
  {
   "cell_type": "code",
   "execution_count": 17,
   "metadata": {},
   "outputs": [
    {
     "name": "stdout",
     "output_type": "stream",
     "text": [
      "export_start_idx 273571\n"
     ]
    }
   ],
   "source": [
    "print('export_start_idx', export_start_idx)"
   ]
  }
 ],
 "metadata": {
  "kernelspec": {
   "display_name": "datproc",
   "language": "python",
   "name": "python3"
  },
  "language_info": {
   "codemirror_mode": {
    "name": "ipython",
    "version": 3
   },
   "file_extension": ".py",
   "mimetype": "text/x-python",
   "name": "python",
   "nbconvert_exporter": "python",
   "pygments_lexer": "ipython3",
   "version": "3.8.17"
  }
 },
 "nbformat": 4,
 "nbformat_minor": 2
}
