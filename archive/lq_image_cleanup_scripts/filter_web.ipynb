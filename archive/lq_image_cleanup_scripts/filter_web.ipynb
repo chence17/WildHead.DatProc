{
 "cells": [
  {
   "cell_type": "code",
   "execution_count": 1,
   "metadata": {},
   "outputs": [
    {
     "name": "stdout",
     "output_type": "stream",
     "text": [
      "['meta_1-3.json', 'meta_2-3.json', 'meta_3-3.json']\n"
     ]
    }
   ],
   "source": [
    "import os\n",
    "import json\n",
    "import os.path as osp\n",
    "\n",
    "\n",
    "def load_json(json_path):\n",
    "    with open(json_path, 'r') as f:\n",
    "        json_data = json.load(f)\n",
    "    return json_data\n",
    "\n",
    "\n",
    "data_root = '/data_new/chence/Web'\n",
    "json_files = sorted([i for i in os.listdir(data_root) if i.endswith('.json') and i.startswith('meta_')])\n",
    "print(json_files)"
   ]
  },
  {
   "cell_type": "code",
   "execution_count": 2,
   "metadata": {},
   "outputs": [
    {
     "name": "stdout",
     "output_type": "stream",
     "text": [
      "10000\n",
      "10000\n",
      "5780\n",
      "25780\n"
     ]
    }
   ],
   "source": [
    "merged_data = {}\n",
    "for idx in range(len(json_files)):\n",
    "    json_file = json_files[idx]\n",
    "    with open(os.path.join(data_root, json_file), 'r') as f:\n",
    "        data = json.load(f)\n",
    "        print(len(data))\n",
    "        merged_data.update(data)\n",
    "print(len(merged_data))"
   ]
  },
  {
   "cell_type": "code",
   "execution_count": 3,
   "metadata": {},
   "outputs": [],
   "source": [
    "meta_json_file = 'meta.json'\n",
    "with open(os.path.join(data_root, meta_json_file), 'w') as f:\n",
    "    json.dump(merged_data, f, indent=4)"
   ]
  },
  {
   "cell_type": "code",
   "execution_count": 4,
   "metadata": {},
   "outputs": [
    {
     "name": "stderr",
     "output_type": "stream",
     "text": [
      "100%|██████████| 25780/25780 [00:00<00:00, 416078.21it/s]\n"
     ]
    }
   ],
   "source": [
    "import copy\n",
    "import tqdm\n",
    "\n",
    "for merged_key in tqdm.tqdm(merged_data.keys()):\n",
    "    if len(merged_data[merged_key]['head']) != 1:\n",
    "        print(merged_key)"
   ]
  },
  {
   "cell_type": "code",
   "execution_count": 6,
   "metadata": {},
   "outputs": [],
   "source": [
    "meta_hq_json_file = 'meta_hq.json'\n",
    "with open(os.path.join(data_root, meta_hq_json_file), 'w') as f:\n",
    "    json.dump(merged_data, f, indent=4)"
   ]
  },
  {
   "cell_type": "code",
   "execution_count": null,
   "metadata": {},
   "outputs": [],
   "source": []
  }
 ],
 "metadata": {
  "kernelspec": {
   "display_name": "datproc",
   "language": "python",
   "name": "python3"
  },
  "language_info": {
   "codemirror_mode": {
    "name": "ipython",
    "version": 3
   },
   "file_extension": ".py",
   "mimetype": "text/x-python",
   "name": "python",
   "nbconvert_exporter": "python",
   "pygments_lexer": "ipython3",
   "version": "3.8.17"
  }
 },
 "nbformat": 4,
 "nbformat_minor": 2
}
