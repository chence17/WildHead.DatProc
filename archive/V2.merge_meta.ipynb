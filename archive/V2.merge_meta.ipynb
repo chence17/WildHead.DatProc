{
 "cells": [
  {
   "cell_type": "code",
   "execution_count": 1,
   "metadata": {},
   "outputs": [],
   "source": [
    "import os\n",
    "\n",
    "export_root = '/data2/chence/ExportedSVhq'\n",
    "json_files = sorted([i for i in os.listdir(export_root) if i.endswith('.json')])"
   ]
  },
  {
   "cell_type": "code",
   "execution_count": 2,
   "metadata": {},
   "outputs": [
    {
     "name": "stdout",
     "output_type": "stream",
     "text": [
      "0 meta_0000000.json\n",
      "1 meta_0068766.json\n",
      "2 meta_0094520.json\n",
      "3 meta_0109979.json\n",
      "4 meta_0135759.json\n",
      "5 meta_0147690.json\n",
      "6 meta_0257506.json\n",
      "404566\n"
     ]
    }
   ],
   "source": [
    "import json\n",
    "\n",
    "merged_data = {}\n",
    "for idx in range(len(json_files)):\n",
    "    json_file = json_files[idx]\n",
    "    print(idx, json_file)\n",
    "    with open(os.path.join(export_root, json_file), 'r') as f:\n",
    "        data = json.load(f)\n",
    "        merged_data.update(data)\n",
    "print(len(merged_data))"
   ]
  },
  {
   "cell_type": "code",
   "execution_count": 3,
   "metadata": {},
   "outputs": [
    {
     "name": "stderr",
     "output_type": "stream",
     "text": [
      "100%|██████████| 404566/404566 [00:28<00:00, 14150.35it/s]\n"
     ]
    }
   ],
   "source": [
    "import os.path as osp\n",
    "import tqdm\n",
    "\n",
    "del_keys = []\n",
    "\n",
    "for k in tqdm.tqdm(merged_data.keys()):\n",
    "    align_image_file = osp.join(export_root, 'align_images', k)\n",
    "    align_parsing_file = osp.join(export_root, 'align_parsing', k)\n",
    "    head_image_file = osp.join(export_root, 'head_images', k)\n",
    "    head_parsing_file = osp.join(export_root, 'head_parsing', k)\n",
    "    if not osp.exists(align_image_file) or not osp.exists(align_parsing_file) or not osp.exists(head_image_file) or not osp.exists(head_parsing_file):\n",
    "        del_keys.append(k)"
   ]
  },
  {
   "cell_type": "code",
   "execution_count": 4,
   "metadata": {},
   "outputs": [
    {
     "data": {
      "text/plain": [
       "32"
      ]
     },
     "execution_count": 4,
     "metadata": {},
     "output_type": "execute_result"
    }
   ],
   "source": [
    "len(del_keys)"
   ]
  },
  {
   "cell_type": "code",
   "execution_count": 5,
   "metadata": {},
   "outputs": [
    {
     "data": {
      "text/plain": [
       "404566"
      ]
     },
     "execution_count": 5,
     "metadata": {},
     "output_type": "execute_result"
    }
   ],
   "source": [
    "len(merged_data)"
   ]
  },
  {
   "cell_type": "code",
   "execution_count": 6,
   "metadata": {},
   "outputs": [],
   "source": [
    "for k in del_keys:\n",
    "    del merged_data[k]"
   ]
  },
  {
   "cell_type": "code",
   "execution_count": 7,
   "metadata": {},
   "outputs": [
    {
     "data": {
      "text/plain": [
       "404534"
      ]
     },
     "execution_count": 7,
     "metadata": {},
     "output_type": "execute_result"
    }
   ],
   "source": [
    "len(merged_data)"
   ]
  },
  {
   "cell_type": "code",
   "execution_count": 8,
   "metadata": {},
   "outputs": [],
   "source": [
    "exportjpg_root = '/data2/chence/single_view_hq'\n",
    "os.makedirs(exportjpg_root, exist_ok=True)\n",
    "\n",
    "with open(os.path.join(exportjpg_root, 'dataset.json'), 'w') as f:\n",
    "    json.dump(merged_data, f)"
   ]
  },
  {
   "cell_type": "code",
   "execution_count": 15,
   "metadata": {},
   "outputs": [
    {
     "data": {
      "text/plain": [
       "0"
      ]
     },
     "execution_count": 15,
     "metadata": {},
     "output_type": "execute_result"
    }
   ],
   "source": [
    "os.system('cp -r %s %s' % (os.path.join(export_root, 'align_parsing'), exportjpg_root))"
   ]
  },
  {
   "cell_type": "code",
   "execution_count": 16,
   "metadata": {},
   "outputs": [
    {
     "data": {
      "text/plain": [
       "0"
      ]
     },
     "execution_count": 16,
     "metadata": {},
     "output_type": "execute_result"
    }
   ],
   "source": [
    "os.system('cp -r %s %s' % (os.path.join(export_root, 'head_parsing'), exportjpg_root))"
   ]
  },
  {
   "cell_type": "code",
   "execution_count": 9,
   "metadata": {},
   "outputs": [],
   "source": [
    "import cv2\n",
    "import os.path as osp\n",
    "\n",
    "def work(image_name, export_root, exportjpg_root):\n",
    "    try:\n",
    "        base_folder, base_name = image_name.split('/')\n",
    "        align_png_path = os.path.join(export_root, 'align_images', base_folder, base_name)\n",
    "        assert os.path.exists(align_png_path)\n",
    "        head_png_path = os.path.join(export_root, 'head_images', base_folder, base_name)\n",
    "        assert os.path.exists(head_png_path)\n",
    "        os.makedirs(os.path.join(exportjpg_root, 'align_images', base_folder), exist_ok=True)\n",
    "        os.makedirs(os.path.join(exportjpg_root, 'head_images', base_folder), exist_ok=True)\n",
    "        align_jpg_path = os.path.join(exportjpg_root, 'align_images', base_folder, base_name.replace('.png', '.jpg'))\n",
    "        if not osp.exists(align_jpg_path):\n",
    "            cv2.imwrite(align_jpg_path, cv2.imread(align_png_path))\n",
    "        head_jpg_path = os.path.join(exportjpg_root, 'head_images', base_folder, base_name.replace('.png', '.jpg'))\n",
    "        if not osp.exists(head_jpg_path):\n",
    "            cv2.imwrite(head_jpg_path, cv2.imread(head_png_path))\n",
    "    except Exception as e:\n",
    "        print(e)"
   ]
  },
  {
   "cell_type": "code",
   "execution_count": 10,
   "metadata": {},
   "outputs": [],
   "source": [
    "image_names = sorted(merged_data.keys())"
   ]
  },
  {
   "cell_type": "code",
   "execution_count": 11,
   "metadata": {},
   "outputs": [
    {
     "name": "stderr",
     "output_type": "stream",
     "text": [
      "100%|█████████▉| 404532/404534 [5:12:16<00:00, 40.68it/s]   "
     ]
    },
    {
     "name": "stderr",
     "output_type": "stream",
     "text": [
      "100%|██████████| 404534/404534 [5:12:32<00:00, 40.68it/s]"
     ]
    }
   ],
   "source": [
    "import multiprocessing as mp\n",
    "from tqdm import tqdm\n",
    "\n",
    "global progress_bar\n",
    "progress_bar = tqdm(total=len(image_names))\n",
    "\n",
    "def update_progress_bar(_):\n",
    "    progress_bar.update()\n",
    "\n",
    "pool = mp.Pool(processes=64)\n",
    "for image_name in image_names:\n",
    "    pool.apply_async(work, (\n",
    "        image_name,\n",
    "        export_root,\n",
    "        exportjpg_root,\n",
    "    ), callback=update_progress_bar)\n",
    "pool.close()\n",
    "pool.join()"
   ]
  },
  {
   "cell_type": "code",
   "execution_count": null,
   "metadata": {},
   "outputs": [],
   "source": []
  }
 ],
 "metadata": {
  "kernelspec": {
   "display_name": "datproc",
   "language": "python",
   "name": "python3"
  },
  "language_info": {
   "codemirror_mode": {
    "name": "ipython",
    "version": 3
   },
   "file_extension": ".py",
   "mimetype": "text/x-python",
   "name": "python",
   "nbconvert_exporter": "python",
   "pygments_lexer": "ipython3",
   "version": "3.8.17"
  },
  "orig_nbformat": 4
 },
 "nbformat": 4,
 "nbformat_minor": 2
}
