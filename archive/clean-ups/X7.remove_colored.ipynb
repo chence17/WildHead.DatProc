{
 "cells": [
  {
   "cell_type": "markdown",
   "metadata": {},
   "source": [
    "# Remove images from single_view_hq that are colorized"
   ]
  },
  {
   "cell_type": "code",
   "execution_count": 2,
   "metadata": {},
   "outputs": [],
   "source": [
    "'''\n",
    "Author: tianhao 120090472@link.cuhk.edu.cn\n",
    "Date: 2023-10-29 13:34:05\n",
    "LastEditors: tianhao 120090472@link.cuhk.edu.cn\n",
    "LastEditTime: 2023-10-29 14:25:14\n",
    "FilePath: /DatProc/X7.remove_colored.ipynb\n",
    "Description: \n",
    "\n",
    "Copyright (c) 2023 by ${git_name_email}, All Rights Reserved. \n",
    "'''\n",
    "import os, json, tqdm, shutil\n",
    "input_path = '/data2/chence/PanoHeadData/single_view_hq/'\n",
    "json_file_name = 'dataset.json'\n",
    "data_sources = [\"CelebA\" ,\"FFHQ\", \"K-Hairstyle/Training\", \"K-Hairstyle/Validation\", \"LPFF\", \"Web\", \"OCD/Original\"]\n",
    "needed_subdirs = ['align_images', 'align_masks', 'align_parsking']\n",
    "output_path = '/data2/chence/PanoHeadData/single_view_hq_baseline'\n",
    "json_path = os.path.join(input_path, json_file_name)\n",
    "for subdir in needed_subdirs:\n",
    "    os.makedirs(os.path.join(output_path, subdir), exist_ok=True)\n",
    "with open(json_path, 'rb') as f:\n",
    "    json_dict = json.load(f)     # key: '00000/img00000000.png' ...   \n"
   ]
  },
  {
   "cell_type": "code",
   "execution_count": null,
   "metadata": {},
   "outputs": [],
   "source": [
    "output_json = {}\n",
    "for img_name, img_meta in tqdm.tqdm(json_dict.items()):\n",
    "    img_source = img_meta['data_source']\n",
    "    img_name = img_name.replace('.png', '.jpg')\n",
    "    if img_source in data_sources:\n",
    "        # add key, value to output_json\n",
    "        output_json[img_name] = img_meta\n",
    "        # copy image to output_path\n",
    "        for subdir in needed_subdirs:\n",
    "            img_input_path = os.path.join(input_path, subdir, img_name)\n",
    "            img_output_path = os.path.join(output_path, subdir, img_name)\n",
    "            os.makedirs(img_output_path, exist_ok=True)\n",
    "            shutil.copy(img_input_path, img_output_path)\n",
    "            break\n",
    "# _image_fnames = sorted(label_dict.keys()) # list"
   ]
  }
 ],
 "metadata": {
  "kernelspec": {
   "display_name": "datproc",
   "language": "python",
   "name": "python3"
  },
  "language_info": {
   "codemirror_mode": {
    "name": "ipython",
    "version": 3
   },
   "file_extension": ".py",
   "mimetype": "text/x-python",
   "name": "python",
   "nbconvert_exporter": "python",
   "pygments_lexer": "ipython3",
   "version": "3.8.17"
  }
 },
 "nbformat": 4,
 "nbformat_minor": 2
}
