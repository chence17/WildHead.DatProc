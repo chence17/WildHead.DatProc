{
 "cells": [
  {
   "cell_type": "code",
   "execution_count": 14,
   "metadata": {},
   "outputs": [],
   "source": [
    "import os\n",
    "import cv2\n",
    "import numpy as np\n",
    "from matplotlib import pyplot as plt"
   ]
  },
  {
   "cell_type": "code",
   "execution_count": 15,
   "metadata": {},
   "outputs": [],
   "source": [
    "def show_image(img, is_bgr, title, show_axis=False):\n",
    "    if is_bgr:\n",
    "        img = cv2.cvtColor(img, cv2.COLOR_BGR2RGB)\n",
    "    plt.figure()\n",
    "    plt.title(title)\n",
    "    plt.imshow(img)\n",
    "    plt.savefig('/home/chence/Research/3DHeadGen/DatProc/temp/fastSAM_vis/{}.png'.format(title), bbox_inches='tight')\n",
    "    if not show_axis:\n",
    "        plt.axis('off')\n",
    "    else:\n",
    "        plt.axis('on')\n",
    "    plt.show()\n",
    "\n",
    "def check_same(ori_img, mask, name):\n",
    "    msk_image = ori_img.copy()\n",
    "    msk_image[mask == 0, :] = 127\n",
    "    mask_c3 = mask[:, :, None].repeat(3, axis=2)\n",
    "    vis_image = np.hstack([ori_img, msk_image, mask_c3])\n",
    "    show_image(vis_image, is_bgr=False, title=name)"
   ]
  },
  {
   "cell_type": "code",
   "execution_count": null,
   "metadata": {},
   "outputs": [],
   "source": [
    "image_dir = '/home/chence/Research/3DHeadGen/DatProc/temp/00000'\n",
    "mask_dir = '/home/chence/Research/3DHeadGen/DatProc/temp/00000_mask_FSAM'\n",
    "\n",
    "vis_samples = 20\n",
    "for image_name in os.listdir(image_dir):\n",
    "    image_path = os.path.join(image_dir, image_name)\n",
    "    mask_path = os.path.join(mask_dir, image_name)\n",
    "    image_data = cv2.imread(image_path)\n",
    "    image_data = cv2.cvtColor(image_data, cv2.COLOR_BGR2RGB)\n",
    "    mask_data = cv2.imread(mask_path, cv2.IMREAD_GRAYSCALE)\n",
    "    check_same(image_data, mask_data, image_name)\n",
    "    vis_samples -= 1\n",
    "    if vis_samples == 0: break"
   ]
  }
 ],
 "metadata": {
  "kernelspec": {
   "display_name": "datproc",
   "language": "python",
   "name": "python3"
  },
  "language_info": {
   "codemirror_mode": {
    "name": "ipython",
    "version": 3
   },
   "file_extension": ".py",
   "mimetype": "text/x-python",
   "name": "python",
   "nbconvert_exporter": "python",
   "pygments_lexer": "ipython3",
   "version": "3.8.17"
  }
 },
 "nbformat": 4,
 "nbformat_minor": 2
}
