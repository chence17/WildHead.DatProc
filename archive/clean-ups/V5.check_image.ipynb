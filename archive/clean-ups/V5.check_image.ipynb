{
 "cells": [
  {
   "cell_type": "markdown",
   "metadata": {},
   "source": [
    "# Check Image Integrity\n",
    "\n",
    "This piece of code is used to check if all the images in the dataset are readable and not corrupted. It uses the `PIL` library to open the images and check if they are readable. If the image is not readable, it will print the path of the image and the error message."
   ]
  },
  {
   "cell_type": "code",
   "execution_count": 22,
   "metadata": {},
   "outputs": [
    {
     "name": "stderr",
     "output_type": "stream",
     "text": [
      "100%|██████████| 9376/9376 [00:00<00:00, 890852.53it/s]\n",
      "100%|██████████| 9376/9376 [00:34<00:00, 273.74it/s]\n"
     ]
    },
    {
     "name": "stdout",
     "output_type": "stream",
     "text": [
      "0\n",
      "[]\n"
     ]
    }
   ],
   "source": [
    "import os\n",
    "import os.path as osp\n",
    "import cv2\n",
    "import tqdm\n",
    "from multiprocessing import Pool\n",
    "from skimage import io\n",
    "\n",
    "def verify_image(img_file):\n",
    "    try:\n",
    "        io.imread(img_file)\n",
    "    except:\n",
    "        return False\n",
    "    return True\n",
    "\n",
    "\n",
    "def check_dir(cur_image_dir):\n",
    "    invalid_image_list = []\n",
    "    cur_image_list = sorted(os.listdir(cur_image_dir))\n",
    "    for j in cur_image_list:\n",
    "        cur_image_path = osp.join(cur_image_dir, j)\n",
    "\n",
    "        # cur_image_data = cv2.imread(cur_image_path)\n",
    "        # if cur_image_data is None:\n",
    "        #     print(cur_image_path)\n",
    "        #     invalid_image_list.append(cur_image_path)\n",
    "\n",
    "        if not verify_image(cur_image_path):\n",
    "            print(cur_image_path)\n",
    "            invalid_image_list.append(cur_image_path)\n",
    "\n",
    "    return invalid_image_list\n",
    "\n",
    "data_root = '/data/PanoHeadData/multi_view_hq'\n",
    "\n",
    "# image_dir = osp.join(data_root, 'align_images')\n",
    "# image_dir = osp.join(data_root, 'align_parsing')\n",
    "# image_dir = osp.join(data_root, 'head_images')\n",
    "image_dir = osp.join(data_root, 'head_parsing')\n",
    "\n",
    "image_dir_list = sorted(os.listdir(image_dir))\n",
    "check_dir_list = []\n",
    "for i in tqdm.tqdm(image_dir_list):\n",
    "    cur_image_dir = osp.join(image_dir, i)\n",
    "    check_dir_list.append(cur_image_dir)\n",
    "\n",
    "with Pool(processes=128) as pool:\n",
    "    mp_results = list(tqdm.tqdm(pool.imap(check_dir, check_dir_list), total=len(check_dir_list)))\n",
    "\n",
    "all_invalid_files = []\n",
    "for res in mp_results:\n",
    "    if len(res) != 0:\n",
    "        all_invalid_files.extend(res)\n",
    "\n",
    "print(len(all_invalid_files))\n",
    "print(all_invalid_files)"
   ]
  },
  {
   "cell_type": "code",
   "execution_count": 4,
   "metadata": {},
   "outputs": [
    {
     "name": "stdout",
     "output_type": "stream",
     "text": [
      "00027 img00027278\n"
     ]
    }
   ],
   "source": [
    "# additional step: removing all the files\n",
    "for i in all_invalid_files:\n",
    "    base_dir = osp.basename(osp.dirname(i))\n",
    "    base_file = osp.basename(i).split('.')[0]\n",
    "    print(f'{base_dir} {base_file}')\n",
    "    ai_path = osp.join(data_root, 'align_images', base_dir, base_file+'.jpg')\n",
    "    ap_path = osp.join(data_root, 'align_parsing', base_dir, base_file+'.png')\n",
    "    hi_path = osp.join(data_root, 'head_images', base_dir, base_file+'.jpg')\n",
    "    hp_path = osp.join(data_root, 'head_parsing', base_dir, base_file+'.png')\n",
    "    assert osp.exists(ai_path), ai_path\n",
    "    assert osp.exists(ap_path), ap_path\n",
    "    assert osp.exists(hi_path), hi_path\n",
    "    assert osp.exists(hp_path), hp_path\n",
    "    os.remove(ai_path)\n",
    "    os.remove(ap_path)\n",
    "    os.remove(hi_path)\n",
    "    os.remove(hp_path)"
   ]
  },
  {
   "cell_type": "code",
   "execution_count": 5,
   "metadata": {},
   "outputs": [
    {
     "name": "stdout",
     "output_type": "stream",
     "text": [
      "00027/img00027278.png\n",
      "00027/img00027278.png\n"
     ]
    }
   ],
   "source": [
    "# additional step: removing all the files from dataset.json\n",
    "import json\n",
    "\n",
    "with open(osp.join(data_root, 'dataset.json'), 'r') as f:\n",
    "    d0 = json.load(f)\n",
    "\n",
    "for i in all_invalid_files:\n",
    "    k = osp.relpath(i, image_dir).replace('.jpg', '.png')\n",
    "    if k in d0.keys():\n",
    "        print(k)\n",
    "        del d0[k]\n",
    "\n",
    "with open(osp.join(data_root, 'dataset.json'), 'w') as f:\n",
    "    json.dump(d0, f, indent=4)\n",
    "\n",
    "with open(osp.join(data_root, 'dataset_thresh_0.3.json'), 'r') as f:\n",
    "    d2 = json.load(f)\n",
    "\n",
    "for i in all_invalid_files:\n",
    "    k = osp.relpath(i, image_dir).replace('.jpg', '.png')\n",
    "    if k in d2.keys():\n",
    "        print(k)\n",
    "        del d2[k]\n",
    "\n",
    "with open(osp.join(data_root, 'dataset_thresh_0.3.json'), 'w') as f:\n",
    "    json.dump(d2, f, indent=4)\n"
   ]
  }
 ],
 "metadata": {
  "kernelspec": {
   "display_name": "base",
   "language": "python",
   "name": "python3"
  },
  "language_info": {
   "codemirror_mode": {
    "name": "ipython",
    "version": 3
   },
   "file_extension": ".py",
   "mimetype": "text/x-python",
   "name": "python",
   "nbconvert_exporter": "python",
   "pygments_lexer": "ipython3",
   "version": "3.8.17"
  }
 },
 "nbformat": 4,
 "nbformat_minor": 2
}
