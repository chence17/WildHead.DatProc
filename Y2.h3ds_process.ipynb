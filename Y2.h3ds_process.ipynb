{
 "cells": [
  {
   "cell_type": "code",
   "execution_count": 1,
   "metadata": {},
   "outputs": [
    {
     "name": "stderr",
     "output_type": "stream",
     "text": [
      "/home/chence/Miniconda3/envs/3ddfav2/lib/python3.9/site-packages/tqdm/auto.py:21: TqdmWarning: IProgress not found. Please update jupyter and ipywidgets. See https://ipywidgets.readthedocs.io/en/stable/user_install.html\n",
      "  from .autonotebook import tqdm as notebook_tqdm\n"
     ]
    },
    {
     "name": "stdout",
     "output_type": "stream",
     "text": [
      "['/home/chence/Research/3DHeadGen/DatProc', '/home/chence/Miniconda3/envs/3ddfav2/lib/python39.zip', '/home/chence/Miniconda3/envs/3ddfav2/lib/python3.9', '/home/chence/Miniconda3/envs/3ddfav2/lib/python3.9/lib-dynload', '', '/home/chence/Miniconda3/envs/3ddfav2/lib/python3.9/site-packages']\n"
     ]
    },
    {
     "ename": "ModuleNotFoundError",
     "evalue": "No module named 'TDDFA_V2.FaceBoxes.utils.nms.cpu_nms'",
     "output_type": "error",
     "traceback": [
      "\u001b[0;31m---------------------------------------------------------------------------\u001b[0m",
      "\u001b[0;31mModuleNotFoundError\u001b[0m                       Traceback (most recent call last)",
      "\u001b[1;32m/home/chence/Research/3DHeadGen/DatProc/Y2.h3ds_process.ipynb Cell 1\u001b[0m line \u001b[0;36m1\n\u001b[1;32m     <a href='vscode-notebook-cell://ssh-remote%2B7b22686f73744e616d65223a223231382e39332e3230322e34392853694d6f7529227d/home/chence/Research/3DHeadGen/DatProc/Y2.h3ds_process.ipynb#W0sdnNjb2RlLXJlbW90ZQ%3D%3D?line=10'>11</a>\u001b[0m \u001b[39mimport\u001b[39;00m \u001b[39mtqdm\u001b[39;00m\n\u001b[1;32m     <a href='vscode-notebook-cell://ssh-remote%2B7b22686f73744e616d65223a223231382e39332e3230322e34392853694d6f7529227d/home/chence/Research/3DHeadGen/DatProc/Y2.h3ds_process.ipynb#W0sdnNjb2RlLXJlbW90ZQ%3D%3D?line=11'>12</a>\u001b[0m \u001b[39mfrom\u001b[39;00m \u001b[39mskimage\u001b[39;00m \u001b[39mimport\u001b[39;00m io\n\u001b[0;32m---> <a href='vscode-notebook-cell://ssh-remote%2B7b22686f73744e616d65223a223231382e39332e3230322e34392853694d6f7529227d/home/chence/Research/3DHeadGen/DatProc/Y2.h3ds_process.ipynb#W0sdnNjb2RlLXJlbW90ZQ%3D%3D?line=12'>13</a>\u001b[0m \u001b[39mfrom\u001b[39;00m \u001b[39mdpmain\u001b[39;00m \u001b[39mimport\u001b[39;00m DatProcV1\n\u001b[1;32m     <a href='vscode-notebook-cell://ssh-remote%2B7b22686f73744e616d65223a223231382e39332e3230322e34392853694d6f7529227d/home/chence/Research/3DHeadGen/DatProc/Y2.h3ds_process.ipynb#W0sdnNjb2RlLXJlbW90ZQ%3D%3D?line=15'>16</a>\u001b[0m h3ds_data_root \u001b[39m=\u001b[39m \u001b[39m'\u001b[39m\u001b[39m/data/chence/h3ds_v0.2_images\u001b[39m\u001b[39m'\u001b[39m\n\u001b[1;32m     <a href='vscode-notebook-cell://ssh-remote%2B7b22686f73744e616d65223a223231382e39332e3230322e34392853694d6f7529227d/home/chence/Research/3DHeadGen/DatProc/Y2.h3ds_process.ipynb#W0sdnNjb2RlLXJlbW90ZQ%3D%3D?line=16'>17</a>\u001b[0m h3ds_model_list \u001b[39m=\u001b[39m os\u001b[39m.\u001b[39mlistdir(h3ds_data_root)\n",
      "File \u001b[0;32m~/Research/3DHeadGen/DatProc/dpmain/__init__.py:1\u001b[0m\n\u001b[0;32m----> 1\u001b[0m \u001b[39mfrom\u001b[39;00m \u001b[39m.\u001b[39;00m\u001b[39mdatproc_v1\u001b[39;00m \u001b[39mimport\u001b[39;00m DatProcV1  \u001b[39m# PanoHead DatProc\u001b[39;00m\n",
      "File \u001b[0;32m~/Research/3DHeadGen/DatProc/dpmain/datproc_v1.py:18\u001b[0m\n\u001b[1;32m     16\u001b[0m \u001b[39mfrom\u001b[39;00m \u001b[39mdpfilter\u001b[39;00m \u001b[39mimport\u001b[39;00m ImageSizeFilter, ImageBlurFilter\n\u001b[1;32m     17\u001b[0m \u001b[39mfrom\u001b[39;00m \u001b[39mdpdetector\u001b[39;00m \u001b[39mimport\u001b[39;00m HeadDetector, FaceAlignmentDetector\n\u001b[0;32m---> 18\u001b[0m \u001b[39mfrom\u001b[39;00m \u001b[39mdpcropper\u001b[39;00m \u001b[39mimport\u001b[39;00m FrontViewCropper\n\u001b[1;32m     19\u001b[0m \u001b[39mfrom\u001b[39;00m \u001b[39mdpparser\u001b[39;00m \u001b[39mimport\u001b[39;00m HeadParser, HeadSegmenter\n\u001b[1;32m     20\u001b[0m \u001b[39mfrom\u001b[39;00m \u001b[39mdpestimator\u001b[39;00m \u001b[39mimport\u001b[39;00m HeadPoseEstimator\n",
      "File \u001b[0;32m~/Research/3DHeadGen/DatProc/dpcropper/__init__.py:1\u001b[0m\n\u001b[0;32m----> 1\u001b[0m \u001b[39mfrom\u001b[39;00m \u001b[39m.\u001b[39;00m\u001b[39mfront_view_cropper\u001b[39;00m \u001b[39mimport\u001b[39;00m FrontViewCropper\n",
      "File \u001b[0;32m~/Research/3DHeadGen/DatProc/dpcropper/front_view_cropper.py:9\u001b[0m\n\u001b[1;32m      5\u001b[0m \u001b[39mimport\u001b[39;00m \u001b[39msys\u001b[39;00m\n\u001b[1;32m      7\u001b[0m \u001b[39mprint\u001b[39m(sys\u001b[39m.\u001b[39mpath)\n\u001b[0;32m----> 9\u001b[0m \u001b[39mfrom\u001b[39;00m \u001b[39mTDDFA_V2\u001b[39;00m\u001b[39m.\u001b[39;00m\u001b[39mFaceBoxes\u001b[39;00m \u001b[39mimport\u001b[39;00m FaceBoxes\n\u001b[1;32m     10\u001b[0m \u001b[39mfrom\u001b[39;00m \u001b[39mTDDFA_V2\u001b[39;00m\u001b[39m.\u001b[39;00m\u001b[39mTDDFA\u001b[39;00m \u001b[39mimport\u001b[39;00m TDDFA\n\u001b[1;32m     11\u001b[0m \u001b[39mfrom\u001b[39;00m \u001b[39mTDDFA_V2\u001b[39;00m\u001b[39m.\u001b[39;00m\u001b[39mutils\u001b[39;00m\u001b[39m.\u001b[39;00m\u001b[39mpose\u001b[39;00m \u001b[39mimport\u001b[39;00m P2sRt, matrix2angle\n",
      "File \u001b[0;32m~/Research/3DHeadGen/DatProc/TDDFA_V2/FaceBoxes/__init__.py:1\u001b[0m\n\u001b[0;32m----> 1\u001b[0m \u001b[39mfrom\u001b[39;00m \u001b[39m.\u001b[39;00m\u001b[39mFaceBoxes\u001b[39;00m \u001b[39mimport\u001b[39;00m FaceBoxes\n",
      "File \u001b[0;32m~/Research/3DHeadGen/DatProc/TDDFA_V2/FaceBoxes/FaceBoxes.py:10\u001b[0m\n\u001b[1;32m      7\u001b[0m \u001b[39mimport\u001b[39;00m \u001b[39mcv2\u001b[39;00m\n\u001b[1;32m      9\u001b[0m \u001b[39mfrom\u001b[39;00m \u001b[39mTDDFA_V2\u001b[39;00m\u001b[39m.\u001b[39;00m\u001b[39mFaceBoxes\u001b[39;00m\u001b[39m.\u001b[39;00m\u001b[39mutils\u001b[39;00m\u001b[39m.\u001b[39;00m\u001b[39mprior_box\u001b[39;00m \u001b[39mimport\u001b[39;00m PriorBox\n\u001b[0;32m---> 10\u001b[0m \u001b[39mfrom\u001b[39;00m \u001b[39mTDDFA_V2\u001b[39;00m\u001b[39m.\u001b[39;00m\u001b[39mFaceBoxes\u001b[39;00m\u001b[39m.\u001b[39;00m\u001b[39mutils\u001b[39;00m\u001b[39m.\u001b[39;00m\u001b[39mnms_wrapper\u001b[39;00m \u001b[39mimport\u001b[39;00m nms\n\u001b[1;32m     11\u001b[0m \u001b[39mfrom\u001b[39;00m \u001b[39mTDDFA_V2\u001b[39;00m\u001b[39m.\u001b[39;00m\u001b[39mFaceBoxes\u001b[39;00m\u001b[39m.\u001b[39;00m\u001b[39mutils\u001b[39;00m\u001b[39m.\u001b[39;00m\u001b[39mbox_utils\u001b[39;00m \u001b[39mimport\u001b[39;00m decode\n\u001b[1;32m     12\u001b[0m \u001b[39mfrom\u001b[39;00m \u001b[39mTDDFA_V2\u001b[39;00m\u001b[39m.\u001b[39;00m\u001b[39mFaceBoxes\u001b[39;00m\u001b[39m.\u001b[39;00m\u001b[39mutils\u001b[39;00m\u001b[39m.\u001b[39;00m\u001b[39mtimer\u001b[39;00m \u001b[39mimport\u001b[39;00m Timer\n",
      "File \u001b[0;32m~/Research/3DHeadGen/DatProc/TDDFA_V2/FaceBoxes/utils/nms_wrapper.py:18\u001b[0m\n\u001b[1;32m      1\u001b[0m \u001b[39m'''\u001b[39;00m\n\u001b[1;32m      2\u001b[0m \u001b[39mAuthor: chence antonio.chan.cc@outlook.com\u001b[39;00m\n\u001b[1;32m      3\u001b[0m \u001b[39mDate: 2023-09-13 19:30:32\u001b[39;00m\n\u001b[0;32m   (...)\u001b[0m\n\u001b[1;32m      7\u001b[0m \u001b[39mDescription: 这是默认设置,请设置`customMade`, 打开koroFileHeader查看配置 进行设置: https://github.com/OBKoro1/koro1FileHeader/wiki/%E9%85%8D%E7%BD%AE\u001b[39;00m\n\u001b[1;32m      8\u001b[0m \u001b[39m'''\u001b[39;00m\n\u001b[1;32m      9\u001b[0m \u001b[39m# coding: utf-8\u001b[39;00m\n\u001b[1;32m     10\u001b[0m \n\u001b[1;32m     11\u001b[0m \u001b[39m# --------------------------------------------------------\u001b[39;00m\n\u001b[0;32m   (...)\u001b[0m\n\u001b[1;32m     15\u001b[0m \u001b[39m# Written by Ross Girshick\u001b[39;00m\n\u001b[1;32m     16\u001b[0m \u001b[39m# --------------------------------------------------------\u001b[39;00m\n\u001b[0;32m---> 18\u001b[0m \u001b[39mfrom\u001b[39;00m \u001b[39mTDDFA_V2\u001b[39;00m\u001b[39m.\u001b[39;00m\u001b[39mFaceBoxes\u001b[39;00m\u001b[39m.\u001b[39;00m\u001b[39mutils\u001b[39;00m\u001b[39m.\u001b[39;00m\u001b[39mnms\u001b[39;00m\u001b[39m.\u001b[39;00m\u001b[39mcpu_nms\u001b[39;00m \u001b[39mimport\u001b[39;00m cpu_nms, cpu_soft_nms\n\u001b[1;32m     21\u001b[0m \u001b[39mdef\u001b[39;00m \u001b[39mnms\u001b[39m(dets, thresh):\n\u001b[1;32m     22\u001b[0m \u001b[39m    \u001b[39m\u001b[39m\"\"\"Dispatch to either CPU or GPU NMS implementations.\"\"\"\u001b[39;00m\n",
      "\u001b[0;31mModuleNotFoundError\u001b[0m: No module named 'TDDFA_V2.FaceBoxes.utils.nms.cpu_nms'"
     ]
    }
   ],
   "source": [
    "import sys\n",
    "WORK_DIR = '/home/chence/Research/3DHeadGen/DatProc'\n",
    "if WORK_DIR not in sys.path:\n",
    "    sys.path.append(WORK_DIR)\n",
    "\n",
    "import os\n",
    "import os.path as osp\n",
    "import cv2\n",
    "import numpy as np\n",
    "import json\n",
    "import tqdm\n",
    "from skimage import io\n",
    "from dpmain import DatProcV1\n",
    "\n",
    "\n",
    "h3ds_data_root = '/data/chence/h3ds_v0.2_images'\n",
    "h3ds_model_list = os.listdir(h3ds_data_root)\n",
    "h3ds_save_root = '/data/chence/h3ds_v0.2_images_processed'\n"
   ]
  },
  {
   "cell_type": "code",
   "execution_count": 3,
   "metadata": {},
   "outputs": [
    {
     "ename": "NameError",
     "evalue": "name 'osp' is not defined",
     "output_type": "error",
     "traceback": [
      "\u001b[0;31m---------------------------------------------------------------------------\u001b[0m",
      "\u001b[0;31mNameError\u001b[0m                                 Traceback (most recent call last)",
      "\u001b[1;32m/home/chence/Research/3DHeadGen/DatProc/Y2.h3ds_process.ipynb Cell 2\u001b[0m line \u001b[0;36m3\n\u001b[1;32m      <a href='vscode-notebook-cell://ssh-remote%2B7b22686f73744e616d65223a223231382e39332e3230322e34392853694d6f7529227d/home/chence/Research/3DHeadGen/DatProc/Y2.h3ds_process.ipynb#W1sdnNjb2RlLXJlbW90ZQ%3D%3D?line=0'>1</a>\u001b[0m model_id \u001b[39m=\u001b[39m h3ds_model_list[\u001b[39m0\u001b[39m]\n\u001b[0;32m----> <a href='vscode-notebook-cell://ssh-remote%2B7b22686f73744e616d65223a223231382e39332e3230322e34392853694d6f7529227d/home/chence/Research/3DHeadGen/DatProc/Y2.h3ds_process.ipynb#W1sdnNjb2RlLXJlbW90ZQ%3D%3D?line=2'>3</a>\u001b[0m head_image_save_dir \u001b[39m=\u001b[39m osp\u001b[39m.\u001b[39mjoin(h3ds_save_root, \u001b[39m'\u001b[39m\u001b[39mhead_image\u001b[39m\u001b[39m'\u001b[39m, model_id)\n\u001b[1;32m      <a href='vscode-notebook-cell://ssh-remote%2B7b22686f73744e616d65223a223231382e39332e3230322e34392853694d6f7529227d/home/chence/Research/3DHeadGen/DatProc/Y2.h3ds_process.ipynb#W1sdnNjb2RlLXJlbW90ZQ%3D%3D?line=3'>4</a>\u001b[0m os\u001b[39m.\u001b[39mmakedirs(head_image_save_dir, exist_ok\u001b[39m=\u001b[39m\u001b[39mTrue\u001b[39;00m)\n\u001b[1;32m      <a href='vscode-notebook-cell://ssh-remote%2B7b22686f73744e616d65223a223231382e39332e3230322e34392853694d6f7529227d/home/chence/Research/3DHeadGen/DatProc/Y2.h3ds_process.ipynb#W1sdnNjb2RlLXJlbW90ZQ%3D%3D?line=4'>5</a>\u001b[0m head_image_par_save_dir \u001b[39m=\u001b[39m osp\u001b[39m.\u001b[39mjoin(h3ds_save_root, \u001b[39m'\u001b[39m\u001b[39mhead_parsing\u001b[39m\u001b[39m'\u001b[39m, model_id)\n",
      "\u001b[0;31mNameError\u001b[0m: name 'osp' is not defined"
     ]
    }
   ],
   "source": [
    "model_id = h3ds_model_list[0]\n",
    "\n",
    "head_image_save_dir = osp.join(h3ds_save_root, 'head_image', model_id)\n",
    "os.makedirs(head_image_save_dir, exist_ok=True)\n",
    "head_image_par_save_dir = osp.join(h3ds_save_root, 'head_parsing', model_id)\n",
    "os.makedirs(head_image_par_save_dir, exist_ok=True)\n",
    "head_image_msk_save_dir = osp.join(h3ds_save_root, 'head_mask', model_id)\n",
    "os.makedirs(head_image_msk_save_dir, exist_ok=True)\n",
    "\n",
    "align_image_save_dir = osp.join(h3ds_save_root, 'align_image', model_id)\n",
    "os.makedirs(align_image_save_dir, exist_ok=True)\n",
    "align_image_par_save_dir = osp.join(h3ds_save_root, 'align_parsing', model_id)\n",
    "os.makedirs(align_image_par_save_dir, exist_ok=True)\n",
    "align_image_msk_save_dir = osp.join(h3ds_save_root, 'align_mask', model_id)\n",
    "os.makedirs(align_image_msk_save_dir, exist_ok=True)\n",
    "\n",
    "img_dir = os.path.join(h3ds_data_root, model_id)\n",
    "img_files = sorted(os.listdir(img_dir))\n",
    "dataset_dict = {}\n",
    "for img_file in tqdm.tqdm(img_files):\n",
    "    img_path = osp.join(img_dir, img_file)\n",
    "    img_msk_path = None\n",
    "    img_par_path = None\n",
    "    landmarks = None\n",
    "    info_dict, head_image, head_image_par, head_image_msk, cropped_img, cropped_img_par, cropped_img_msk = dpv1(img_path, img_msk_path, img_par_path, landmarks)\n",
    "    dataset_dict[img_file] = info_dict\n",
    "    io.imsave(osp.join(head_image_save_dir, img_file), head_image)\n",
    "    io.imsave(osp.join(head_image_par_save_dir, img_file), head_image_par)\n",
    "    io.imsave(osp.join(head_image_msk_save_dir, img_file), head_image_msk)\n",
    "    io.imsave(osp.join(align_image_save_dir, img_file), cropped_img)\n",
    "    io.imsave(osp.join(align_image_par_save_dir, img_file), cropped_img_par)\n",
    "    io.imsave(osp.join(align_image_msk_save_dir, img_file), cropped_img_msk)\n"
   ]
  }
 ],
 "metadata": {
  "kernelspec": {
   "display_name": "3dpndp",
   "language": "python",
   "name": "python3"
  },
  "language_info": {
   "codemirror_mode": {
    "name": "ipython",
    "version": 3
   },
   "file_extension": ".py",
   "mimetype": "text/x-python",
   "name": "python",
   "nbconvert_exporter": "python",
   "pygments_lexer": "ipython3",
   "version": "3.9.16"
  }
 },
 "nbformat": 4,
 "nbformat_minor": 2
}
