{
 "cells": [
  {
   "cell_type": "code",
   "execution_count": 8,
   "metadata": {},
   "outputs": [
    {
     "name": "stderr",
     "output_type": "stream",
     "text": [
      "100%|██████████| 404524/404524 [00:00<00:00, 1085400.28it/s]\n"
     ]
    }
   ],
   "source": [
    "import json, os, tqdm\n",
    "\n",
    "dataset_json_path = '/data5/chence/PanoHeadData/single_view_hq/dataset.json'\n",
    "khs_train_paths = {}\n",
    "khs_val_paths = {}\n",
    "ours_paths = {}\n",
    "with open(dataset_json_path, 'r') as f:\n",
    "    dataset = json.load(f)\n",
    "\n",
    "not_shown_ours = True\n",
    "not_shown_khs = True\n",
    "for image_name, image_meta in tqdm.tqdm(dataset.items()):\n",
    "    source = image_meta['data_source']\n",
    "    if source == 'OCD/Original':\n",
    "        ours_paths[image_name] = image_meta['align_image_path']\n",
    "    elif source == 'K-Hairstyle/Validation':\n",
    "        new_path = image_meta['align_image_path'].replace('align_images', 'validation_labels')\n",
    "        new_path = new_path[:-7] + '.json'\n",
    "        new_path.replace('-', '_')\n",
    "        khs_val_paths[image_name] = new_path\n",
    "    elif source == 'K-Hairstyle/Training':\n",
    "        new_path = image_meta['align_image_path'].replace('align_images', 'training_labels')\n",
    "        new_path = new_path[:-7] + '.json'\n",
    "        new_path.replace('-', '_')\n",
    "        khs_val_paths[image_name] = new_path\n"
   ]
  },
  {
   "cell_type": "code",
   "execution_count": 9,
   "metadata": {},
   "outputs": [
    {
     "name": "stdout",
     "output_type": "stream",
     "text": [
      "00147/img00147690.png: training_labels/0003.rawset/0009.리프/3748.JS948553/JS948553-142.json\n",
      "00147/img00147691.png: training_labels/0003.rawset/0009.리프/3748.JS948553/JS948553-143.json\n",
      "00147/img00147692.png: training_labels/0003.rawset/0009.리프/3789.JSS004031/JSS004031-035.json\n",
      "00147/img00147693.png: training_labels/0003.rawset/0009.리프/3789.JSS004031/JSS004031-019.json\n",
      "00147/img00147694.png: training_labels/0003.rawset/0009.리프/3789.JSS004031/JSS004031-020.json\n",
      "00147/img00147695.png: training_labels/0003.rawset/0009.리프/3789.JSS004031/JSS004031-021.json\n",
      "00147/img00147696.png: training_labels/0003.rawset/0009.리프/3789.JSS004031/JSS004031-022.json\n",
      "00147/img00147697.png: training_labels/0003.rawset/0009.리프/3789.JSS004031/JSS004031-023.json\n",
      "00147/img00147698.png: training_labels/0003.rawset/0009.리프/3789.JSS004031/JSS004031-024.json\n",
      "00147/img00147699.png: training_labels/0003.rawset/0009.리프/3789.JSS004031/JSS004031-025.json\n"
     ]
    }
   ],
   "source": [
    "vis_num = 10\n",
    "\n",
    "for k, v in khs_train_paths.items():\n",
    "    print(f'{k}: {v}')\n",
    "    vis_num -= 1\n",
    "    if vis_num == 0:\n",
    "        break"
   ]
  }
 ],
 "metadata": {
  "kernelspec": {
   "display_name": "datproc",
   "language": "python",
   "name": "python3"
  },
  "language_info": {
   "codemirror_mode": {
    "name": "ipython",
    "version": 3
   },
   "file_extension": ".py",
   "mimetype": "text/x-python",
   "name": "python",
   "nbconvert_exporter": "python",
   "pygments_lexer": "ipython3",
   "version": "3.8.17"
  }
 },
 "nbformat": 4,
 "nbformat_minor": 2
}
