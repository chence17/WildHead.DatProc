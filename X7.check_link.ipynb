{
 "cells": [
  {
   "cell_type": "code",
   "execution_count": 4,
   "metadata": {},
   "outputs": [],
   "source": [
    "import os"
   ]
  },
  {
   "cell_type": "code",
   "execution_count": 29,
   "metadata": {},
   "outputs": [],
   "source": [
    "root = '/data/PanoHeadData'\n",
    "views = ['multi_view_hq', 'single_view_hq']\n",
    "subdirs = ['align_images', 'align_masks', 'align_parsing', 'head_images', 'head_masks', 'head_parsing']"
   ]
  },
  {
   "cell_type": "code",
   "execution_count": 31,
   "metadata": {},
   "outputs": [
    {
     "name": "stdout",
     "output_type": "stream",
     "text": [
      "Visiting /data/PanoHeadData/multi_view_hq/align_images\n",
      "Visiting /data/PanoHeadData/multi_view_hq/align_masks\n",
      "Visiting /data/PanoHeadData/multi_view_hq/align_parsing\n",
      "Visiting /data/PanoHeadData/multi_view_hq/head_images\n",
      "Visiting /data/PanoHeadData/multi_view_hq/head_masks\n",
      "Visiting /data/PanoHeadData/multi_view_hq/head_parsing\n",
      "Visiting /data/PanoHeadData/single_view_hq/align_images\n",
      "Visiting /data/PanoHeadData/single_view_hq/align_masks\n",
      "Visiting /data/PanoHeadData/single_view_hq/align_parsing\n",
      "Visiting /data/PanoHeadData/single_view_hq/head_images\n",
      "Visiting /data/PanoHeadData/single_view_hq/head_masks\n",
      "Visiting /data/PanoHeadData/single_view_hq/head_parsing\n",
      "Found set() with links\n"
     ]
    }
   ],
   "source": [
    "has_link = set()\n",
    "for view in views:\n",
    "    for subdir in subdirs:\n",
    "        path = os.path.join(root, view, subdir)\n",
    "        print(f'Visiting {path}')\n",
    "        for roots, dirs, files in os.walk(path):\n",
    "            for file in files:\n",
    "                file_path = os.path.join(roots, file)\n",
    "                if file.endswith('.jpg') and os.path.islink(file_path):\n",
    "                    has_link.add(path)\n",
    "print(f'Found {has_link} with links')\n"
   ]
  }
 ],
 "metadata": {
  "kernelspec": {
   "display_name": "3DHeadGen",
   "language": "python",
   "name": "python3"
  },
  "language_info": {
   "codemirror_mode": {
    "name": "ipython",
    "version": 3
   },
   "file_extension": ".py",
   "mimetype": "text/x-python",
   "name": "python",
   "nbconvert_exporter": "python",
   "pygments_lexer": "ipython3",
   "version": "3.9.17"
  }
 },
 "nbformat": 4,
 "nbformat_minor": 2
}
