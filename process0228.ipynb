{
 "cells": [
  {
   "cell_type": "code",
   "execution_count": 1,
   "metadata": {},
   "outputs": [],
   "source": [
    "import json\n",
    "\n",
    "# Specify the path to the JSON file\n",
    "file_path = \"/data/PanoHeadData/single_view_hq/dataset.json\"\n",
    "\n",
    "# Open the JSON file and load its contents\n",
    "with open(file_path, \"r\") as file:\n",
    "    data = json.load(file)\n",
    "\n",
    "image_list = sorted(data.keys())"
   ]
  },
  {
   "cell_type": "code",
   "execution_count": 2,
   "metadata": {},
   "outputs": [
    {
     "data": {
      "text/plain": [
       "'00403/img00403999.jpg'"
      ]
     },
     "execution_count": 2,
     "metadata": {},
     "output_type": "execute_result"
    }
   ],
   "source": [
    "\"00403/img00403999.jpg\""
   ]
  },
  {
   "cell_type": "code",
   "execution_count": 3,
   "metadata": {},
   "outputs": [
    {
     "data": {
      "text/plain": [
       "'00404/img00404565.jpg'"
      ]
     },
     "execution_count": 3,
     "metadata": {},
     "output_type": "execute_result"
    }
   ],
   "source": [
    "image_list[-1]"
   ]
  },
  {
   "cell_type": "code",
   "execution_count": 4,
   "metadata": {},
   "outputs": [
    {
     "data": {
      "text/plain": [
       "('align_images',\n",
       " 'align_masks',\n",
       " 'align_parsing',\n",
       " 'head_images',\n",
       " 'head_masks',\n",
       " 'head_parsing')"
      ]
     },
     "execution_count": 4,
     "metadata": {},
     "output_type": "execute_result"
    }
   ],
   "source": [
    "\"align_images\", \"align_masks\", \"align_parsing\", \"head_images\", \"head_masks\", \"head_parsing\""
   ]
  },
  {
   "cell_type": "markdown",
   "metadata": {},
   "source": [
    "# Process Single Images"
   ]
  },
  {
   "cell_type": "code",
   "execution_count": 1,
   "metadata": {},
   "outputs": [],
   "source": [
    "import os\n",
    "import os.path as osp\n",
    "\n",
    "\n",
    "img_src_dir = \"/home/heyuan/heyuan/Datasets/WebCrawlHair/data/data_common\"\n",
    "img_src_part = 'WebA'\n",
    "img_src_site = 'pinterest'\n",
    "img_src_tag = 'Bob Cut Hair back view NP'\n",
    "img_src_sub_dir = osp.join(img_src_dir, img_src_part, img_src_site, img_src_tag)\n",
    "img_src_names = sorted(os.listdir(img_src_sub_dir))"
   ]
  },
  {
   "cell_type": "code",
   "execution_count": 2,
   "metadata": {},
   "outputs": [
    {
     "name": "stdout",
     "output_type": "stream",
     "text": [
      "182946\n"
     ]
    }
   ],
   "source": [
    "def get_subdirs(dirname):\n",
    "    return [i for i in os.listdir(dirname) if osp.isdir(osp.join(dirname, i))]\n",
    "\n",
    "total_num = 0\n",
    "img_src_parts = get_subdirs(img_src_dir)\n",
    "# print(img_src_parts)\n",
    "for img_src_part in img_src_parts:\n",
    "    img_src_sites = get_subdirs(osp.join(img_src_dir, img_src_part))\n",
    "    # print(img_src_sites)\n",
    "    for img_src_site in img_src_sites:\n",
    "        img_src_tags = get_subdirs(osp.join(img_src_dir, img_src_part, img_src_site))\n",
    "        # print(img_src_tags)\n",
    "        for img_src_tag in img_src_tags:\n",
    "            img_src_sub_dir = osp.join(img_src_dir, img_src_part, img_src_site, img_src_tag)\n",
    "            img_src_names = sorted(os.listdir(img_src_sub_dir))\n",
    "            # print(img_src_sub_dir, len(img_src_names))\n",
    "            total_num += len(img_src_names)\n",
    "print(total_num)"
   ]
  },
  {
   "cell_type": "code",
   "execution_count": 4,
   "metadata": {},
   "outputs": [
    {
     "name": "stderr",
     "output_type": "stream",
     "text": [
      "/home/chence/Miniconda3/envs/3ddfav2/lib/python3.9/site-packages/tqdm/auto.py:21: TqdmWarning: IProgress not found. Please update jupyter and ipywidgets. See https://ipywidgets.readthedocs.io/en/stable/user_install.html\n",
      "  from .autonotebook import tqdm as notebook_tqdm\n"
     ]
    },
    {
     "name": "stdout",
     "output_type": "stream",
     "text": [
      "['/data/chence/Research/3DHeadGen/DatProc', '/home/chence/Miniconda3/envs/3ddfav2/lib/python39.zip', '/home/chence/Miniconda3/envs/3ddfav2/lib/python3.9', '/home/chence/Miniconda3/envs/3ddfav2/lib/python3.9/lib-dynload', '', '/home/chence/Miniconda3/envs/3ddfav2/lib/python3.9/site-packages']\n"
     ]
    }
   ],
   "source": [
    "from dpmain.datproc_v1 import DatProcV1\n",
    "\n",
    "dp = DatProcV1(\"Web20240228\")"
   ]
  },
  {
   "cell_type": "code",
   "execution_count": 6,
   "metadata": {},
   "outputs": [
    {
     "name": "stderr",
     "output_type": "stream",
     "text": [
      "100%|██████████| 10/10 [00:29<00:00,  2.90s/it]\n"
     ]
    }
   ],
   "source": [
    "'''\n",
    "Author: chence antonio.chan.cc@outlook.com\n",
    "Date: 2024-02-28 17:52:36\n",
    "LastEditors: chence antonio.chan.cc@outlook.com\n",
    "LastEditTime: 2024-02-28 22:50:06\n",
    "FilePath: /DatProc/process0228.ipynb\n",
    "Description: 这是默认设置,请设置`customMade`, 打开koroFileHeader查看配置 进行设置: https://github.com/OBKoro1/koro1FileHeader/wiki/%E9%85%8D%E7%BD%AE\n",
    "'''\n",
    "import tqdm\n",
    "index = 72\n",
    "\n",
    "for index in tqdm.trange(10):\n",
    "    # Specify the file path of the image\n",
    "    image_path = osp.join(img_src_sub_dir, img_src_names[index])\n",
    "    info_dict, head_image, head_image_par, head_image_msk, cropped_img, cropped_img_par, cropped_img_msk = dp(image_path)"
   ]
  },
  {
   "cell_type": "code",
   "execution_count": 22,
   "metadata": {},
   "outputs": [],
   "source": [
    "# from PIL import Image\n",
    "\n",
    "# display(Image.fromarray(head_image))\n",
    "# display(Image.fromarray(head_image_par))\n",
    "# display(Image.fromarray(head_image_msk))\n",
    "\n",
    "# display(Image.fromarray(cropped_img))\n",
    "# display(Image.fromarray(cropped_img_par))\n",
    "# display(Image.fromarray(cropped_img_msk))"
   ]
  },
  {
   "cell_type": "code",
   "execution_count": null,
   "metadata": {},
   "outputs": [],
   "source": []
  }
 ],
 "metadata": {
  "kernelspec": {
   "display_name": "3dpndp",
   "language": "python",
   "name": "python3"
  },
  "language_info": {
   "codemirror_mode": {
    "name": "ipython",
    "version": 3
   },
   "file_extension": ".py",
   "mimetype": "text/x-python",
   "name": "python",
   "nbconvert_exporter": "python",
   "pygments_lexer": "ipython3",
   "version": "3.9.16"
  }
 },
 "nbformat": 4,
 "nbformat_minor": 2
}
