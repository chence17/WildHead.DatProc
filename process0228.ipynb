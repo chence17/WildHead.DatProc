{
 "cells": [
  {
   "cell_type": "code",
   "execution_count": 1,
   "metadata": {},
   "outputs": [],
   "source": [
    "import json\n",
    "\n",
    "# Specify the path to the JSON file\n",
    "file_path = \"/data/PanoHeadData/single_view_hq/dataset.json\"\n",
    "\n",
    "# Open the JSON file and load its contents\n",
    "with open(file_path, \"r\") as file:\n",
    "    data = json.load(file)\n",
    "\n",
    "image_list = sorted(data.keys())"
   ]
  },
  {
   "cell_type": "code",
   "execution_count": 2,
   "metadata": {},
   "outputs": [
    {
     "data": {
      "text/plain": [
       "'00403/img00403999.jpg'"
      ]
     },
     "execution_count": 2,
     "metadata": {},
     "output_type": "execute_result"
    }
   ],
   "source": [
    "\"00403/img00403999.jpg\""
   ]
  },
  {
   "cell_type": "code",
   "execution_count": 3,
   "metadata": {},
   "outputs": [
    {
     "data": {
      "text/plain": [
       "'00404/img00404565.jpg'"
      ]
     },
     "execution_count": 3,
     "metadata": {},
     "output_type": "execute_result"
    }
   ],
   "source": [
    "image_list[-1]"
   ]
  },
  {
   "cell_type": "code",
   "execution_count": 4,
   "metadata": {},
   "outputs": [
    {
     "data": {
      "text/plain": [
       "('align_images',\n",
       " 'align_masks',\n",
       " 'align_parsing',\n",
       " 'head_images',\n",
       " 'head_masks',\n",
       " 'head_parsing')"
      ]
     },
     "execution_count": 4,
     "metadata": {},
     "output_type": "execute_result"
    }
   ],
   "source": [
    "\"align_images\", \"align_masks\", \"align_parsing\", \"head_images\", \"head_masks\", \"head_parsing\""
   ]
  },
  {
   "cell_type": "code",
   "execution_count": 12,
   "metadata": {},
   "outputs": [],
   "source": [
    "import os\n",
    "import os.path as osp\n",
    "\n",
    "def get_subdirs(dirname):\n",
    "    return [i for i in os.listdir(dirname) if osp.isdir(osp.join(dirname, i))]\n",
    "\n",
    "data_root = \"/home/ce.chen/chence/Data/Datasets/Head/Web20240228\"\n",
    "data_type = \"data_common\"\n",
    "img_src_dir = osp.join(data_root, data_type)\n",
    "img_src_parts = get_subdirs(img_src_dir)\n",
    "\n",
    "total_num = 0\n",
    "process_dict = {}\n",
    "start_index = 405000\n",
    "for img_src_part in img_src_parts:\n",
    "    img_src_sites = get_subdirs(osp.join(img_src_dir, img_src_part))\n",
    "    for img_src_site in img_src_sites:\n",
    "        img_src_tags = get_subdirs(osp.join(img_src_dir, img_src_part, img_src_site))\n",
    "        for img_src_tag in img_src_tags:\n",
    "            img_src_sub_dir = osp.join(img_src_dir, img_src_part, img_src_site, img_src_tag)\n",
    "            img_src_names = sorted(os.listdir(img_src_sub_dir))\n",
    "            total_num += len(img_src_names)\n",
    "            for img_src_name in img_src_names:\n",
    "                folder_name = f\"{start_index // 1000:05d}\"\n",
    "                image_prefix = f\"img{start_index:08d}\"\n",
    "                pkey = f\"{folder_name}/{image_prefix}\"\n",
    "                process_dict[pkey] = osp.join(img_src_sub_dir, img_src_name)\n",
    "                start_index += 1\n"
   ]
  },
  {
   "cell_type": "code",
   "execution_count": 18,
   "metadata": {},
   "outputs": [
    {
     "data": {
      "text/plain": [
       "182946"
      ]
     },
     "execution_count": 18,
     "metadata": {},
     "output_type": "execute_result"
    }
   ],
   "source": [
    "len(process_dict)"
   ]
  },
  {
   "cell_type": "code",
   "execution_count": 20,
   "metadata": {},
   "outputs": [],
   "source": [
    "import json\n",
    "\n",
    "# Specify the path to save the JSON file\n",
    "file_path = \"outputs/Web20240228_data_common_process_dict.json\"\n",
    "\n",
    "# Save the process_dict as a JSON file\n",
    "with open(file_path, \"w\") as file:\n",
    "    json.dump(process_dict, file, indent=4)\n"
   ]
  },
  {
   "cell_type": "markdown",
   "metadata": {},
   "source": [
    "# Process Single Images"
   ]
  },
  {
   "cell_type": "code",
   "execution_count": 1,
   "metadata": {},
   "outputs": [],
   "source": [
    "import os\n",
    "import os.path as osp\n",
    "\n",
    "\n",
    "img_src_dir = \"/home/ce.chen/chence/Data/Datasets/Head/Web20240228/data_common\"\n",
    "img_src_part = 'WebA'\n",
    "img_src_site = 'pinterest'\n",
    "img_src_tag = 'Bob Cut Hair back view NP'\n",
    "img_src_sub_dir = osp.join(img_src_dir, img_src_part, img_src_site, img_src_tag)\n",
    "img_src_names = sorted(os.listdir(img_src_sub_dir))"
   ]
  },
  {
   "cell_type": "code",
   "execution_count": 2,
   "metadata": {},
   "outputs": [
    {
     "name": "stderr",
     "output_type": "stream",
     "text": [
      "/home/ce.chen/miniconda3/envs/3ddfav2/lib/python3.9/site-packages/tqdm/auto.py:21: TqdmWarning: IProgress not found. Please update jupyter and ipywidgets. See https://ipywidgets.readthedocs.io/en/stable/user_install.html\n",
      "  from .autonotebook import tqdm as notebook_tqdm\n"
     ]
    },
    {
     "name": "stdout",
     "output_type": "stream",
     "text": [
      "['/home/ce.chen/chence/Workspace/3DHead/DatProc', '/home/ce.chen/miniconda3/envs/3ddfav2/lib/python39.zip', '/home/ce.chen/miniconda3/envs/3ddfav2/lib/python3.9', '/home/ce.chen/miniconda3/envs/3ddfav2/lib/python3.9/lib-dynload', '', '/home/ce.chen/miniconda3/envs/3ddfav2/lib/python3.9/site-packages']\n"
     ]
    }
   ],
   "source": [
    "from dpmain.datproc_v1 import DatProcV1\n",
    "\n",
    "dp = DatProcV1(\"Web20240228\")"
   ]
  },
  {
   "cell_type": "code",
   "execution_count": 3,
   "metadata": {},
   "outputs": [
    {
     "name": "stderr",
     "output_type": "stream",
     "text": [
      "  0%|          | 0/1 [00:00<?, ?it/s]/home/ce.chen/miniconda3/envs/3ddfav2/lib/python3.9/site-packages/face_alignment/api.py:145: UserWarning: No faces were detected.\n",
      "  warnings.warn(\"No faces were detected.\")\n",
      "\n",
      "0: 640x640 10 objects, 23.7ms\n",
      "Speed: 8.3ms preprocess, 23.7ms inference, 4.4ms postprocess per image at shape (1, 3, 640, 640)\n",
      "100%|██████████| 1/1 [00:22<00:00, 22.57s/it]\n"
     ]
    }
   ],
   "source": [
    "import tqdm\n",
    "index = 72\n",
    "\n",
    "for index in tqdm.trange(1):\n",
    "    # Specify the file path of the image\n",
    "    image_path = osp.join(img_src_sub_dir, img_src_names[index])\n",
    "    info_dict, head_image, head_image_par, head_image_msk, cropped_img, cropped_img_par, cropped_img_msk = dp(image_path)"
   ]
  },
  {
   "cell_type": "code",
   "execution_count": 4,
   "metadata": {},
   "outputs": [],
   "source": [
    "# from PIL import Image\n",
    "\n",
    "# display(Image.fromarray(head_image))\n",
    "# display(Image.fromarray(head_image_par))\n",
    "# display(Image.fromarray(head_image_msk))\n",
    "\n",
    "# display(Image.fromarray(cropped_img))\n",
    "# display(Image.fromarray(cropped_img_par))\n",
    "# display(Image.fromarray(cropped_img_msk))"
   ]
  },
  {
   "cell_type": "code",
   "execution_count": 8,
   "metadata": {},
   "outputs": [
    {
     "data": {
      "text/plain": [
       "['align_box',\n",
       " 'align_quad',\n",
       " 'hpose',\n",
       " 'camera',\n",
       " 'valid_area_ratio',\n",
       " 'camera_scoord',\n",
       " 'view',\n",
       " 'svd_score',\n",
       " 'laplacian_score',\n",
       " 'par_ratio',\n",
       " 'msk_ratio']"
      ]
     },
     "execution_count": 8,
     "metadata": {},
     "output_type": "execute_result"
    }
   ],
   "source": [
    "list(info_dict['head'].keys())"
   ]
  },
  {
   "cell_type": "code",
   "execution_count": 9,
   "metadata": {},
   "outputs": [],
   "source": []
  },
  {
   "cell_type": "code",
   "execution_count": null,
   "metadata": {},
   "outputs": [],
   "source": []
  },
  {
   "cell_type": "code",
   "execution_count": 15,
   "metadata": {},
   "outputs": [
    {
     "data": {
      "text/plain": [
       "dict_keys(['landmarks', 'rotmat', 'rot_quad', 'raw_quad', 'tgt_quad', 'q2b_scale', 'q2b_shift', 'image', 'box'])"
      ]
     },
     "execution_count": 15,
     "metadata": {},
     "output_type": "execute_result"
    }
   ],
   "source": [
    "info_dict['raw'].keys()"
   ]
  },
  {
   "cell_type": "code",
   "execution_count": 24,
   "metadata": {},
   "outputs": [
    {
     "data": {
      "text/plain": [
       "'000001.jpg'"
      ]
     },
     "execution_count": 24,
     "metadata": {},
     "output_type": "execute_result"
    }
   ],
   "source": [
    "info_dict['raw']['image']"
   ]
  },
  {
   "cell_type": "code",
   "execution_count": 10,
   "metadata": {},
   "outputs": [
    {
     "data": {
      "text/plain": [
       "'/home/ce.chen/chence/Data/Datasets/Head/Web20240228/data_common/WebA/pinterest/Bob Cut Hair back view NP/000001.jpg'"
      ]
     },
     "execution_count": 10,
     "metadata": {},
     "output_type": "execute_result"
    }
   ],
   "source": [
    "image_path"
   ]
  },
  {
   "cell_type": "code",
   "execution_count": 6,
   "metadata": {},
   "outputs": [
    {
     "data": {
      "text/plain": [
       "dict_keys(['raw', 'head', 'data_source'])"
      ]
     },
     "execution_count": 6,
     "metadata": {},
     "output_type": "execute_result"
    }
   ],
   "source": [
    "info_dict.keys()"
   ]
  }
 ],
 "metadata": {
  "kernelspec": {
   "display_name": "3dpndp",
   "language": "python",
   "name": "python3"
  },
  "language_info": {
   "codemirror_mode": {
    "name": "ipython",
    "version": 3
   },
   "file_extension": ".py",
   "mimetype": "text/x-python",
   "name": "python",
   "nbconvert_exporter": "python",
   "pygments_lexer": "ipython3",
   "version": "3.9.16"
  }
 },
 "nbformat": 4,
 "nbformat_minor": 2
}
