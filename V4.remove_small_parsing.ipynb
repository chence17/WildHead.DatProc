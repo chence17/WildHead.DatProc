{
 "cells": [
  {
   "cell_type": "code",
   "execution_count": 77,
   "metadata": {},
   "outputs": [],
   "source": [
    "import os\n",
    "import cv2\n",
    "import json\n",
    "import tqdm\n",
    "import numpy as np\n",
    "from multiprocessing import Pool\n",
    "from IPython.display import display\n",
    "from matplotlib import pyplot as plt"
   ]
  },
  {
   "cell_type": "code",
   "execution_count": 78,
   "metadata": {},
   "outputs": [],
   "source": [
    "# use os.walk to get all pngs in a directory\n",
    "def calc_nonzero_porportion(image_path, use_jpg=False, show=False):\n",
    "    if use_jpg: image_path = image_path.replace('png', 'jpg')\n",
    "    parsing_result = cv2.imread(image_path, cv2.IMREAD_GRAYSCALE)\n",
    "    if show:\n",
    "        plt.imshow(parsing_result)\n",
    "        plt.show()\n",
    "    non_zero_count = np.count_nonzero(parsing_result)\n",
    "    porportion = non_zero_count / parsing_result.size\n",
    "    return porportion   \n"
   ]
  },
  {
   "cell_type": "code",
   "execution_count": 79,
   "metadata": {},
   "outputs": [
    {
     "name": "stdout",
     "output_type": "stream",
     "text": [
      "load dataset.json with 268807 images\n"
     ]
    }
   ],
   "source": [
    "root_dir = '/data2/chence/multi_view_hq'\n",
    "assert os.path.exists(os.path.join(root_dir, 'dataset.json'))\n",
    "with open(os.path.join(root_dir, 'dataset.json'), 'r') as f:\n",
    "    dataset = json.load(f)\n",
    "    print(f'load dataset.json from {root_dir} with {len(dataset)} images')"
   ]
  },
  {
   "cell_type": "code",
   "execution_count": 80,
   "metadata": {},
   "outputs": [],
   "source": [
    "thresh = 0.3\n",
    "backet = 0.001\n",
    "vis_sample = 20\n",
    "output_dict = {}\n",
    "output_filtered_dict = {}\n",
    "output_json_path = os.path.join(root_dir, f'dataset_thresh.json')\n",
    "output_filtered_json_path = os.path.join(root_dir, f'dataset_thresh_{thresh}.json')"
   ]
  },
  {
   "cell_type": "code",
   "execution_count": 81,
   "metadata": {},
   "outputs": [
    {
     "name": "stderr",
     "output_type": "stream",
     "text": [
      "100%|██████████| 268807/268807 [08:19<00:00, 537.63it/s]\n"
     ]
    }
   ],
   "source": [
    "for image_name, image_meta in tqdm.tqdm(dataset.items()):\n",
    "    image_path = os.path.join(root_dir, 'align_parsing',image_name)\n",
    "    ratio = calc_nonzero_porportion(image_path)\n",
    "    output_dict[image_name] = ratio\n",
    "    if ratio > thresh:\n",
    "        output_filtered_dict[image_name] = ratio"
   ]
  },
  {
   "cell_type": "code",
   "execution_count": 84,
   "metadata": {},
   "outputs": [
    {
     "name": "stdout",
     "output_type": "stream",
     "text": [
      "Saved to /data2/chence/multi_view_hq/dataset_thresh.json and /data2/chence/multi_view_hq/dataset_thresh_0.3.json\n"
     ]
    }
   ],
   "source": [
    "if not(os.path.exists(output_json_path)):\n",
    "    with open(output_json_path, 'w') as f:\n",
    "        json.dump(output_dict, f, indent=4)\n",
    "\n",
    "with open(output_filtered_json_path, 'w') as f:\n",
    "    json.dump(output_filtered_dict, f, indent=4)\n",
    "\n",
    "print(f'Saved to {output_json_path} and {output_filtered_json_path}')\n",
    "filtered_values = list(output_filtered_dict.values())\n",
    "assert min(filtered_values) > thresh"
   ]
  },
  {
   "cell_type": "code",
   "execution_count": 83,
   "metadata": {},
   "outputs": [],
   "source": [
    "\n",
    "    # if  p < thresh + backet and p > thresh - backet:\n",
    "    #     print(im_path, p)\n",
    "    #     orgn_image_path = images[idx].replace('align_parsing', 'align_images')\n",
    "    #     orgn_image = Image.open(orgn_image_path)\n",
    "    #     parsing_result = Image.open(images[idx])\n",
    "    #     # resize, make height = 128\n",
    "    #     h, w = parsing_result.size\n",
    "    #     parsing_result = parsing_result.resize((int(128 * w / h), 128))\n",
    "    #     orgn_image = orgn_image.resize((int(128 * w / h), 128))\n",
    "    #     fig, ax = plt.subplots(1, 2, figsize=(4, 4))\n",
    "    #     ax[0].imshow(orgn_image)\n",
    "    #     ax[1].imshow(parsing_result)\n",
    "    #     plt.show()\n",
    "    #     vis_sample -= 1\n",
    "    #     if vis_sample == 0: break\n",
    "        # display(Image.open(images[idx].replace('align_parsing', 'align_images')))\n",
    "        # display(Image.open(images[idx]))"
   ]
  }
 ],
 "metadata": {
  "kernelspec": {
   "display_name": "datproc",
   "language": "python",
   "name": "python3"
  },
  "language_info": {
   "codemirror_mode": {
    "name": "ipython",
    "version": 3
   },
   "file_extension": ".py",
   "mimetype": "text/x-python",
   "name": "python",
   "nbconvert_exporter": "python",
   "pygments_lexer": "ipython3",
   "version": "3.8.17"
  }
 },
 "nbformat": 4,
 "nbformat_minor": 2
}
