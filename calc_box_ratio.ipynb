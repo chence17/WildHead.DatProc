{
 "cells": [
  {
   "cell_type": "code",
   "execution_count": 14,
   "metadata": {},
   "outputs": [
    {
     "name": "stdout",
     "output_type": "stream",
     "text": [
      "data_root /data_new/chence/LPFF\n"
     ]
    }
   ],
   "source": [
    "import os\n",
    "import os.path as osp\n",
    "import json\n",
    "\n",
    "data_root = '/data_new/chence/LPFF'\n",
    "print('data_root', data_root)\n",
    "\n",
    "align_images_dir = os.path.join(data_root, 'align_images')\n",
    "align_parsing_dir = os.path.join(data_root, 'align_parsing')\n",
    "head_images_dir = os.path.join(data_root, 'head_images')\n",
    "head_parsing_dir = os.path.join(data_root, 'head_parsing')\n",
    "meta_json_file = os.path.join(data_root, 'meta_hq.json')\n",
    "assert os.path.exists(align_images_dir)\n",
    "assert os.path.exists(align_parsing_dir)\n",
    "assert os.path.exists(head_images_dir)\n",
    "assert os.path.exists(head_parsing_dir)\n",
    "assert os.path.exists(meta_json_file)\n",
    "\n",
    "with open(meta_json_file, 'r') as f:\n",
    "    cur_meta_data = json.load(f)"
   ]
  },
  {
   "cell_type": "code",
   "execution_count": 15,
   "metadata": {},
   "outputs": [
    {
     "name": "stderr",
     "output_type": "stream",
     "text": [
      "100%|██████████| 14293/14293 [00:00<00:00, 196516.05it/s]\n"
     ]
    }
   ],
   "source": [
    "import imagesize\n",
    "import tqdm\n",
    "\n",
    "def check_iv2b_ratio(data_input):\n",
    "    data_root, cur_key, cur_box_key, cur_file, cur_box = data_input\n",
    "    bx_min, by_min, bw, bh = cur_box\n",
    "    bx_max, by_max = bx_min + bw, by_min + bh\n",
    "    img_w, img_h = imagesize.get(osp.join(data_root, cur_file))\n",
    "    vx_min, vy_min = max(0, bx_min), max(0, by_min)\n",
    "    vx_max, vy_max = min(img_w, bx_max), min(img_h, by_max)\n",
    "    vw, vh = vx_max - vx_min, vy_max - vy_min\n",
    "    v2b_ratio = (vw * vh) / (bw * bh)\n",
    "    iv2b_ratio = 1.0 - v2b_ratio\n",
    "    info_dict = {\n",
    "        'box': cur_box,\n",
    "        'image_wh': [img_w, img_h],\n",
    "        'vbox': [vx_min, vy_min, vw, vh],\n",
    "        'v2b_ratio': v2b_ratio,\n",
    "        'iv2b_ratio': iv2b_ratio,\n",
    "    }\n",
    "    return (cur_key, cur_box_key, info_dict)\n",
    "\n",
    "\n",
    "data_inputs = []\n",
    "for cur_key in tqdm.tqdm(cur_meta_data.keys()):\n",
    "    cur_file = cur_meta_data[cur_key]['raw']['file_path']\n",
    "    for cur_box_key in cur_meta_data[cur_key]['raw']['head_boxes'].keys():\n",
    "        cur_box = cur_meta_data[cur_key]['raw']['head_boxes'][cur_box_key]\n",
    "        data_inputs.append((data_root, cur_key, cur_box_key, cur_file, cur_box))"
   ]
  },
  {
   "cell_type": "code",
   "execution_count": 16,
   "metadata": {},
   "outputs": [
    {
     "name": "stderr",
     "output_type": "stream",
     "text": [
      "100%|██████████| 26141/26141 [01:36<00:00, 270.12it/s]\n"
     ]
    }
   ],
   "source": [
    "from multiprocessing import Pool\n",
    "\n",
    "with Pool(processes=24) as pool:\n",
    "    mp_results = list(tqdm.tqdm(pool.imap(check_iv2b_ratio, data_inputs), total=len(data_inputs)))"
   ]
  },
  {
   "cell_type": "code",
   "execution_count": 17,
   "metadata": {},
   "outputs": [
    {
     "name": "stderr",
     "output_type": "stream",
     "text": [
      "100%|██████████| 26141/26141 [00:00<00:00, 481982.47it/s]\n",
      "100%|██████████| 14293/14293 [00:00<00:00, 170098.53it/s]\n"
     ]
    }
   ],
   "source": [
    "head_box_info = {}\n",
    "for i in tqdm.trange(len(mp_results)):\n",
    "    cur_key, cur_box_key, info_dict = mp_results[i]\n",
    "    if cur_key not in head_box_info.keys():\n",
    "        head_box_info[cur_key] = {}\n",
    "    head_box_info[cur_key][cur_box_key] = info_dict\n",
    "\n",
    "iv2b_ratios = []\n",
    "for cur_key in tqdm.tqdm(cur_meta_data.keys()):\n",
    "    for cur_box_key in cur_meta_data[cur_key]['raw']['head_boxes'].keys():\n",
    "        iv2b_ratios.append(head_box_info[cur_key][cur_box_key]['iv2b_ratio'])"
   ]
  },
  {
   "cell_type": "code",
   "execution_count": 18,
   "metadata": {},
   "outputs": [],
   "source": [
    "with open('temp/lpff_iv2b_ratios.json', 'w') as f:\n",
    "    json.dump(head_box_info, f, indent=4)"
   ]
  },
  {
   "cell_type": "code",
   "execution_count": 19,
   "metadata": {},
   "outputs": [
    {
     "data": {
      "image/png": "[encoded data removed]",
      "text/plain": [
       "<Figure size 800x400 with 1 Axes>"
      ]
     },
     "metadata": {},
     "output_type": "display_data"
    }
   ],
   "source": [
    "import matplotlib.pyplot as plt\n",
    "import numpy as np\n",
    "\n",
    "plt.figure(figsize=(8, 4))\n",
    "# plt.xscale('log')\n",
    "plt.hist(iv2b_ratios, bins=10)\n",
    "plt.title('iv2b_ratios')\n",
    "plt.show()"
   ]
  },
  {
   "cell_type": "code",
   "execution_count": 29,
   "metadata": {},
   "outputs": [
    {
     "name": "stderr",
     "output_type": "stream",
     "text": [
      "100%|██████████| 14293/14293 [00:00<00:00, 217648.81it/s]"
     ]
    },
    {
     "name": "stdout",
     "output_type": "stream",
     "text": [
      "selected_keys 157\n"
     ]
    },
    {
     "name": "stderr",
     "output_type": "stream",
     "text": [
      "\n"
     ]
    }
   ],
   "source": [
    "selected_keys = {}\n",
    "\n",
    "for cur_key in tqdm.tqdm(cur_meta_data.keys()):\n",
    "    for cur_box_key in cur_meta_data[cur_key]['raw']['head_boxes'].keys():\n",
    "        cur_iv2b_ratio = head_box_info[cur_key][cur_box_key]['iv2b_ratio']\n",
    "        if cur_iv2b_ratio > 0.3:\n",
    "            selected_keys[f\"{cur_key}|{cur_box_key}\"] = cur_iv2b_ratio\n",
    "selected_keys = dict(sorted(selected_keys.items(), key=lambda x: x[1], reverse=True))\n",
    "print('selected_keys', len(selected_keys))"
   ]
  },
  {
   "cell_type": "code",
   "execution_count": 27,
   "metadata": {},
   "outputs": [
    {
     "name": "stderr",
     "output_type": "stream",
     "text": [
      "100%|██████████| 157/157 [01:26<00:00,  1.81it/s]\n"
     ]
    }
   ],
   "source": [
    "import cv2\n",
    "\n",
    "save_dir = 'temp/LPFF'\n",
    "\n",
    "s_keys = list(selected_keys.keys())\n",
    "os.makedirs(save_dir, exist_ok=True)\n",
    "\n",
    "for idx in tqdm.trange(len(s_keys)):\n",
    "    s_key = list(selected_keys.keys())[idx]\n",
    "    # print(s_key, selected_keys[s_key])\n",
    "    cur_key, cur_box_key = s_key.split('|')\n",
    "    box = cur_meta_data[cur_key]['raw']['head_boxes'][cur_box_key]\n",
    "    cur_file = cur_meta_data[cur_key]['raw']['file_path']\n",
    "    cur_image_data = cv2.imread(osp.join(data_root, cur_file))\n",
    "\n",
    "    from visualize.vis_2d import draw_detection_box\n",
    "\n",
    "    a = draw_detection_box(cur_image_data, box, text='')\n",
    "    save_name = f\"{selected_keys[s_key]:.2f}_\"+s_key.replace('|', '_').replace('/', '_')+\".jpg\"\n",
    "    save_path = osp.join(save_dir, save_name)\n",
    "    if not osp.exists(save_path):\n",
    "        cv2.imwrite(save_path, a)\n",
    "    # print(save_name)\n",
    "\n",
    "    # from PIL import Image\n",
    "\n",
    "    # # display(Image.fromarray(cur_image_data[..., ::-1]))\n",
    "    # display(Image.fromarray(a[..., ::-1]))"
   ]
  },
  {
   "cell_type": "code",
   "execution_count": 37,
   "metadata": {},
   "outputs": [],
   "source": []
  }
 ],
 "metadata": {
  "kernelspec": {
   "display_name": "datproc",
   "language": "python",
   "name": "python3"
  },
  "language_info": {
   "codemirror_mode": {
    "name": "ipython",
    "version": 3
   },
   "file_extension": ".py",
   "mimetype": "text/x-python",
   "name": "python",
   "nbconvert_exporter": "python",
   "pygments_lexer": "ipython3",
   "version": "3.8.17"
  }
 },
 "nbformat": 4,
 "nbformat_minor": 2
}
