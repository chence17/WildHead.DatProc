{
 "cells": [
  {
   "cell_type": "markdown",
   "metadata": {},
   "source": [
    "# Statics of WEB dataset viewing direction"
   ]
  },
  {
   "cell_type": "code",
   "execution_count": 1,
   "metadata": {},
   "outputs": [],
   "source": [
    "import json, os, tqdm"
   ]
  },
  {
   "cell_type": "code",
   "execution_count": 2,
   "metadata": {},
   "outputs": [],
   "source": [
    "json_path = '/data/PanoHeadData/single_view_hq/dataset.json'\n",
    "with open(json_path, 'r') as f:\n",
    "    dataset = json.load(f)"
   ]
  },
  {
   "cell_type": "code",
   "execution_count": 3,
   "metadata": {},
   "outputs": [
    {
     "name": "stderr",
     "output_type": "stream",
     "text": [
      "  0%|          | 0/404524 [00:00<?, ?it/s]"
     ]
    },
    {
     "name": "stdout",
     "output_type": "stream",
     "text": [
      "00000/img00000000.png{\n",
      "    \"data_source\": \"FFHQ\",\n",
      "    \"camera\": [\n",
      "        0.9199845194816589,\n",
      "        -0.004887542687356472,\n",
      "        0.391928493976593,\n",
      "        -1.0582069158554077,\n",
      "        0.02866552025079727,\n",
      "        -0.9964868426322937,\n",
      "        -0.07882832735776901,\n",
      "        0.21283648908138275,\n",
      "        0.3909051716327667,\n",
      "        0.08360766619443893,\n",
      "        -0.9166123270988464,\n",
      "        2.474853277206421,\n",
      "        0.0,\n",
      "        0.0,\n",
      "        0.0,\n",
      "        1.0,\n",
      "        4.2647,\n",
      "        0.0,\n",
      "        0.5,\n",
      "        0.0,\n",
      "        4.2647,\n",
      "        0.5,\n",
      "        0.0,\n",
      "        0.0,\n",
      "        1.0\n",
      "    ],\n",
      "    \"hpose\": [\n",
      "        -23.012277603149414,\n",
      "        1.7729947566986084,\n",
      "        -5.218562602996826\n",
      "    ],\n",
      "    \"align_box\": [\n",
      "        139.2390243902439,\n",
      "        139.55121951219513,\n",
      "        738.0292682926829,\n",
      "        738.0292682926829\n",
      "    ],\n",
      "    \"align_quad\": [\n",
      "        [\n",
      "            139.4185975609756,\n",
      "            139.7737471417683\n",
      "        ],\n",
      "        [\n",
      "            139.4185975609756,\n",
      "            877.7139481707317\n",
      "        ],\n",
      "        [\n",
      "            877.3588414634146,\n",
      "            877.7138719512195\n",
      "        ],\n",
      "        [\n",
      "            877.3588414634146,\n",
      "            139.77373285060975\n",
      "        ]\n",
      "    ],\n",
      "    \"view\": \"front\",\n",
      "    \"head_image_path\": \"head_images/30838_00.png\",\n",
      "    \"head_parsing_path\": \"head_parsing/30838_00.png\",\n",
      "    \"align_image_path\": \"align_images/30838_00.png\",\n",
      "    \"align_parsing_path\": \"align_parsing/30838_00.png\",\n",
      "    \"camera_scoord\": [\n",
      "        66.84923774085792,\n",
      "        85.47877874577978,\n",
      "        2.699999998434827,\n",
      "        -1.0582069158554077,\n",
      "        0.21283648908138275,\n",
      "        2.474853277206421\n",
      "    ],\n",
      "    \"svd_score\": 0.4996859456678176,\n",
      "    \"laplacian_score\": 475.57311619805154,\n",
      "    \"iv2b_ratio\": 0.08323170731707319,\n",
      "    \"head_region_thresh\": 0.7599859923210156,\n",
      "    \"dup_num\": 2\n",
      "}\n"
     ]
    },
    {
     "name": "stderr",
     "output_type": "stream",
     "text": [
      "\n"
     ]
    }
   ],
   "source": [
    "for image_name, image_meta in tqdm.tqdm(dataset.items()):\n",
    "    print(image_name, end=\"\")\n",
    "    print(json.dumps(image_meta, indent=4))\n",
    "    break"
   ]
  },
  {
   "cell_type": "code",
   "execution_count": 6,
   "metadata": {},
   "outputs": [
    {
     "name": "stderr",
     "output_type": "stream",
     "text": [
      "100%|██████████| 404524/404524 [00:00<00:00, 1322006.84it/s]"
     ]
    },
    {
     "name": "stdout",
     "output_type": "stream",
     "text": [
      "front 14117\n",
      "back 1423\n",
      "left 5555\n",
      "right 4685\n",
      "Total number of front view images=25780\n"
     ]
    },
    {
     "name": "stderr",
     "output_type": "stream",
     "text": [
      "\n"
     ]
    }
   ],
   "source": [
    "views = {'front':[], 'back':[], 'left':[], 'right':[]}\n",
    "total_nums = 0\n",
    "for image_name, image_meta in tqdm.tqdm(dataset.items()):\n",
    "    data_source = image_meta['data_source']\n",
    "    if data_source != 'Web': continue\n",
    "    total_nums += 1\n",
    "    view_dir = image_meta['view']\n",
    "    views[view_dir].append(image_name)\n",
    "for dir in views.keys():\n",
    "    print(dir, len(views[dir]))\n",
    "print(f'Total number of front view images={total_nums}')\n"
   ]
  }
 ],
 "metadata": {
  "kernelspec": {
   "display_name": "3DHeadGen",
   "language": "python",
   "name": "python3"
  },
  "language_info": {
   "codemirror_mode": {
    "name": "ipython",
    "version": 3
   },
   "file_extension": ".py",
   "mimetype": "text/x-python",
   "name": "python",
   "nbconvert_exporter": "python",
   "pygments_lexer": "ipython3",
   "version": "3.9.17"
  }
 },
 "nbformat": 4,
 "nbformat_minor": 2
}
