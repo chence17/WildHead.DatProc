{
 "cells": [
  {
   "cell_type": "code",
   "execution_count": 1,
   "metadata": {},
   "outputs": [],
   "source": [
    "import os, json, tqdm\n",
    "import numpy as np\n",
    "import shutil\n",
    "import cv2\n",
    "from PIL import Image\n",
    "from IPython.display import display\n",
    "import matplotlib.pyplot as plt"
   ]
  },
  {
   "cell_type": "code",
   "execution_count": 2,
   "metadata": {},
   "outputs": [],
   "source": [
    "json_path = '/data2/chence/PanoHeadData/single_view_hq/dataset_v2_balanced_nohat.json'\n",
    "src_parsing_dir = '/data2/chence/PanoHeadData/single_view_hq/align_parsing'\n",
    "src_image_dir = '/data2/chence/PanoHeadData/single_view_hq/align_images'\n",
    "with open(json_path, 'r') as f:\n",
    "    dataset_json = json.load(f)"
   ]
  },
  {
   "cell_type": "code",
   "execution_count": 3,
   "metadata": {},
   "outputs": [
    {
     "name": "stderr",
     "output_type": "stream",
     "text": [
      " 37%|███▋      | 79929/214672 [00:24<00:40, 3304.87it/s]\n"
     ]
    },
    {
     "ename": "KeyboardInterrupt",
     "evalue": "",
     "output_type": "error",
     "traceback": [
      "\u001b[0;31m---------------------------------------------------------------------------\u001b[0m",
      "\u001b[0;31mIndexError\u001b[0m                                Traceback (most recent call last)",
      "File \u001b[0;32m~/.conda/envs/datproc/lib/python3.8/multiprocessing/pool.py:851\u001b[0m, in \u001b[0;36mIMapIterator.next\u001b[0;34m(self, timeout)\u001b[0m\n\u001b[1;32m    850\u001b[0m \u001b[39mtry\u001b[39;00m:\n\u001b[0;32m--> 851\u001b[0m     item \u001b[39m=\u001b[39m \u001b[39mself\u001b[39;49m\u001b[39m.\u001b[39;49m_items\u001b[39m.\u001b[39;49mpopleft()\n\u001b[1;32m    852\u001b[0m \u001b[39mexcept\u001b[39;00m \u001b[39mIndexError\u001b[39;00m:\n",
      "\u001b[0;31mIndexError\u001b[0m: pop from an empty deque",
      "\nDuring handling of the above exception, another exception occurred:\n",
      "\u001b[0;31mKeyboardInterrupt\u001b[0m                         Traceback (most recent call last)",
      "\u001b[1;32m/home/shitianhao/project/DatProc/X14.fiter_hat.ipynb Cell 3\u001b[0m line \u001b[0;36m2\n\u001b[1;32m     <a href='vscode-notebook-cell://ssh-remote%2Bwoot/home/shitianhao/project/DatProc/X14.fiter_hat.ipynb#W2sdnNjb2RlLXJlbW90ZQ%3D%3D?line=22'>23</a>\u001b[0m remove_names \u001b[39m=\u001b[39m []\n\u001b[1;32m     <a href='vscode-notebook-cell://ssh-remote%2Bwoot/home/shitianhao/project/DatProc/X14.fiter_hat.ipynb#W2sdnNjb2RlLXJlbW90ZQ%3D%3D?line=23'>24</a>\u001b[0m \u001b[39mwith\u001b[39;00m Pool(\u001b[39m128\u001b[39m) \u001b[39mas\u001b[39;00m p:\n\u001b[0;32m---> <a href='vscode-notebook-cell://ssh-remote%2Bwoot/home/shitianhao/project/DatProc/X14.fiter_hat.ipynb#W2sdnNjb2RlLXJlbW90ZQ%3D%3D?line=24'>25</a>\u001b[0m     result \u001b[39m=\u001b[39m \u001b[39mlist\u001b[39;49m(tqdm(p\u001b[39m.\u001b[39;49mimap(process_image, all_keys), total\u001b[39m=\u001b[39;49m\u001b[39mlen\u001b[39;49m(all_keys)))\n\u001b[1;32m     <a href='vscode-notebook-cell://ssh-remote%2Bwoot/home/shitianhao/project/DatProc/X14.fiter_hat.ipynb#W2sdnNjb2RlLXJlbW90ZQ%3D%3D?line=25'>26</a>\u001b[0m result \u001b[39m=\u001b[39m np\u001b[39m.\u001b[39marray(result)\n",
      "File \u001b[0;32m~/.conda/envs/datproc/lib/python3.8/site-packages/tqdm/std.py:1182\u001b[0m, in \u001b[0;36mtqdm.__iter__\u001b[0;34m(self)\u001b[0m\n\u001b[1;32m   1179\u001b[0m time \u001b[39m=\u001b[39m \u001b[39mself\u001b[39m\u001b[39m.\u001b[39m_time\n\u001b[1;32m   1181\u001b[0m \u001b[39mtry\u001b[39;00m:\n\u001b[0;32m-> 1182\u001b[0m     \u001b[39mfor\u001b[39;00m obj \u001b[39min\u001b[39;00m iterable:\n\u001b[1;32m   1183\u001b[0m         \u001b[39myield\u001b[39;00m obj\n\u001b[1;32m   1184\u001b[0m         \u001b[39m# Update and possibly print the progressbar.\u001b[39;00m\n\u001b[1;32m   1185\u001b[0m         \u001b[39m# Note: does not call self.update(1) for speed optimisation.\u001b[39;00m\n",
      "File \u001b[0;32m~/.conda/envs/datproc/lib/python3.8/multiprocessing/pool.py:856\u001b[0m, in \u001b[0;36mIMapIterator.next\u001b[0;34m(self, timeout)\u001b[0m\n\u001b[1;32m    854\u001b[0m     \u001b[39mself\u001b[39m\u001b[39m.\u001b[39m_pool \u001b[39m=\u001b[39m \u001b[39mNone\u001b[39;00m\n\u001b[1;32m    855\u001b[0m     \u001b[39mraise\u001b[39;00m \u001b[39mStopIteration\u001b[39;00m \u001b[39mfrom\u001b[39;00m \u001b[39mNone\u001b[39;00m\n\u001b[0;32m--> 856\u001b[0m \u001b[39mself\u001b[39;49m\u001b[39m.\u001b[39;49m_cond\u001b[39m.\u001b[39;49mwait(timeout)\n\u001b[1;32m    857\u001b[0m \u001b[39mtry\u001b[39;00m:\n\u001b[1;32m    858\u001b[0m     item \u001b[39m=\u001b[39m \u001b[39mself\u001b[39m\u001b[39m.\u001b[39m_items\u001b[39m.\u001b[39mpopleft()\n",
      "File \u001b[0;32m~/.conda/envs/datproc/lib/python3.8/threading.py:302\u001b[0m, in \u001b[0;36mCondition.wait\u001b[0;34m(self, timeout)\u001b[0m\n\u001b[1;32m    300\u001b[0m \u001b[39mtry\u001b[39;00m:    \u001b[39m# restore state no matter what (e.g., KeyboardInterrupt)\u001b[39;00m\n\u001b[1;32m    301\u001b[0m     \u001b[39mif\u001b[39;00m timeout \u001b[39mis\u001b[39;00m \u001b[39mNone\u001b[39;00m:\n\u001b[0;32m--> 302\u001b[0m         waiter\u001b[39m.\u001b[39;49macquire()\n\u001b[1;32m    303\u001b[0m         gotit \u001b[39m=\u001b[39m \u001b[39mTrue\u001b[39;00m\n\u001b[1;32m    304\u001b[0m     \u001b[39melse\u001b[39;00m:\n",
      "\u001b[0;31mKeyboardInterrupt\u001b[0m: "
     ]
    }
   ],
   "source": [
    "from multiprocessing import Pool\n",
    "from tqdm import tqdm\n",
    "\n",
    "def process_image(image_name):\n",
    "    parsing_path_abs = os.path.join(src_parsing_dir, image_name.replace('jpg','png'))\n",
    "    parsing_data = cv2.imread(parsing_path_abs, cv2.IMREAD_GRAYSCALE)\n",
    "    image_size = parsing_data.shape[0] * parsing_data.shape[1]\n",
    "    labels, counts = np.unique(parsing_data, return_counts=True)\n",
    "    if 18 in labels: \n",
    "        ratio = counts[labels == 18] / image_size\n",
    "        if ratio > 0.01: \n",
    "            # image_path_abs = os.path.join(src_image_dir, image_name)\n",
    "            # image_data = cv2.imread(image_path_abs, cv2.IMREAD_COLOR)\n",
    "            # fig, ax = plt.subplots(1, 2, figsize=(10, 5))\n",
    "            # ax[0].imshow(cv2.cvtColor(image_data, cv2.COLOR_BGR2RGB))\n",
    "            # ax[1].imshow(parsing_data)\n",
    "            # plt.show()\n",
    "            return image_name\n",
    "    return None\n",
    "\n",
    "\n",
    "all_keys = list(dataset_json.keys())\n",
    "remove_names = []\n",
    "with Pool(128) as p:\n",
    "    result = list(tqdm(p.imap(process_image, all_keys), total=len(all_keys)))\n",
    "result = np.array(result)\n",
    "\n"
   ]
  },
  {
   "cell_type": "code",
   "execution_count": 7,
   "metadata": {},
   "outputs": [
    {
     "name": "stdout",
     "output_type": "stream",
     "text": [
      "49617\n",
      "214672\n"
     ]
    }
   ],
   "source": [
    "count = 0\n",
    "dataset_json_copy = dataset_json.copy()\n",
    "for r in result:\n",
    "    if r is not None: \n",
    "        del dataset_json_copy[r]\n",
    "        count += 1\n",
    "print(count)\n",
    "print(len(dataset_json_copy))\n",
    "with open(json_path.replace('.json', '_nohat.json'), 'w') as f:\n",
    "    json.dump(dataset_json_copy, f)\n"
   ]
  }
 ],
 "metadata": {
  "kernelspec": {
   "display_name": "datproc",
   "language": "python",
   "name": "python3"
  },
  "language_info": {
   "codemirror_mode": {
    "name": "ipython",
    "version": 3
   },
   "file_extension": ".py",
   "mimetype": "text/x-python",
   "name": "python",
   "nbconvert_exporter": "python",
   "pygments_lexer": "ipython3",
   "version": "3.8.17"
  }
 },
 "nbformat": 4,
 "nbformat_minor": 2
}
