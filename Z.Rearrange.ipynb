{
 "cells": [
  {
   "cell_type": "code",
   "execution_count": null,
   "metadata": {},
   "outputs": [],
   "source": [
    "import os\n",
    "import os.path as osp\n",
    "\n",
    "src_dir = \"data/K-Hairstyle/original_data/Training/rawset_crop\"\n",
    "tgt_dir = \"data/K-Hairstyle/processed_data_0830/Training\"\n",
    "\n",
    "sub_save_dirs = ['image1024', 'image1024_face_mask', 'image1024_hair_mask', 'image1024_padding_mask', 'image563', 'image563_face_mask', 'image563_hair_mask', 'image563_padding_mask', 'info_dict']\n",
    "\n",
    "for sub_save_dir in sub_save_dirs:\n",
    "    os.makedirs(osp.join(tgt_dir, sub_save_dir), exist_ok=True)\n",
    "\n",
    "src_sub_dirs = sorted(os.listdir(src_dir))\n",
    "for src_sub_dir in src_sub_dirs:\n",
    "    src_sub_dir_path = osp.join(src_dir, src_sub_dir)\n",
    "    src_sub_sub_dirs = sorted(os.listdir(src_sub_dir_path))\n",
    "    print(src_sub_sub_dirs)\n",
    "    break"
   ]
  },
  {
   "cell_type": "code",
   "execution_count": null,
   "metadata": {},
   "outputs": [],
   "source": []
  }
 ],
 "metadata": {
  "language_info": {
   "name": "python"
  }
 },
 "nbformat": 4,
 "nbformat_minor": 2
}
